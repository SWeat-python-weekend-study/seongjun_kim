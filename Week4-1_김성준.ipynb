{
  "nbformat": 4,
  "nbformat_minor": 0,
  "metadata": {
    "colab": {
      "name": "Week4-1_김성준.ipynb",
      "provenance": [],
      "toc_visible": true,
      "authorship_tag": "ABX9TyNTqaxI2NSgomPyRbzb6k/j"
    },
    "kernelspec": {
      "name": "python3",
      "display_name": "Python 3"
    }
  },
  "cells": [
    {
      "cell_type": "markdown",
      "metadata": {
        "id": "uv7bpLn4dO8K"
      },
      "source": [
        "### __(1) 하루 승인 거래 건수 분석__"
      ]
    },
    {
      "cell_type": "code",
      "metadata": {
        "colab": {
          "base_uri": "https://localhost:8080/"
        },
        "id": "ixzeDBoRdemH",
        "outputId": "cba9c8b6-23a6-403e-939b-d3a58b28fd55"
      },
      "source": [
        "cd sample_data/"
      ],
      "execution_count": 2,
      "outputs": [
        {
          "output_type": "stream",
          "text": [
            "/content/sample_data\n"
          ],
          "name": "stdout"
        }
      ]
    },
    {
      "cell_type": "code",
      "metadata": {
        "colab": {
          "base_uri": "https://localhost:8080/",
          "height": 35
        },
        "id": "HaZnnQmcdsOj",
        "outputId": "8d0f35a3-ae63-45fb-e19a-81c6eeea7c01"
      },
      "source": [
        "pwd"
      ],
      "execution_count": 3,
      "outputs": [
        {
          "output_type": "execute_result",
          "data": {
            "application/vnd.google.colaboratory.intrinsic+json": {
              "type": "string"
            },
            "text/plain": [
              "'/content/sample_data'"
            ]
          },
          "metadata": {
            "tags": []
          },
          "execution_count": 3
        }
      ]
    },
    {
      "cell_type": "code",
      "metadata": {
        "colab": {
          "base_uri": "https://localhost:8080/"
        },
        "id": "REdxmXJxdtbD",
        "outputId": "cee99805-1f08-40fc-8142-c13e0002090d"
      },
      "source": [
        "ls"
      ],
      "execution_count": 4,
      "outputs": [
        {
          "output_type": "stream",
          "text": [
            "\u001b[0m\u001b[01;32manscombe.json\u001b[0m*                mnist_test.csv         trns_1day_series.csv\n",
            "california_housing_test.csv   mnist_train_small.csv\n",
            "california_housing_train.csv  \u001b[01;32mREADME.md\u001b[0m*\n"
          ],
          "name": "stdout"
        }
      ]
    },
    {
      "cell_type": "code",
      "metadata": {
        "colab": {
          "base_uri": "https://localhost:8080/",
          "height": 204
        },
        "id": "sgTz69kYcrRQ",
        "outputId": "aa3b5f61-c97e-43da-d1cf-d8e342e19765"
      },
      "source": [
        "import pandas as pd\r\n",
        "import numpy as np\r\n",
        "\r\n",
        "df = pd.read_csv('trns_1day_series.csv')\r\n",
        "df.head()"
      ],
      "execution_count": 8,
      "outputs": [
        {
          "output_type": "execute_result",
          "data": {
            "text/html": [
              "<div>\n",
              "<style scoped>\n",
              "    .dataframe tbody tr th:only-of-type {\n",
              "        vertical-align: middle;\n",
              "    }\n",
              "\n",
              "    .dataframe tbody tr th {\n",
              "        vertical-align: top;\n",
              "    }\n",
              "\n",
              "    .dataframe thead th {\n",
              "        text-align: right;\n",
              "    }\n",
              "</style>\n",
              "<table border=\"1\" class=\"dataframe\">\n",
              "  <thead>\n",
              "    <tr style=\"text-align: right;\">\n",
              "      <th></th>\n",
              "      <th>SEND</th>\n",
              "      <th>RECV</th>\n",
              "      <th>APPROVAL</th>\n",
              "      <th>REJECT</th>\n",
              "    </tr>\n",
              "  </thead>\n",
              "  <tbody>\n",
              "    <tr>\n",
              "      <th>0</th>\n",
              "      <td>4779</td>\n",
              "      <td>5045</td>\n",
              "      <td>4024</td>\n",
              "      <td>755</td>\n",
              "    </tr>\n",
              "    <tr>\n",
              "      <th>1</th>\n",
              "      <td>5103</td>\n",
              "      <td>5055</td>\n",
              "      <td>4196</td>\n",
              "      <td>907</td>\n",
              "    </tr>\n",
              "    <tr>\n",
              "      <th>2</th>\n",
              "      <td>5035</td>\n",
              "      <td>5073</td>\n",
              "      <td>4653</td>\n",
              "      <td>382</td>\n",
              "    </tr>\n",
              "    <tr>\n",
              "      <th>3</th>\n",
              "      <td>4757</td>\n",
              "      <td>4762</td>\n",
              "      <td>4530</td>\n",
              "      <td>227</td>\n",
              "    </tr>\n",
              "    <tr>\n",
              "      <th>4</th>\n",
              "      <td>4639</td>\n",
              "      <td>4664</td>\n",
              "      <td>4425</td>\n",
              "      <td>214</td>\n",
              "    </tr>\n",
              "  </tbody>\n",
              "</table>\n",
              "</div>"
            ],
            "text/plain": [
              "   SEND  RECV  APPROVAL  REJECT\n",
              "0  4779  5045      4024     755\n",
              "1  5103  5055      4196     907\n",
              "2  5035  5073      4653     382\n",
              "3  4757  4762      4530     227\n",
              "4  4639  4664      4425     214"
            ]
          },
          "metadata": {
            "tags": []
          },
          "execution_count": 8
        }
      ]
    },
    {
      "cell_type": "code",
      "metadata": {
        "colab": {
          "base_uri": "https://localhost:8080/",
          "height": 297
        },
        "id": "9hfJx9eQd7Kc",
        "outputId": "e5de392b-7ea7-4f24-8264-c00dd7f1d8a0"
      },
      "source": [
        "df.describe()"
      ],
      "execution_count": 9,
      "outputs": [
        {
          "output_type": "execute_result",
          "data": {
            "text/html": [
              "<div>\n",
              "<style scoped>\n",
              "    .dataframe tbody tr th:only-of-type {\n",
              "        vertical-align: middle;\n",
              "    }\n",
              "\n",
              "    .dataframe tbody tr th {\n",
              "        vertical-align: top;\n",
              "    }\n",
              "\n",
              "    .dataframe thead th {\n",
              "        text-align: right;\n",
              "    }\n",
              "</style>\n",
              "<table border=\"1\" class=\"dataframe\">\n",
              "  <thead>\n",
              "    <tr style=\"text-align: right;\">\n",
              "      <th></th>\n",
              "      <th>SEND</th>\n",
              "      <th>RECV</th>\n",
              "      <th>APPROVAL</th>\n",
              "      <th>REJECT</th>\n",
              "    </tr>\n",
              "  </thead>\n",
              "  <tbody>\n",
              "    <tr>\n",
              "      <th>count</th>\n",
              "      <td>1440.000000</td>\n",
              "      <td>1440.000000</td>\n",
              "      <td>1440.000000</td>\n",
              "      <td>1440.000000</td>\n",
              "    </tr>\n",
              "    <tr>\n",
              "      <th>mean</th>\n",
              "      <td>10274.082639</td>\n",
              "      <td>10274.831944</td>\n",
              "      <td>10062.034722</td>\n",
              "      <td>212.047917</td>\n",
              "    </tr>\n",
              "    <tr>\n",
              "      <th>std</th>\n",
              "      <td>6683.456958</td>\n",
              "      <td>6683.442065</td>\n",
              "      <td>6584.390468</td>\n",
              "      <td>135.078228</td>\n",
              "    </tr>\n",
              "    <tr>\n",
              "      <th>min</th>\n",
              "      <td>769.000000</td>\n",
              "      <td>769.000000</td>\n",
              "      <td>714.000000</td>\n",
              "      <td>16.000000</td>\n",
              "    </tr>\n",
              "    <tr>\n",
              "      <th>25%</th>\n",
              "      <td>3580.750000</td>\n",
              "      <td>3579.250000</td>\n",
              "      <td>3469.000000</td>\n",
              "      <td>84.000000</td>\n",
              "    </tr>\n",
              "    <tr>\n",
              "      <th>50%</th>\n",
              "      <td>11115.000000</td>\n",
              "      <td>11133.500000</td>\n",
              "      <td>10901.500000</td>\n",
              "      <td>210.500000</td>\n",
              "    </tr>\n",
              "    <tr>\n",
              "      <th>75%</th>\n",
              "      <td>15745.000000</td>\n",
              "      <td>15729.250000</td>\n",
              "      <td>15451.000000</td>\n",
              "      <td>305.000000</td>\n",
              "    </tr>\n",
              "    <tr>\n",
              "      <th>max</th>\n",
              "      <td>24859.000000</td>\n",
              "      <td>24911.000000</td>\n",
              "      <td>24565.000000</td>\n",
              "      <td>907.000000</td>\n",
              "    </tr>\n",
              "  </tbody>\n",
              "</table>\n",
              "</div>"
            ],
            "text/plain": [
              "               SEND          RECV      APPROVAL       REJECT\n",
              "count   1440.000000   1440.000000   1440.000000  1440.000000\n",
              "mean   10274.082639  10274.831944  10062.034722   212.047917\n",
              "std     6683.456958   6683.442065   6584.390468   135.078228\n",
              "min      769.000000    769.000000    714.000000    16.000000\n",
              "25%     3580.750000   3579.250000   3469.000000    84.000000\n",
              "50%    11115.000000  11133.500000  10901.500000   210.500000\n",
              "75%    15745.000000  15729.250000  15451.000000   305.000000\n",
              "max    24859.000000  24911.000000  24565.000000   907.000000"
            ]
          },
          "metadata": {
            "tags": []
          },
          "execution_count": 9
        }
      ]
    },
    {
      "cell_type": "code",
      "metadata": {
        "colab": {
          "base_uri": "https://localhost:8080/"
        },
        "id": "Vvy2a8NYd9Yg",
        "outputId": "4c9ec4d2-d529-499f-ba1d-f0c34c709828"
      },
      "source": [
        "len(df)"
      ],
      "execution_count": 10,
      "outputs": [
        {
          "output_type": "execute_result",
          "data": {
            "text/plain": [
              "1440"
            ]
          },
          "metadata": {
            "tags": []
          },
          "execution_count": 10
        }
      ]
    },
    {
      "cell_type": "code",
      "metadata": {
        "colab": {
          "base_uri": "https://localhost:8080/"
        },
        "id": "cV013q2zd_kO",
        "outputId": "51c855e0-86e3-4dd1-ff2d-ddb0726f9e01"
      },
      "source": [
        "pd.date_range('00:00', '23:59', freq = '1min')"
      ],
      "execution_count": 11,
      "outputs": [
        {
          "output_type": "execute_result",
          "data": {
            "text/plain": [
              "DatetimeIndex(['2021-03-08 00:00:00', '2021-03-08 00:01:00',\n",
              "               '2021-03-08 00:02:00', '2021-03-08 00:03:00',\n",
              "               '2021-03-08 00:04:00', '2021-03-08 00:05:00',\n",
              "               '2021-03-08 00:06:00', '2021-03-08 00:07:00',\n",
              "               '2021-03-08 00:08:00', '2021-03-08 00:09:00',\n",
              "               ...\n",
              "               '2021-03-08 23:50:00', '2021-03-08 23:51:00',\n",
              "               '2021-03-08 23:52:00', '2021-03-08 23:53:00',\n",
              "               '2021-03-08 23:54:00', '2021-03-08 23:55:00',\n",
              "               '2021-03-08 23:56:00', '2021-03-08 23:57:00',\n",
              "               '2021-03-08 23:58:00', '2021-03-08 23:59:00'],\n",
              "              dtype='datetime64[ns]', length=1440, freq='T')"
            ]
          },
          "metadata": {
            "tags": []
          },
          "execution_count": 11
        }
      ]
    },
    {
      "cell_type": "code",
      "metadata": {
        "colab": {
          "base_uri": "https://localhost:8080/",
          "height": 450
        },
        "id": "t5A5DUnQeJmE",
        "outputId": "8c7e8026-d6d0-4d65-9b90-2e2fb47db018"
      },
      "source": [
        "df['TIME'] = pd.date_range('00:00', '23:59', freq = '1min')\r\n",
        "df = df.set_index('TIME')\r\n",
        "df"
      ],
      "execution_count": 16,
      "outputs": [
        {
          "output_type": "execute_result",
          "data": {
            "text/html": [
              "<div>\n",
              "<style scoped>\n",
              "    .dataframe tbody tr th:only-of-type {\n",
              "        vertical-align: middle;\n",
              "    }\n",
              "\n",
              "    .dataframe tbody tr th {\n",
              "        vertical-align: top;\n",
              "    }\n",
              "\n",
              "    .dataframe thead th {\n",
              "        text-align: right;\n",
              "    }\n",
              "</style>\n",
              "<table border=\"1\" class=\"dataframe\">\n",
              "  <thead>\n",
              "    <tr style=\"text-align: right;\">\n",
              "      <th></th>\n",
              "      <th>SEND</th>\n",
              "      <th>RECV</th>\n",
              "      <th>APPROVAL</th>\n",
              "      <th>REJECT</th>\n",
              "    </tr>\n",
              "    <tr>\n",
              "      <th>TIME</th>\n",
              "      <th></th>\n",
              "      <th></th>\n",
              "      <th></th>\n",
              "      <th></th>\n",
              "    </tr>\n",
              "  </thead>\n",
              "  <tbody>\n",
              "    <tr>\n",
              "      <th>2021-03-08 00:00:00</th>\n",
              "      <td>4779</td>\n",
              "      <td>5045</td>\n",
              "      <td>4024</td>\n",
              "      <td>755</td>\n",
              "    </tr>\n",
              "    <tr>\n",
              "      <th>2021-03-08 00:01:00</th>\n",
              "      <td>5103</td>\n",
              "      <td>5055</td>\n",
              "      <td>4196</td>\n",
              "      <td>907</td>\n",
              "    </tr>\n",
              "    <tr>\n",
              "      <th>2021-03-08 00:02:00</th>\n",
              "      <td>5035</td>\n",
              "      <td>5073</td>\n",
              "      <td>4653</td>\n",
              "      <td>382</td>\n",
              "    </tr>\n",
              "    <tr>\n",
              "      <th>2021-03-08 00:03:00</th>\n",
              "      <td>4757</td>\n",
              "      <td>4762</td>\n",
              "      <td>4530</td>\n",
              "      <td>227</td>\n",
              "    </tr>\n",
              "    <tr>\n",
              "      <th>2021-03-08 00:04:00</th>\n",
              "      <td>4639</td>\n",
              "      <td>4664</td>\n",
              "      <td>4425</td>\n",
              "      <td>214</td>\n",
              "    </tr>\n",
              "    <tr>\n",
              "      <th>...</th>\n",
              "      <td>...</td>\n",
              "      <td>...</td>\n",
              "      <td>...</td>\n",
              "      <td>...</td>\n",
              "    </tr>\n",
              "    <tr>\n",
              "      <th>2021-03-08 23:55:00</th>\n",
              "      <td>5280</td>\n",
              "      <td>5269</td>\n",
              "      <td>5110</td>\n",
              "      <td>170</td>\n",
              "    </tr>\n",
              "    <tr>\n",
              "      <th>2021-03-08 23:56:00</th>\n",
              "      <td>5202</td>\n",
              "      <td>5210</td>\n",
              "      <td>5056</td>\n",
              "      <td>146</td>\n",
              "    </tr>\n",
              "    <tr>\n",
              "      <th>2021-03-08 23:57:00</th>\n",
              "      <td>5210</td>\n",
              "      <td>5221</td>\n",
              "      <td>5006</td>\n",
              "      <td>204</td>\n",
              "    </tr>\n",
              "    <tr>\n",
              "      <th>2021-03-08 23:58:00</th>\n",
              "      <td>5111</td>\n",
              "      <td>5097</td>\n",
              "      <td>4935</td>\n",
              "      <td>176</td>\n",
              "    </tr>\n",
              "    <tr>\n",
              "      <th>2021-03-08 23:59:00</th>\n",
              "      <td>5202</td>\n",
              "      <td>5199</td>\n",
              "      <td>4940</td>\n",
              "      <td>262</td>\n",
              "    </tr>\n",
              "  </tbody>\n",
              "</table>\n",
              "<p>1440 rows × 4 columns</p>\n",
              "</div>"
            ],
            "text/plain": [
              "                     SEND  RECV  APPROVAL  REJECT\n",
              "TIME                                             \n",
              "2021-03-08 00:00:00  4779  5045      4024     755\n",
              "2021-03-08 00:01:00  5103  5055      4196     907\n",
              "2021-03-08 00:02:00  5035  5073      4653     382\n",
              "2021-03-08 00:03:00  4757  4762      4530     227\n",
              "2021-03-08 00:04:00  4639  4664      4425     214\n",
              "...                   ...   ...       ...     ...\n",
              "2021-03-08 23:55:00  5280  5269      5110     170\n",
              "2021-03-08 23:56:00  5202  5210      5056     146\n",
              "2021-03-08 23:57:00  5210  5221      5006     204\n",
              "2021-03-08 23:58:00  5111  5097      4935     176\n",
              "2021-03-08 23:59:00  5202  5199      4940     262\n",
              "\n",
              "[1440 rows x 4 columns]"
            ]
          },
          "metadata": {
            "tags": []
          },
          "execution_count": 16
        }
      ]
    },
    {
      "cell_type": "code",
      "metadata": {
        "colab": {
          "base_uri": "https://localhost:8080/",
          "height": 308
        },
        "id": "Ej3kVR6IeuBy",
        "outputId": "d069013e-aa19-406f-8c10-432d7389a1f0"
      },
      "source": [
        "df['GAP'] = np.abs(df.SEND - df.RECV)\r\n",
        "df.plot(y = 'GAP')"
      ],
      "execution_count": 17,
      "outputs": [
        {
          "output_type": "execute_result",
          "data": {
            "text/plain": [
              "<matplotlib.axes._subplots.AxesSubplot at 0x7f44d8d98a90>"
            ]
          },
          "metadata": {
            "tags": []
          },
          "execution_count": 17
        },
        {
          "output_type": "display_data",
          "data": {
            "image/png": "[encoded data removed]",
            "text/plain": [
              "<Figure size 432x288 with 1 Axes>"
            ]
          },
          "metadata": {
            "tags": [],
            "needs_background": "light"
          }
        }
      ]
    },
    {
      "cell_type": "code",
      "metadata": {
        "colab": {
          "base_uri": "https://localhost:8080/",
          "height": 308
        },
        "id": "yMNhJBBsfLlF",
        "outputId": "3692e9fd-f2c2-4123-9b21-0e372f05f47a"
      },
      "source": [
        "df['REJECT_AVG'] = df.REJECT / (df.APPROVAL + df.REJECT) * 100\r\n",
        "df.plot(y = 'REJECT_AVG')"
      ],
      "execution_count": 18,
      "outputs": [
        {
          "output_type": "execute_result",
          "data": {
            "text/plain": [
              "<matplotlib.axes._subplots.AxesSubplot at 0x7f44d4657390>"
            ]
          },
          "metadata": {
            "tags": []
          },
          "execution_count": 18
        },
        {
          "output_type": "display_data",
          "data": {
            "image/png": "[encoded data removed]",
            "text/plain": [
              "<Figure size 432x288 with 1 Axes>"
            ]
          },
          "metadata": {
            "tags": [],
            "needs_background": "light"
          }
        }
      ]
    },
    {
      "cell_type": "code",
      "metadata": {
        "colab": {
          "base_uri": "https://localhost:8080/"
        },
        "id": "ktL40gS8fYBu",
        "outputId": "e65e4caa-914f-4cec-d441-19ef0296ebc6"
      },
      "source": [
        "len(df)"
      ],
      "execution_count": 20,
      "outputs": [
        {
          "output_type": "execute_result",
          "data": {
            "text/plain": [
              "1440"
            ]
          },
          "metadata": {
            "tags": []
          },
          "execution_count": 20
        }
      ]
    },
    {
      "cell_type": "code",
      "metadata": {
        "colab": {
          "base_uri": "https://localhost:8080/"
        },
        "id": "0O2w15e2ff6b",
        "outputId": "bcb571ed-c227-443a-e160-59139e183bf9"
      },
      "source": [
        "np.arange(0, len(df))"
      ],
      "execution_count": 21,
      "outputs": [
        {
          "output_type": "execute_result",
          "data": {
            "text/plain": [
              "array([   0,    1,    2, ..., 1437, 1438, 1439])"
            ]
          },
          "metadata": {
            "tags": []
          },
          "execution_count": 21
        }
      ]
    },
    {
      "cell_type": "code",
      "metadata": {
        "colab": {
          "base_uri": "https://localhost:8080/"
        },
        "id": "kfVZTSo2fhJz",
        "outputId": "fafe8a27-5ea7-4078-f14c-d1b3863152d0"
      },
      "source": [
        "np.array(df.APPROVAL)"
      ],
      "execution_count": 22,
      "outputs": [
        {
          "output_type": "execute_result",
          "data": {
            "text/plain": [
              "array([4024, 4196, 4653, ..., 5006, 4935, 4940])"
            ]
          },
          "metadata": {
            "tags": []
          },
          "execution_count": 22
        }
      ]
    },
    {
      "cell_type": "code",
      "metadata": {
        "colab": {
          "base_uri": "https://localhost:8080/",
          "height": 308
        },
        "id": "1szGQubOfiv7",
        "outputId": "4d1e741c-6a4e-4a8c-b026-4f5d6a014298"
      },
      "source": [
        "fp = np.polyfit(np.arange(0, len(df)), np.array(df.APPROVAL), 8)\r\n",
        "fd = np.poly1d(fp)\r\n",
        "df['REGRESSION'] = fd(np.arange(0, len(df)))\r\n",
        "df.plot(y = ['APPROVAL', 'REGRESSION'])"
      ],
      "execution_count": 23,
      "outputs": [
        {
          "output_type": "execute_result",
          "data": {
            "text/plain": [
              "<matplotlib.axes._subplots.AxesSubplot at 0x7f44d30e3cd0>"
            ]
          },
          "metadata": {
            "tags": []
          },
          "execution_count": 23
        },
        {
          "output_type": "display_data",
          "data": {
            "image/png": "[encoded data removed]",
            "text/plain": [
              "<Figure size 432x288 with 1 Axes>"
            ]
          },
          "metadata": {
            "tags": [],
            "needs_background": "light"
          }
        }
      ]
    },
    {
      "cell_type": "code",
      "metadata": {
        "colab": {
          "base_uri": "https://localhost:8080/"
        },
        "id": "BzNY_MDWf-_f",
        "outputId": "5d1c1977-7456-43e0-924f-aca1885782a5"
      },
      "source": [
        "((df.APPROVAL - df.REGRESSION) ** 2).sum() / 1440"
      ],
      "execution_count": 24,
      "outputs": [
        {
          "output_type": "execute_result",
          "data": {
            "text/plain": [
              "2289273.532760556"
            ]
          },
          "metadata": {
            "tags": []
          },
          "execution_count": 24
        }
      ]
    },
    {
      "cell_type": "code",
      "metadata": {
        "colab": {
          "base_uri": "https://localhost:8080/"
        },
        "id": "yJCB3cErgGrz",
        "outputId": "a0d79f2e-2a34-4c35-b730-fd3665737b64"
      },
      "source": [
        "((df.APPROVAL - df.REGRESSION) ** 2).mean()"
      ],
      "execution_count": 25,
      "outputs": [
        {
          "output_type": "execute_result",
          "data": {
            "text/plain": [
              "2289273.5327605517"
            ]
          },
          "metadata": {
            "tags": []
          },
          "execution_count": 25
        }
      ]
    },
    {
      "cell_type": "code",
      "metadata": {
        "colab": {
          "base_uri": "https://localhost:8080/"
        },
        "id": "IVYDxZcIgLaB",
        "outputId": "09cf2127-fc27-4700-82ba-bce6f7f789be"
      },
      "source": [
        "mse = ((df.APPROVAL - df.REGRESSION) ** 2).mean()\r\n",
        "rmse = np.sqrt(mse)\r\n",
        "\r\n",
        "print(rmse, mse)"
      ],
      "execution_count": 26,
      "outputs": [
        {
          "output_type": "stream",
          "text": [
            "1513.0345444703341 2289273.5327605517\n"
          ],
          "name": "stdout"
        }
      ]
    },
    {
      "cell_type": "code",
      "metadata": {
        "colab": {
          "base_uri": "https://localhost:8080/"
        },
        "id": "7e34aDh7gTgE",
        "outputId": "799093ef-c12c-47f4-9ecb-e97861453b9e"
      },
      "source": [
        "hh_list = np.array(df.APPROVAL).reshape(24, 60)\r\n",
        "hh_list"
      ],
      "execution_count": 29,
      "outputs": [
        {
          "output_type": "execute_result",
          "data": {
            "text/plain": [
              "array([[ 4024,  4196,  4653, ...,  3684,  3586,  3576],\n",
              "       [ 3507,  3689,  3542, ...,  2501,  2360,  2340],\n",
              "       [ 2058,  2010,  1858, ...,  1162,  1174,  1222],\n",
              "       ...,\n",
              "       [13822, 13825, 13903, ..., 10940, 10827, 10839],\n",
              "       [10824, 10834, 10665, ...,  7589,  7378,  7470],\n",
              "       [ 7482,  7307,  7314, ...,  5006,  4935,  4940]])"
            ]
          },
          "metadata": {
            "tags": []
          },
          "execution_count": 29
        }
      ]
    },
    {
      "cell_type": "code",
      "metadata": {
        "colab": {
          "base_uri": "https://localhost:8080/"
        },
        "id": "U7lIY8JLgwac",
        "outputId": "cc2fff0d-d62a-44a1-b5f0-276051a5f612"
      },
      "source": [
        "hh_list.shape"
      ],
      "execution_count": 30,
      "outputs": [
        {
          "output_type": "execute_result",
          "data": {
            "text/plain": [
              "(24, 60)"
            ]
          },
          "metadata": {
            "tags": []
          },
          "execution_count": 30
        }
      ]
    },
    {
      "cell_type": "code",
      "metadata": {
        "colab": {
          "base_uri": "https://localhost:8080/",
          "height": 310
        },
        "id": "PC2A3vnngylh",
        "outputId": "56bcb4a0-66a6-44ec-bfae-5c6e52b6e446"
      },
      "source": [
        "reg_list = []\r\n",
        "for mm_list in hh_list:\r\n",
        "  x = np.arange(0, 60)\r\n",
        "  y = mm_list\r\n",
        "  fp = np.polyfit(x, y, 4)\r\n",
        "  fn = np.poly1d(fp)\r\n",
        "  reg_list.append(fn(x))\r\n",
        "\r\n",
        "df['REGRESSION_H'] = np.array(reg_list).flatten()\r\n",
        "df.plot(y = ['REGRESSION', 'REGRESSION_H'])"
      ],
      "execution_count": 32,
      "outputs": [
        {
          "output_type": "execute_result",
          "data": {
            "text/plain": [
              "<matplotlib.axes._subplots.AxesSubplot at 0x7f44ca256790>"
            ]
          },
          "metadata": {
            "tags": []
          },
          "execution_count": 32
        },
        {
          "output_type": "display_data",
          "data": {
            "image/png": "[encoded data removed]",
            "text/plain": [
              "<Figure size 432x288 with 1 Axes>"
            ]
          },
          "metadata": {
            "tags": [],
            "needs_background": "light"
          }
        }
      ]
    },
    {
      "cell_type": "markdown",
      "metadata": {
        "id": "szF03rPlhO4n"
      },
      "source": [
        "### __(2) 전문 거래 로그 분석__"
      ]
    },
    {
      "cell_type": "code",
      "metadata": {
        "colab": {
          "base_uri": "https://localhost:8080/",
          "height": 419
        },
        "id": "VwGt5iEwhgbU",
        "outputId": "6a4575ca-c9d8-49c0-bc13-b96743a8e471"
      },
      "source": [
        "log_df = pd.read_csv('trns_msg_log.csv', sep = ':', dtype = str)\r\n",
        "log_df"
      ],
      "execution_count": 43,
      "outputs": [
        {
          "output_type": "execute_result",
          "data": {
            "text/html": [
              "<div>\n",
              "<style scoped>\n",
              "    .dataframe tbody tr th:only-of-type {\n",
              "        vertical-align: middle;\n",
              "    }\n",
              "\n",
              "    .dataframe tbody tr th {\n",
              "        vertical-align: top;\n",
              "    }\n",
              "\n",
              "    .dataframe thead th {\n",
              "        text-align: right;\n",
              "    }\n",
              "</style>\n",
              "<table border=\"1\" class=\"dataframe\">\n",
              "  <thead>\n",
              "    <tr style=\"text-align: right;\">\n",
              "      <th></th>\n",
              "      <th>TRNS</th>\n",
              "      <th>MSG_CODE</th>\n",
              "      <th>TIME</th>\n",
              "      <th>RESP_CODE</th>\n",
              "      <th>FIRM_CODE</th>\n",
              "      <th>SEQ</th>\n",
              "    </tr>\n",
              "  </thead>\n",
              "  <tbody>\n",
              "    <tr>\n",
              "      <th>0</th>\n",
              "      <td>1</td>\n",
              "      <td>0100</td>\n",
              "      <td>133000</td>\n",
              "      <td></td>\n",
              "      <td>03</td>\n",
              "      <td>2e65c202e525e90e1d95</td>\n",
              "    </tr>\n",
              "    <tr>\n",
              "      <th>1</th>\n",
              "      <td>1</td>\n",
              "      <td>0300</td>\n",
              "      <td>133000</td>\n",
              "      <td></td>\n",
              "      <td>48</td>\n",
              "      <td>802407d045fa5d1a8287</td>\n",
              "    </tr>\n",
              "    <tr>\n",
              "      <th>2</th>\n",
              "      <td>1</td>\n",
              "      <td>0200</td>\n",
              "      <td>133000</td>\n",
              "      <td></td>\n",
              "      <td>03</td>\n",
              "      <td>a1d3e524e4751b450a20</td>\n",
              "    </tr>\n",
              "    <tr>\n",
              "      <th>3</th>\n",
              "      <td>1</td>\n",
              "      <td>0200</td>\n",
              "      <td>133000</td>\n",
              "      <td></td>\n",
              "      <td>11</td>\n",
              "      <td>ed976e8de9708d167a64</td>\n",
              "    </tr>\n",
              "    <tr>\n",
              "      <th>4</th>\n",
              "      <td>1</td>\n",
              "      <td>9300</td>\n",
              "      <td>133000</td>\n",
              "      <td></td>\n",
              "      <td>03</td>\n",
              "      <td>b7a878a4ff5d3076dd4b</td>\n",
              "    </tr>\n",
              "    <tr>\n",
              "      <th>...</th>\n",
              "      <td>...</td>\n",
              "      <td>...</td>\n",
              "      <td>...</td>\n",
              "      <td>...</td>\n",
              "      <td>...</td>\n",
              "      <td>...</td>\n",
              "    </tr>\n",
              "    <tr>\n",
              "      <th>1995</th>\n",
              "      <td>2</td>\n",
              "      <td>9310</td>\n",
              "      <td>133107</td>\n",
              "      <td>K2</td>\n",
              "      <td>20</td>\n",
              "      <td>7abfa25505d8561d6ee3</td>\n",
              "    </tr>\n",
              "    <tr>\n",
              "      <th>1996</th>\n",
              "      <td>2</td>\n",
              "      <td>0430</td>\n",
              "      <td>133107</td>\n",
              "      <td>00</td>\n",
              "      <td>72</td>\n",
              "      <td>917057d635b367f53749</td>\n",
              "    </tr>\n",
              "    <tr>\n",
              "      <th>1997</th>\n",
              "      <td>2</td>\n",
              "      <td>0210</td>\n",
              "      <td>133108</td>\n",
              "      <td>01</td>\n",
              "      <td>11</td>\n",
              "      <td>3ecb20d384f3ef53a96a</td>\n",
              "    </tr>\n",
              "    <tr>\n",
              "      <th>1998</th>\n",
              "      <td>2</td>\n",
              "      <td>0430</td>\n",
              "      <td>133108</td>\n",
              "      <td>00</td>\n",
              "      <td>20</td>\n",
              "      <td>f9951616122039cadea7</td>\n",
              "    </tr>\n",
              "    <tr>\n",
              "      <th>1999</th>\n",
              "      <td>2</td>\n",
              "      <td>9310</td>\n",
              "      <td>133108</td>\n",
              "      <td>01</td>\n",
              "      <td>20</td>\n",
              "      <td>31066c8f2c7ae54da482</td>\n",
              "    </tr>\n",
              "  </tbody>\n",
              "</table>\n",
              "<p>2000 rows × 6 columns</p>\n",
              "</div>"
            ],
            "text/plain": [
              "     TRNS MSG_CODE    TIME RESP_CODE FIRM_CODE                   SEQ\n",
              "0       1     0100  133000                  03  2e65c202e525e90e1d95\n",
              "1       1     0300  133000                  48  802407d045fa5d1a8287\n",
              "2       1     0200  133000                  03  a1d3e524e4751b450a20\n",
              "3       1     0200  133000                  11  ed976e8de9708d167a64\n",
              "4       1     9300  133000                  03  b7a878a4ff5d3076dd4b\n",
              "...   ...      ...     ...       ...       ...                   ...\n",
              "1995    2     9310  133107        K2        20  7abfa25505d8561d6ee3\n",
              "1996    2     0430  133107        00        72  917057d635b367f53749\n",
              "1997    2     0210  133108        01        11  3ecb20d384f3ef53a96a\n",
              "1998    2     0430  133108        00        20  f9951616122039cadea7\n",
              "1999    2     9310  133108        01        20  31066c8f2c7ae54da482\n",
              "\n",
              "[2000 rows x 6 columns]"
            ]
          },
          "metadata": {
            "tags": []
          },
          "execution_count": 43
        }
      ]
    },
    {
      "cell_type": "code",
      "metadata": {
        "colab": {
          "base_uri": "https://localhost:8080/",
          "height": 421
        },
        "id": "r7zyKvNhkl5f",
        "outputId": "7db3d071-4781-4671-f4dd-fb4470659451"
      },
      "source": [
        "msg_df = pd.read_csv('trns_msg_info.csv', dtype = str)\r\n",
        "msg_df"
      ],
      "execution_count": 44,
      "outputs": [
        {
          "output_type": "execute_result",
          "data": {
            "text/html": [
              "<div>\n",
              "<style scoped>\n",
              "    .dataframe tbody tr th:only-of-type {\n",
              "        vertical-align: middle;\n",
              "    }\n",
              "\n",
              "    .dataframe tbody tr th {\n",
              "        vertical-align: top;\n",
              "    }\n",
              "\n",
              "    .dataframe thead th {\n",
              "        text-align: right;\n",
              "    }\n",
              "</style>\n",
              "<table border=\"1\" class=\"dataframe\">\n",
              "  <thead>\n",
              "    <tr style=\"text-align: right;\">\n",
              "      <th></th>\n",
              "      <th>MSG_CODE</th>\n",
              "      <th>MSG_NAME</th>\n",
              "    </tr>\n",
              "  </thead>\n",
              "  <tbody>\n",
              "    <tr>\n",
              "      <th>0</th>\n",
              "      <td>0100</td>\n",
              "      <td>MS승인요청</td>\n",
              "    </tr>\n",
              "    <tr>\n",
              "      <th>1</th>\n",
              "      <td>0110</td>\n",
              "      <td>MS승인응답</td>\n",
              "    </tr>\n",
              "    <tr>\n",
              "      <th>2</th>\n",
              "      <td>0300</td>\n",
              "      <td>IC승인 요청</td>\n",
              "    </tr>\n",
              "    <tr>\n",
              "      <th>3</th>\n",
              "      <td>0310</td>\n",
              "      <td>IC승인 응답</td>\n",
              "    </tr>\n",
              "    <tr>\n",
              "      <th>4</th>\n",
              "      <td>0420</td>\n",
              "      <td>MS승인취소 요청</td>\n",
              "    </tr>\n",
              "    <tr>\n",
              "      <th>5</th>\n",
              "      <td>0430</td>\n",
              "      <td>MS승인취소 응답</td>\n",
              "    </tr>\n",
              "    <tr>\n",
              "      <th>6</th>\n",
              "      <td>9300</td>\n",
              "      <td>기타승인 요청</td>\n",
              "    </tr>\n",
              "    <tr>\n",
              "      <th>7</th>\n",
              "      <td>9310</td>\n",
              "      <td>기타승인 응답</td>\n",
              "    </tr>\n",
              "    <tr>\n",
              "      <th>8</th>\n",
              "      <td>0400</td>\n",
              "      <td>IC승인취소 요청</td>\n",
              "    </tr>\n",
              "    <tr>\n",
              "      <th>9</th>\n",
              "      <td>0410</td>\n",
              "      <td>IC승인취소 응답</td>\n",
              "    </tr>\n",
              "    <tr>\n",
              "      <th>10</th>\n",
              "      <td>0200</td>\n",
              "      <td>현금서비스 요청</td>\n",
              "    </tr>\n",
              "    <tr>\n",
              "      <th>11</th>\n",
              "      <td>0210</td>\n",
              "      <td>현금서비스 응답</td>\n",
              "    </tr>\n",
              "  </tbody>\n",
              "</table>\n",
              "</div>"
            ],
            "text/plain": [
              "   MSG_CODE   MSG_NAME\n",
              "0      0100     MS승인요청\n",
              "1      0110     MS승인응답\n",
              "2      0300    IC승인 요청\n",
              "3      0310    IC승인 응답\n",
              "4      0420  MS승인취소 요청\n",
              "5      0430  MS승인취소 응답\n",
              "6      9300    기타승인 요청\n",
              "7      9310    기타승인 응답\n",
              "8      0400  IC승인취소 요청\n",
              "9      0410  IC승인취소 응답\n",
              "10     0200   현금서비스 요청\n",
              "11     0210   현금서비스 응답"
            ]
          },
          "metadata": {
            "tags": []
          },
          "execution_count": 44
        }
      ]
    },
    {
      "cell_type": "code",
      "metadata": {
        "colab": {
          "base_uri": "https://localhost:8080/",
          "height": 235
        },
        "id": "gUSjz7c5kpGD",
        "outputId": "a19ae0a3-9447-4b79-e1db-a8f6fafdc591"
      },
      "source": [
        "firm_df = pd.read_csv('trns_firm_info.csv', dtype=str)\r\n",
        "firm_df"
      ],
      "execution_count": 47,
      "outputs": [
        {
          "output_type": "execute_result",
          "data": {
            "text/html": [
              "<div>\n",
              "<style scoped>\n",
              "    .dataframe tbody tr th:only-of-type {\n",
              "        vertical-align: middle;\n",
              "    }\n",
              "\n",
              "    .dataframe tbody tr th {\n",
              "        vertical-align: top;\n",
              "    }\n",
              "\n",
              "    .dataframe thead th {\n",
              "        text-align: right;\n",
              "    }\n",
              "</style>\n",
              "<table border=\"1\" class=\"dataframe\">\n",
              "  <thead>\n",
              "    <tr style=\"text-align: right;\">\n",
              "      <th></th>\n",
              "      <th>FIRM_CODE</th>\n",
              "      <th>FIRM_NAME</th>\n",
              "    </tr>\n",
              "  </thead>\n",
              "  <tbody>\n",
              "    <tr>\n",
              "      <th>0</th>\n",
              "      <td>03</td>\n",
              "      <td>IBK기업은행</td>\n",
              "    </tr>\n",
              "    <tr>\n",
              "      <th>1</th>\n",
              "      <td>11</td>\n",
              "      <td>NH농협은행</td>\n",
              "    </tr>\n",
              "    <tr>\n",
              "      <th>2</th>\n",
              "      <td>20</td>\n",
              "      <td>우리카드</td>\n",
              "    </tr>\n",
              "    <tr>\n",
              "      <th>3</th>\n",
              "      <td>23</td>\n",
              "      <td>SC제일은행</td>\n",
              "    </tr>\n",
              "    <tr>\n",
              "      <th>4</th>\n",
              "      <td>48</td>\n",
              "      <td>새마을금고</td>\n",
              "    </tr>\n",
              "    <tr>\n",
              "      <th>5</th>\n",
              "      <td>72</td>\n",
              "      <td>우체국</td>\n",
              "    </tr>\n",
              "  </tbody>\n",
              "</table>\n",
              "</div>"
            ],
            "text/plain": [
              "  FIRM_CODE FIRM_NAME\n",
              "0        03   IBK기업은행\n",
              "1        11    NH농협은행\n",
              "2        20      우리카드\n",
              "3        23    SC제일은행\n",
              "4        48     새마을금고\n",
              "5        72       우체국"
            ]
          },
          "metadata": {
            "tags": []
          },
          "execution_count": 47
        }
      ]
    },
    {
      "cell_type": "code",
      "metadata": {
        "colab": {
          "base_uri": "https://localhost:8080/",
          "height": 235
        },
        "id": "eEPWDSfVlNlk",
        "outputId": "7682aecd-9185-4220-9daf-2274fd916eae"
      },
      "source": [
        "resp_df = pd.read_csv('trns_msg_resp_code_info.csv', dtype=str)\r\n",
        "resp_df"
      ],
      "execution_count": 48,
      "outputs": [
        {
          "output_type": "execute_result",
          "data": {
            "text/html": [
              "<div>\n",
              "<style scoped>\n",
              "    .dataframe tbody tr th:only-of-type {\n",
              "        vertical-align: middle;\n",
              "    }\n",
              "\n",
              "    .dataframe tbody tr th {\n",
              "        vertical-align: top;\n",
              "    }\n",
              "\n",
              "    .dataframe thead th {\n",
              "        text-align: right;\n",
              "    }\n",
              "</style>\n",
              "<table border=\"1\" class=\"dataframe\">\n",
              "  <thead>\n",
              "    <tr style=\"text-align: right;\">\n",
              "      <th></th>\n",
              "      <th>RESP_CODE</th>\n",
              "      <th>RESP_NAME</th>\n",
              "    </tr>\n",
              "  </thead>\n",
              "  <tbody>\n",
              "    <tr>\n",
              "      <th>0</th>\n",
              "      <td>00</td>\n",
              "      <td>정상</td>\n",
              "    </tr>\n",
              "    <tr>\n",
              "      <th>1</th>\n",
              "      <td>01</td>\n",
              "      <td>정상</td>\n",
              "    </tr>\n",
              "    <tr>\n",
              "      <th>2</th>\n",
              "      <td>60</td>\n",
              "      <td>거래정지카드</td>\n",
              "    </tr>\n",
              "    <tr>\n",
              "      <th>3</th>\n",
              "      <td>63</td>\n",
              "      <td>분실도난카드</td>\n",
              "    </tr>\n",
              "    <tr>\n",
              "      <th>4</th>\n",
              "      <td>K2</td>\n",
              "      <td>유효검증오류</td>\n",
              "    </tr>\n",
              "    <tr>\n",
              "      <th>5</th>\n",
              "      <td>Z1</td>\n",
              "      <td>시스템장애</td>\n",
              "    </tr>\n",
              "  </tbody>\n",
              "</table>\n",
              "</div>"
            ],
            "text/plain": [
              "  RESP_CODE RESP_NAME\n",
              "0        00        정상\n",
              "1        01        정상\n",
              "2        60    거래정지카드\n",
              "3        63    분실도난카드\n",
              "4        K2    유효검증오류\n",
              "5        Z1     시스템장애"
            ]
          },
          "metadata": {
            "tags": []
          },
          "execution_count": 48
        }
      ]
    },
    {
      "cell_type": "code",
      "metadata": {
        "colab": {
          "base_uri": "https://localhost:8080/",
          "height": 419
        },
        "id": "lZuuvY4GlTVe",
        "outputId": "2bee664d-e804-414d-e707-4b468dd7a8c1"
      },
      "source": [
        "tf1 = pd.merge(log_df, msg_df, on=['MSG_CODE'], how='left')\r\n",
        "tf2 = pd.merge(tf1 , firm_df, on=['FIRM_CODE'], how='left')\r\n",
        "tf3 = pd.merge(tf2 , resp_df, on=['RESP_CODE'], how='left')\r\n",
        "tf3.loc[tf3.TRNS == '1', 'TRNS'] = 'SEND'\r\n",
        "tf3.loc[tf3.TRNS == '2', 'TRNS'] = 'RECV'\r\n",
        "tf3"
      ],
      "execution_count": 50,
      "outputs": [
        {
          "output_type": "execute_result",
          "data": {
            "text/html": [
              "<div>\n",
              "<style scoped>\n",
              "    .dataframe tbody tr th:only-of-type {\n",
              "        vertical-align: middle;\n",
              "    }\n",
              "\n",
              "    .dataframe tbody tr th {\n",
              "        vertical-align: top;\n",
              "    }\n",
              "\n",
              "    .dataframe thead th {\n",
              "        text-align: right;\n",
              "    }\n",
              "</style>\n",
              "<table border=\"1\" class=\"dataframe\">\n",
              "  <thead>\n",
              "    <tr style=\"text-align: right;\">\n",
              "      <th></th>\n",
              "      <th>TRNS</th>\n",
              "      <th>MSG_CODE</th>\n",
              "      <th>TIME</th>\n",
              "      <th>RESP_CODE</th>\n",
              "      <th>FIRM_CODE</th>\n",
              "      <th>SEQ</th>\n",
              "      <th>MSG_NAME</th>\n",
              "      <th>FIRM_NAME</th>\n",
              "      <th>RESP_NAME</th>\n",
              "    </tr>\n",
              "  </thead>\n",
              "  <tbody>\n",
              "    <tr>\n",
              "      <th>0</th>\n",
              "      <td>SEND</td>\n",
              "      <td>0100</td>\n",
              "      <td>133000</td>\n",
              "      <td></td>\n",
              "      <td>03</td>\n",
              "      <td>2e65c202e525e90e1d95</td>\n",
              "      <td>MS승인요청</td>\n",
              "      <td>IBK기업은행</td>\n",
              "      <td>NaN</td>\n",
              "    </tr>\n",
              "    <tr>\n",
              "      <th>1</th>\n",
              "      <td>SEND</td>\n",
              "      <td>0300</td>\n",
              "      <td>133000</td>\n",
              "      <td></td>\n",
              "      <td>48</td>\n",
              "      <td>802407d045fa5d1a8287</td>\n",
              "      <td>IC승인 요청</td>\n",
              "      <td>새마을금고</td>\n",
              "      <td>NaN</td>\n",
              "    </tr>\n",
              "    <tr>\n",
              "      <th>2</th>\n",
              "      <td>SEND</td>\n",
              "      <td>0200</td>\n",
              "      <td>133000</td>\n",
              "      <td></td>\n",
              "      <td>03</td>\n",
              "      <td>a1d3e524e4751b450a20</td>\n",
              "      <td>현금서비스 요청</td>\n",
              "      <td>IBK기업은행</td>\n",
              "      <td>NaN</td>\n",
              "    </tr>\n",
              "    <tr>\n",
              "      <th>3</th>\n",
              "      <td>SEND</td>\n",
              "      <td>0200</td>\n",
              "      <td>133000</td>\n",
              "      <td></td>\n",
              "      <td>11</td>\n",
              "      <td>ed976e8de9708d167a64</td>\n",
              "      <td>현금서비스 요청</td>\n",
              "      <td>NH농협은행</td>\n",
              "      <td>NaN</td>\n",
              "    </tr>\n",
              "    <tr>\n",
              "      <th>4</th>\n",
              "      <td>SEND</td>\n",
              "      <td>9300</td>\n",
              "      <td>133000</td>\n",
              "      <td></td>\n",
              "      <td>03</td>\n",
              "      <td>b7a878a4ff5d3076dd4b</td>\n",
              "      <td>기타승인 요청</td>\n",
              "      <td>IBK기업은행</td>\n",
              "      <td>NaN</td>\n",
              "    </tr>\n",
              "    <tr>\n",
              "      <th>...</th>\n",
              "      <td>...</td>\n",
              "      <td>...</td>\n",
              "      <td>...</td>\n",
              "      <td>...</td>\n",
              "      <td>...</td>\n",
              "      <td>...</td>\n",
              "      <td>...</td>\n",
              "      <td>...</td>\n",
              "      <td>...</td>\n",
              "    </tr>\n",
              "    <tr>\n",
              "      <th>1995</th>\n",
              "      <td>RECV</td>\n",
              "      <td>9310</td>\n",
              "      <td>133107</td>\n",
              "      <td>K2</td>\n",
              "      <td>20</td>\n",
              "      <td>7abfa25505d8561d6ee3</td>\n",
              "      <td>기타승인 응답</td>\n",
              "      <td>우리카드</td>\n",
              "      <td>유효검증오류</td>\n",
              "    </tr>\n",
              "    <tr>\n",
              "      <th>1996</th>\n",
              "      <td>RECV</td>\n",
              "      <td>0430</td>\n",
              "      <td>133107</td>\n",
              "      <td>00</td>\n",
              "      <td>72</td>\n",
              "      <td>917057d635b367f53749</td>\n",
              "      <td>MS승인취소 응답</td>\n",
              "      <td>우체국</td>\n",
              "      <td>정상</td>\n",
              "    </tr>\n",
              "    <tr>\n",
              "      <th>1997</th>\n",
              "      <td>RECV</td>\n",
              "      <td>0210</td>\n",
              "      <td>133108</td>\n",
              "      <td>01</td>\n",
              "      <td>11</td>\n",
              "      <td>3ecb20d384f3ef53a96a</td>\n",
              "      <td>현금서비스 응답</td>\n",
              "      <td>NH농협은행</td>\n",
              "      <td>정상</td>\n",
              "    </tr>\n",
              "    <tr>\n",
              "      <th>1998</th>\n",
              "      <td>RECV</td>\n",
              "      <td>0430</td>\n",
              "      <td>133108</td>\n",
              "      <td>00</td>\n",
              "      <td>20</td>\n",
              "      <td>f9951616122039cadea7</td>\n",
              "      <td>MS승인취소 응답</td>\n",
              "      <td>우리카드</td>\n",
              "      <td>정상</td>\n",
              "    </tr>\n",
              "    <tr>\n",
              "      <th>1999</th>\n",
              "      <td>RECV</td>\n",
              "      <td>9310</td>\n",
              "      <td>133108</td>\n",
              "      <td>01</td>\n",
              "      <td>20</td>\n",
              "      <td>31066c8f2c7ae54da482</td>\n",
              "      <td>기타승인 응답</td>\n",
              "      <td>우리카드</td>\n",
              "      <td>정상</td>\n",
              "    </tr>\n",
              "  </tbody>\n",
              "</table>\n",
              "<p>2000 rows × 9 columns</p>\n",
              "</div>"
            ],
            "text/plain": [
              "      TRNS MSG_CODE    TIME  ...   MSG_NAME FIRM_NAME RESP_NAME\n",
              "0     SEND     0100  133000  ...     MS승인요청   IBK기업은행       NaN\n",
              "1     SEND     0300  133000  ...    IC승인 요청     새마을금고       NaN\n",
              "2     SEND     0200  133000  ...   현금서비스 요청   IBK기업은행       NaN\n",
              "3     SEND     0200  133000  ...   현금서비스 요청    NH농협은행       NaN\n",
              "4     SEND     9300  133000  ...    기타승인 요청   IBK기업은행       NaN\n",
              "...    ...      ...     ...  ...        ...       ...       ...\n",
              "1995  RECV     9310  133107  ...    기타승인 응답      우리카드    유효검증오류\n",
              "1996  RECV     0430  133107  ...  MS승인취소 응답       우체국        정상\n",
              "1997  RECV     0210  133108  ...   현금서비스 응답    NH농협은행        정상\n",
              "1998  RECV     0430  133108  ...  MS승인취소 응답      우리카드        정상\n",
              "1999  RECV     9310  133108  ...    기타승인 응답      우리카드        정상\n",
              "\n",
              "[2000 rows x 9 columns]"
            ]
          },
          "metadata": {
            "tags": []
          },
          "execution_count": 50
        }
      ]
    },
    {
      "cell_type": "code",
      "metadata": {
        "colab": {
          "base_uri": "https://localhost:8080/",
          "height": 419
        },
        "id": "JYWsKTsulfxh",
        "outputId": "31f81f1f-6eb0-410a-d937-b08887290c1e"
      },
      "source": [
        "send_df = log_df[log_df.TRNS=='1']\r\n",
        "recv_df = log_df[log_df.TRNS =='2']\r\n",
        "tf = pd.merge(send_df, recv_df, on=['FIRM_CODE', 'SEQ'], how='outer')\r\n",
        "tf"
      ],
      "execution_count": 52,
      "outputs": [
        {
          "output_type": "execute_result",
          "data": {
            "text/html": [
              "<div>\n",
              "<style scoped>\n",
              "    .dataframe tbody tr th:only-of-type {\n",
              "        vertical-align: middle;\n",
              "    }\n",
              "\n",
              "    .dataframe tbody tr th {\n",
              "        vertical-align: top;\n",
              "    }\n",
              "\n",
              "    .dataframe thead th {\n",
              "        text-align: right;\n",
              "    }\n",
              "</style>\n",
              "<table border=\"1\" class=\"dataframe\">\n",
              "  <thead>\n",
              "    <tr style=\"text-align: right;\">\n",
              "      <th></th>\n",
              "      <th>TRNS_x</th>\n",
              "      <th>MSG_CODE_x</th>\n",
              "      <th>TIME_x</th>\n",
              "      <th>RESP_CODE_x</th>\n",
              "      <th>FIRM_CODE</th>\n",
              "      <th>SEQ</th>\n",
              "      <th>TRNS_y</th>\n",
              "      <th>MSG_CODE_y</th>\n",
              "      <th>TIME_y</th>\n",
              "      <th>RESP_CODE_y</th>\n",
              "    </tr>\n",
              "  </thead>\n",
              "  <tbody>\n",
              "    <tr>\n",
              "      <th>0</th>\n",
              "      <td>1</td>\n",
              "      <td>0100</td>\n",
              "      <td>133000</td>\n",
              "      <td></td>\n",
              "      <td>03</td>\n",
              "      <td>2e65c202e525e90e1d95</td>\n",
              "      <td>2</td>\n",
              "      <td>0110</td>\n",
              "      <td>133005</td>\n",
              "      <td>01</td>\n",
              "    </tr>\n",
              "    <tr>\n",
              "      <th>1</th>\n",
              "      <td>1</td>\n",
              "      <td>0300</td>\n",
              "      <td>133000</td>\n",
              "      <td></td>\n",
              "      <td>48</td>\n",
              "      <td>802407d045fa5d1a8287</td>\n",
              "      <td>2</td>\n",
              "      <td>0310</td>\n",
              "      <td>133001</td>\n",
              "      <td>01</td>\n",
              "    </tr>\n",
              "    <tr>\n",
              "      <th>2</th>\n",
              "      <td>1</td>\n",
              "      <td>0200</td>\n",
              "      <td>133000</td>\n",
              "      <td></td>\n",
              "      <td>03</td>\n",
              "      <td>a1d3e524e4751b450a20</td>\n",
              "      <td>2</td>\n",
              "      <td>0210</td>\n",
              "      <td>133000</td>\n",
              "      <td>01</td>\n",
              "    </tr>\n",
              "    <tr>\n",
              "      <th>3</th>\n",
              "      <td>1</td>\n",
              "      <td>0200</td>\n",
              "      <td>133000</td>\n",
              "      <td></td>\n",
              "      <td>11</td>\n",
              "      <td>ed976e8de9708d167a64</td>\n",
              "      <td>2</td>\n",
              "      <td>0210</td>\n",
              "      <td>133008</td>\n",
              "      <td>00</td>\n",
              "    </tr>\n",
              "    <tr>\n",
              "      <th>4</th>\n",
              "      <td>1</td>\n",
              "      <td>9300</td>\n",
              "      <td>133000</td>\n",
              "      <td></td>\n",
              "      <td>03</td>\n",
              "      <td>b7a878a4ff5d3076dd4b</td>\n",
              "      <td>2</td>\n",
              "      <td>9310</td>\n",
              "      <td>133003</td>\n",
              "      <td>01</td>\n",
              "    </tr>\n",
              "    <tr>\n",
              "      <th>...</th>\n",
              "      <td>...</td>\n",
              "      <td>...</td>\n",
              "      <td>...</td>\n",
              "      <td>...</td>\n",
              "      <td>...</td>\n",
              "      <td>...</td>\n",
              "      <td>...</td>\n",
              "      <td>...</td>\n",
              "      <td>...</td>\n",
              "      <td>...</td>\n",
              "    </tr>\n",
              "    <tr>\n",
              "      <th>995</th>\n",
              "      <td>1</td>\n",
              "      <td>0420</td>\n",
              "      <td>133059</td>\n",
              "      <td></td>\n",
              "      <td>03</td>\n",
              "      <td>226c76440f927213fc35</td>\n",
              "      <td>2</td>\n",
              "      <td>0430</td>\n",
              "      <td>133100</td>\n",
              "      <td>00</td>\n",
              "    </tr>\n",
              "    <tr>\n",
              "      <th>996</th>\n",
              "      <td>1</td>\n",
              "      <td>0420</td>\n",
              "      <td>133059</td>\n",
              "      <td></td>\n",
              "      <td>23</td>\n",
              "      <td>4a0813a414e8a43ae594</td>\n",
              "      <td>2</td>\n",
              "      <td>0430</td>\n",
              "      <td>133103</td>\n",
              "      <td>00</td>\n",
              "    </tr>\n",
              "    <tr>\n",
              "      <th>997</th>\n",
              "      <td>1</td>\n",
              "      <td>0420</td>\n",
              "      <td>133059</td>\n",
              "      <td></td>\n",
              "      <td>20</td>\n",
              "      <td>f9951616122039cadea7</td>\n",
              "      <td>2</td>\n",
              "      <td>0430</td>\n",
              "      <td>133108</td>\n",
              "      <td>00</td>\n",
              "    </tr>\n",
              "    <tr>\n",
              "      <th>998</th>\n",
              "      <td>1</td>\n",
              "      <td>0420</td>\n",
              "      <td>133059</td>\n",
              "      <td></td>\n",
              "      <td>72</td>\n",
              "      <td>917057d635b367f53749</td>\n",
              "      <td>2</td>\n",
              "      <td>0430</td>\n",
              "      <td>133107</td>\n",
              "      <td>00</td>\n",
              "    </tr>\n",
              "    <tr>\n",
              "      <th>999</th>\n",
              "      <td>1</td>\n",
              "      <td>0100</td>\n",
              "      <td>133059</td>\n",
              "      <td></td>\n",
              "      <td>03</td>\n",
              "      <td>ccf851df69182c5e024d</td>\n",
              "      <td>2</td>\n",
              "      <td>0110</td>\n",
              "      <td>133059</td>\n",
              "      <td>00</td>\n",
              "    </tr>\n",
              "  </tbody>\n",
              "</table>\n",
              "<p>1000 rows × 10 columns</p>\n",
              "</div>"
            ],
            "text/plain": [
              "    TRNS_x MSG_CODE_x  TIME_x RESP_CODE_x  ... TRNS_y MSG_CODE_y  TIME_y RESP_CODE_y\n",
              "0        1       0100  133000              ...      2       0110  133005          01\n",
              "1        1       0300  133000              ...      2       0310  133001          01\n",
              "2        1       0200  133000              ...      2       0210  133000          01\n",
              "3        1       0200  133000              ...      2       0210  133008          00\n",
              "4        1       9300  133000              ...      2       9310  133003          01\n",
              "..     ...        ...     ...         ...  ...    ...        ...     ...         ...\n",
              "995      1       0420  133059              ...      2       0430  133100          00\n",
              "996      1       0420  133059              ...      2       0430  133103          00\n",
              "997      1       0420  133059              ...      2       0430  133108          00\n",
              "998      1       0420  133059              ...      2       0430  133107          00\n",
              "999      1       0100  133059              ...      2       0110  133059          00\n",
              "\n",
              "[1000 rows x 10 columns]"
            ]
          },
          "metadata": {
            "tags": []
          },
          "execution_count": 52
        }
      ]
    },
    {
      "cell_type": "code",
      "metadata": {
        "colab": {
          "base_uri": "https://localhost:8080/",
          "height": 419
        },
        "id": "bka4Zr8Alnzh",
        "outputId": "07071965-deb6-4737-b761-c978ecd586ff"
      },
      "source": [
        "tf = tf [['SEQ', 'FIRM_CODE', 'MSG_CODE_x', 'TIME_x', 'TIME_y','RESP_CODE_y']]\r\n",
        "tf = tf.rename(columns={'MSG_CODE_x':'MSG_CODE', 'TIME_x':'SEND_TIME', 'TIME_y':'RECV_TIME',\r\n",
        "'RESP_CODE_y':'RESP_CODE'})\r\n",
        "tf"
      ],
      "execution_count": 53,
      "outputs": [
        {
          "output_type": "execute_result",
          "data": {
            "text/html": [
              "<div>\n",
              "<style scoped>\n",
              "    .dataframe tbody tr th:only-of-type {\n",
              "        vertical-align: middle;\n",
              "    }\n",
              "\n",
              "    .dataframe tbody tr th {\n",
              "        vertical-align: top;\n",
              "    }\n",
              "\n",
              "    .dataframe thead th {\n",
              "        text-align: right;\n",
              "    }\n",
              "</style>\n",
              "<table border=\"1\" class=\"dataframe\">\n",
              "  <thead>\n",
              "    <tr style=\"text-align: right;\">\n",
              "      <th></th>\n",
              "      <th>SEQ</th>\n",
              "      <th>FIRM_CODE</th>\n",
              "      <th>MSG_CODE</th>\n",
              "      <th>SEND_TIME</th>\n",
              "      <th>RECV_TIME</th>\n",
              "      <th>RESP_CODE</th>\n",
              "    </tr>\n",
              "  </thead>\n",
              "  <tbody>\n",
              "    <tr>\n",
              "      <th>0</th>\n",
              "      <td>2e65c202e525e90e1d95</td>\n",
              "      <td>03</td>\n",
              "      <td>0100</td>\n",
              "      <td>133000</td>\n",
              "      <td>133005</td>\n",
              "      <td>01</td>\n",
              "    </tr>\n",
              "    <tr>\n",
              "      <th>1</th>\n",
              "      <td>802407d045fa5d1a8287</td>\n",
              "      <td>48</td>\n",
              "      <td>0300</td>\n",
              "      <td>133000</td>\n",
              "      <td>133001</td>\n",
              "      <td>01</td>\n",
              "    </tr>\n",
              "    <tr>\n",
              "      <th>2</th>\n",
              "      <td>a1d3e524e4751b450a20</td>\n",
              "      <td>03</td>\n",
              "      <td>0200</td>\n",
              "      <td>133000</td>\n",
              "      <td>133000</td>\n",
              "      <td>01</td>\n",
              "    </tr>\n",
              "    <tr>\n",
              "      <th>3</th>\n",
              "      <td>ed976e8de9708d167a64</td>\n",
              "      <td>11</td>\n",
              "      <td>0200</td>\n",
              "      <td>133000</td>\n",
              "      <td>133008</td>\n",
              "      <td>00</td>\n",
              "    </tr>\n",
              "    <tr>\n",
              "      <th>4</th>\n",
              "      <td>b7a878a4ff5d3076dd4b</td>\n",
              "      <td>03</td>\n",
              "      <td>9300</td>\n",
              "      <td>133000</td>\n",
              "      <td>133003</td>\n",
              "      <td>01</td>\n",
              "    </tr>\n",
              "    <tr>\n",
              "      <th>...</th>\n",
              "      <td>...</td>\n",
              "      <td>...</td>\n",
              "      <td>...</td>\n",
              "      <td>...</td>\n",
              "      <td>...</td>\n",
              "      <td>...</td>\n",
              "    </tr>\n",
              "    <tr>\n",
              "      <th>995</th>\n",
              "      <td>226c76440f927213fc35</td>\n",
              "      <td>03</td>\n",
              "      <td>0420</td>\n",
              "      <td>133059</td>\n",
              "      <td>133100</td>\n",
              "      <td>00</td>\n",
              "    </tr>\n",
              "    <tr>\n",
              "      <th>996</th>\n",
              "      <td>4a0813a414e8a43ae594</td>\n",
              "      <td>23</td>\n",
              "      <td>0420</td>\n",
              "      <td>133059</td>\n",
              "      <td>133103</td>\n",
              "      <td>00</td>\n",
              "    </tr>\n",
              "    <tr>\n",
              "      <th>997</th>\n",
              "      <td>f9951616122039cadea7</td>\n",
              "      <td>20</td>\n",
              "      <td>0420</td>\n",
              "      <td>133059</td>\n",
              "      <td>133108</td>\n",
              "      <td>00</td>\n",
              "    </tr>\n",
              "    <tr>\n",
              "      <th>998</th>\n",
              "      <td>917057d635b367f53749</td>\n",
              "      <td>72</td>\n",
              "      <td>0420</td>\n",
              "      <td>133059</td>\n",
              "      <td>133107</td>\n",
              "      <td>00</td>\n",
              "    </tr>\n",
              "    <tr>\n",
              "      <th>999</th>\n",
              "      <td>ccf851df69182c5e024d</td>\n",
              "      <td>03</td>\n",
              "      <td>0100</td>\n",
              "      <td>133059</td>\n",
              "      <td>133059</td>\n",
              "      <td>00</td>\n",
              "    </tr>\n",
              "  </tbody>\n",
              "</table>\n",
              "<p>1000 rows × 6 columns</p>\n",
              "</div>"
            ],
            "text/plain": [
              "                      SEQ FIRM_CODE MSG_CODE SEND_TIME RECV_TIME RESP_CODE\n",
              "0    2e65c202e525e90e1d95        03     0100    133000    133005        01\n",
              "1    802407d045fa5d1a8287        48     0300    133000    133001        01\n",
              "2    a1d3e524e4751b450a20        03     0200    133000    133000        01\n",
              "3    ed976e8de9708d167a64        11     0200    133000    133008        00\n",
              "4    b7a878a4ff5d3076dd4b        03     9300    133000    133003        01\n",
              "..                    ...       ...      ...       ...       ...       ...\n",
              "995  226c76440f927213fc35        03     0420    133059    133100        00\n",
              "996  4a0813a414e8a43ae594        23     0420    133059    133103        00\n",
              "997  f9951616122039cadea7        20     0420    133059    133108        00\n",
              "998  917057d635b367f53749        72     0420    133059    133107        00\n",
              "999  ccf851df69182c5e024d        03     0100    133059    133059        00\n",
              "\n",
              "[1000 rows x 6 columns]"
            ]
          },
          "metadata": {
            "tags": []
          },
          "execution_count": 53
        }
      ]
    },
    {
      "cell_type": "code",
      "metadata": {
        "colab": {
          "base_uri": "https://localhost:8080/",
          "height": 419
        },
        "id": "Kl4_OhBFlsAZ",
        "outputId": "cf538912-aa6d-43ce-94cf-6df8df5df8f4"
      },
      "source": [
        "tf['S_DATETIME'] = pd.to_datetime(tf.SEND_TIME, format='%H%M%S')\r\n",
        "tf['R_DATETIME'] = pd.to_datetime(tf.RECV_TIME, format='%H%M%S')\r\n",
        "tf['TIME_GAP'] = tf.R_DATETIME - tf.S_DATETIME\r\n",
        "tf = tf.drop(['S_DATETIME','R_DATETIME'], axis=1)\r\n",
        "tf"
      ],
      "execution_count": 54,
      "outputs": [
        {
          "output_type": "execute_result",
          "data": {
            "text/html": [
              "<div>\n",
              "<style scoped>\n",
              "    .dataframe tbody tr th:only-of-type {\n",
              "        vertical-align: middle;\n",
              "    }\n",
              "\n",
              "    .dataframe tbody tr th {\n",
              "        vertical-align: top;\n",
              "    }\n",
              "\n",
              "    .dataframe thead th {\n",
              "        text-align: right;\n",
              "    }\n",
              "</style>\n",
              "<table border=\"1\" class=\"dataframe\">\n",
              "  <thead>\n",
              "    <tr style=\"text-align: right;\">\n",
              "      <th></th>\n",
              "      <th>SEQ</th>\n",
              "      <th>FIRM_CODE</th>\n",
              "      <th>MSG_CODE</th>\n",
              "      <th>SEND_TIME</th>\n",
              "      <th>RECV_TIME</th>\n",
              "      <th>RESP_CODE</th>\n",
              "      <th>TIME_GAP</th>\n",
              "    </tr>\n",
              "  </thead>\n",
              "  <tbody>\n",
              "    <tr>\n",
              "      <th>0</th>\n",
              "      <td>2e65c202e525e90e1d95</td>\n",
              "      <td>03</td>\n",
              "      <td>0100</td>\n",
              "      <td>133000</td>\n",
              "      <td>133005</td>\n",
              "      <td>01</td>\n",
              "      <td>0 days 00:00:05</td>\n",
              "    </tr>\n",
              "    <tr>\n",
              "      <th>1</th>\n",
              "      <td>802407d045fa5d1a8287</td>\n",
              "      <td>48</td>\n",
              "      <td>0300</td>\n",
              "      <td>133000</td>\n",
              "      <td>133001</td>\n",
              "      <td>01</td>\n",
              "      <td>0 days 00:00:01</td>\n",
              "    </tr>\n",
              "    <tr>\n",
              "      <th>2</th>\n",
              "      <td>a1d3e524e4751b450a20</td>\n",
              "      <td>03</td>\n",
              "      <td>0200</td>\n",
              "      <td>133000</td>\n",
              "      <td>133000</td>\n",
              "      <td>01</td>\n",
              "      <td>0 days 00:00:00</td>\n",
              "    </tr>\n",
              "    <tr>\n",
              "      <th>3</th>\n",
              "      <td>ed976e8de9708d167a64</td>\n",
              "      <td>11</td>\n",
              "      <td>0200</td>\n",
              "      <td>133000</td>\n",
              "      <td>133008</td>\n",
              "      <td>00</td>\n",
              "      <td>0 days 00:00:08</td>\n",
              "    </tr>\n",
              "    <tr>\n",
              "      <th>4</th>\n",
              "      <td>b7a878a4ff5d3076dd4b</td>\n",
              "      <td>03</td>\n",
              "      <td>9300</td>\n",
              "      <td>133000</td>\n",
              "      <td>133003</td>\n",
              "      <td>01</td>\n",
              "      <td>0 days 00:00:03</td>\n",
              "    </tr>\n",
              "    <tr>\n",
              "      <th>...</th>\n",
              "      <td>...</td>\n",
              "      <td>...</td>\n",
              "      <td>...</td>\n",
              "      <td>...</td>\n",
              "      <td>...</td>\n",
              "      <td>...</td>\n",
              "      <td>...</td>\n",
              "    </tr>\n",
              "    <tr>\n",
              "      <th>995</th>\n",
              "      <td>226c76440f927213fc35</td>\n",
              "      <td>03</td>\n",
              "      <td>0420</td>\n",
              "      <td>133059</td>\n",
              "      <td>133100</td>\n",
              "      <td>00</td>\n",
              "      <td>0 days 00:00:01</td>\n",
              "    </tr>\n",
              "    <tr>\n",
              "      <th>996</th>\n",
              "      <td>4a0813a414e8a43ae594</td>\n",
              "      <td>23</td>\n",
              "      <td>0420</td>\n",
              "      <td>133059</td>\n",
              "      <td>133103</td>\n",
              "      <td>00</td>\n",
              "      <td>0 days 00:00:04</td>\n",
              "    </tr>\n",
              "    <tr>\n",
              "      <th>997</th>\n",
              "      <td>f9951616122039cadea7</td>\n",
              "      <td>20</td>\n",
              "      <td>0420</td>\n",
              "      <td>133059</td>\n",
              "      <td>133108</td>\n",
              "      <td>00</td>\n",
              "      <td>0 days 00:00:09</td>\n",
              "    </tr>\n",
              "    <tr>\n",
              "      <th>998</th>\n",
              "      <td>917057d635b367f53749</td>\n",
              "      <td>72</td>\n",
              "      <td>0420</td>\n",
              "      <td>133059</td>\n",
              "      <td>133107</td>\n",
              "      <td>00</td>\n",
              "      <td>0 days 00:00:08</td>\n",
              "    </tr>\n",
              "    <tr>\n",
              "      <th>999</th>\n",
              "      <td>ccf851df69182c5e024d</td>\n",
              "      <td>03</td>\n",
              "      <td>0100</td>\n",
              "      <td>133059</td>\n",
              "      <td>133059</td>\n",
              "      <td>00</td>\n",
              "      <td>0 days 00:00:00</td>\n",
              "    </tr>\n",
              "  </tbody>\n",
              "</table>\n",
              "<p>1000 rows × 7 columns</p>\n",
              "</div>"
            ],
            "text/plain": [
              "                      SEQ FIRM_CODE  ... RESP_CODE        TIME_GAP\n",
              "0    2e65c202e525e90e1d95        03  ...        01 0 days 00:00:05\n",
              "1    802407d045fa5d1a8287        48  ...        01 0 days 00:00:01\n",
              "2    a1d3e524e4751b450a20        03  ...        01 0 days 00:00:00\n",
              "3    ed976e8de9708d167a64        11  ...        00 0 days 00:00:08\n",
              "4    b7a878a4ff5d3076dd4b        03  ...        01 0 days 00:00:03\n",
              "..                    ...       ...  ...       ...             ...\n",
              "995  226c76440f927213fc35        03  ...        00 0 days 00:00:01\n",
              "996  4a0813a414e8a43ae594        23  ...        00 0 days 00:00:04\n",
              "997  f9951616122039cadea7        20  ...        00 0 days 00:00:09\n",
              "998  917057d635b367f53749        72  ...        00 0 days 00:00:08\n",
              "999  ccf851df69182c5e024d        03  ...        00 0 days 00:00:00\n",
              "\n",
              "[1000 rows x 7 columns]"
            ]
          },
          "metadata": {
            "tags": []
          },
          "execution_count": 54
        }
      ]
    },
    {
      "cell_type": "code",
      "metadata": {
        "colab": {
          "base_uri": "https://localhost:8080/",
          "height": 1000
        },
        "id": "puUAtl1jlxgy",
        "outputId": "8c16b793-96cb-4bfe-f813-a83148d58d65"
      },
      "source": [
        "tf['SEC_GAP'] = tf['TIME_GAP'].dt.seconds\r\n",
        "tf['COUNT'] = 1\r\n",
        "tf.groupby('SEC_GAP').sum()\r\n",
        "df = tf.groupby('SEC_GAP')\r\n",
        "df.plot()"
      ],
      "execution_count": 60,
      "outputs": [
        {
          "output_type": "execute_result",
          "data": {
            "text/plain": [
              "SEC_GAP\n",
              "0    AxesSubplot(0.125,0.125;0.775x0.755)\n",
              "1    AxesSubplot(0.125,0.125;0.775x0.755)\n",
              "2    AxesSubplot(0.125,0.125;0.775x0.755)\n",
              "3    AxesSubplot(0.125,0.125;0.775x0.755)\n",
              "4    AxesSubplot(0.125,0.125;0.775x0.755)\n",
              "5    AxesSubplot(0.125,0.125;0.775x0.755)\n",
              "6    AxesSubplot(0.125,0.125;0.775x0.755)\n",
              "7    AxesSubplot(0.125,0.125;0.775x0.755)\n",
              "8    AxesSubplot(0.125,0.125;0.775x0.755)\n",
              "9    AxesSubplot(0.125,0.125;0.775x0.755)\n",
              "dtype: object"
            ]
          },
          "metadata": {
            "tags": []
          },
          "execution_count": 60
        },
        {
          "output_type": "display_data",
          "data": {
            "image/png": "[encoded data removed]",
            "text/plain": [
              "<Figure size 432x288 with 1 Axes>"
            ]
          },
          "metadata": {
            "tags": [],
            "needs_background": "light"
          }
        },
        {
          "output_type": "display_data",
          "data": {
            "image/png": "[encoded data removed]",
            "text/plain": [
              "<Figure size 432x288 with 1 Axes>"
            ]
          },
          "metadata": {
            "tags": [],
            "needs_background": "light"
          }
        },
        {
          "output_type": "display_data",
          "data": {
            "image/png": "[encoded data removed]",
            "text/plain": [
              "<Figure size 432x288 with 1 Axes>"
            ]
          },
          "metadata": {
            "tags": [],
            "needs_background": "light"
          }
        },
        {
          "output_type": "display_data",
          "data": {
            "image/png": "[encoded data removed]",
            "text/plain": [
              "<Figure size 432x288 with 1 Axes>"
            ]
          },
          "metadata": {
            "tags": [],
            "needs_background": "light"
          }
        },
        {
          "output_type": "display_data",
          "data": {
            "image/png": "[encoded data removed]",
            "text/plain": [
              "<Figure size 432x288 with 1 Axes>"
            ]
          },
          "metadata": {
            "tags": [],
            "needs_background": "light"
          }
        },
        {
          "output_type": "display_data",
          "data": {
            "image/png": "[encoded data removed]",
            "text/plain": [
              "<Figure size 432x288 with 1 Axes>"
            ]
          },
          "metadata": {
            "tags": [],
            "needs_background": "light"
          }
        },
        {
          "output_type": "display_data",
          "data": {
            "image/png": "[encoded data removed]",
            "text/plain": [
              "<Figure size 432x288 with 1 Axes>"
            ]
          },
          "metadata": {
            "tags": [],
            "needs_background": "light"
          }
        },
        {
          "output_type": "display_data",
          "data": {
            "image/png": "[encoded data removed]",
            "text/plain": [
              "<Figure size 432x288 with 1 Axes>"
            ]
          },
          "metadata": {
            "tags": [],
            "needs_background": "light"
          }
        },
        {
          "output_type": "display_data",
          "data": {
            "image/png": "[encoded data removed]",
            "text/plain": [
              "<Figure size 432x288 with 1 Axes>"
            ]
          },
          "metadata": {
            "tags": [],
            "needs_background": "light"
          }
        },
        {
          "output_type": "display_data",
          "data": {
            "image/png": "[encoded data removed]",
            "text/plain": [
              "<Figure size 432x288 with 1 Axes>"
            ]
          },
          "metadata": {
            "tags": [],
            "needs_background": "light"
          }
        }
      ]
    },
    {
      "cell_type": "code",
      "metadata": {
        "colab": {
          "base_uri": "https://localhost:8080/",
          "height": 394
        },
        "id": "RWpjsiGMmT85",
        "outputId": "f92b60f7-ebd0-4083-bf7f-3689a8941116"
      },
      "source": [
        "tf.groupby(['FIRM_CODE','TIME_GAP']).count()\r\n",
        "tf.groupby(['FIRM_CODE','TIME_GAP']).count().rename(columns={'SEQ':'COUNT'})\r\n",
        "tf.groupby(['FIRM_CODE','TIME_GAP']).count().rename(columns={'SEQ':'COUNT'}) [['COUNT']]\r\n",
        "df = tf.groupby(['FIRM_CODE', 'TIME_GAP']).count().rename(columns={'SEQ':'COUNT'}) [['COUNT']]\r\n",
        "df.plot(kind='bar', figsize=(15,4))"
      ],
      "execution_count": 58,
      "outputs": [
        {
          "output_type": "execute_result",
          "data": {
            "text/plain": [
              "<matplotlib.axes._subplots.AxesSubplot at 0x7f44c99b5050>"
            ]
          },
          "metadata": {
            "tags": []
          },
          "execution_count": 58
        },
        {
          "output_type": "display_data",
          "data": {
            "image/png": "[encoded data removed]",
            "text/plain": [
              "<Figure size 1080x288 with 1 Axes>"
            ]
          },
          "metadata": {
            "tags": [],
            "needs_background": "light"
          }
        }
      ]
    },
    {
      "cell_type": "code",
      "metadata": {
        "colab": {
          "base_uri": "https://localhost:8080/",
          "height": 393
        },
        "id": "yIp0W6Limj7B",
        "outputId": "c10cd343-191f-4d73-8d0b-af710f0c5723"
      },
      "source": [
        "zf = tf[['FIRM_CODE','MSG_CODE','TIME_GAP']]\r\n",
        "max_df = zf.groupby(['FIRM_CODE','MSG_CODE']).max().rename(columns={'TIME_GAP':'MAX_GAP'})\r\n",
        "min_df = zf.groupby(['FIRM_CODE','MSG_CODE']).min().rename(columns={'TIME_GAP':'MIN_GAP'})\r\n",
        "max_df = max_df.reset_index() \r\n",
        "min_df = min_df.reset_index() \r\n",
        "df = pd.merge(max_df, min_df)\r\n",
        "df['MAX_GAP'] = df.MAX_GAP.dt.seconds\r\n",
        "df['MIN_GAP'] = df.MIN_GAP.dt.seconds\r\n",
        "df.set_index(['FIRM_CODE','MSG_CODE']).plot(kind='bar', figsize=(10,5))"
      ],
      "execution_count": 61,
      "outputs": [
        {
          "output_type": "execute_result",
          "data": {
            "text/plain": [
              "<matplotlib.axes._subplots.AxesSubplot at 0x7f44d2c324d0>"
            ]
          },
          "metadata": {
            "tags": []
          },
          "execution_count": 61
        },
        {
          "output_type": "display_data",
          "data": {
            "image/png": "[encoded data removed]",
            "text/plain": [
              "<Figure size 720x360 with 1 Axes>"
            ]
          },
          "metadata": {
            "tags": [],
            "needs_background": "light"
          }
        }
      ]
    },
    {
      "cell_type": "markdown",
      "metadata": {
        "id": "ZoYEot3Um-a8"
      },
      "source": [
        "### __(3) 행정구역별 인구변화 분석__"
      ]
    },
    {
      "cell_type": "code",
      "metadata": {
        "id": "my1blsfenDIl"
      },
      "source": [
        "%matplotlib inline\r\n",
        "import pandas as pd\r\n",
        "from matplotlib import rcParams\r\n",
        "rcParams['font.sans-serif'] = 'Malgun Gothic'\r\n",
        "rcParams['font.weight']='regular'\r\n",
        "rcParams['figure.figsize'] = 15,10"
      ],
      "execution_count": 62,
      "outputs": []
    },
    {
      "cell_type": "code",
      "metadata": {
        "colab": {
          "base_uri": "https://localhost:8080/",
          "height": 782
        },
        "id": "FPV9BX8fnHsc",
        "outputId": "d01cc1b3-42fa-4c1e-fb75-c6222bc568da"
      },
      "source": [
        "df = pd.read_csv('행정구역_시군구_별__성별_인구수_2011_2020.csv', header=[0,1], index_col=0, encoding='CP949')\r\n",
        "df.head()"
      ],
      "execution_count": 65,
      "outputs": [
        {
          "output_type": "execute_result",
          "data": {
            "text/html": [
              "<div>\n",
              "<style scoped>\n",
              "    .dataframe tbody tr th:only-of-type {\n",
              "        vertical-align: middle;\n",
              "    }\n",
              "\n",
              "    .dataframe tbody tr th {\n",
              "        vertical-align: top;\n",
              "    }\n",
              "\n",
              "    .dataframe thead tr th {\n",
              "        text-align: left;\n",
              "    }\n",
              "</style>\n",
              "<table border=\"1\" class=\"dataframe\">\n",
              "  <thead>\n",
              "    <tr>\n",
              "      <th>행정구역(시군구)별</th>\n",
              "      <th colspan=\"3\" halign=\"left\">2020. 12</th>\n",
              "      <th colspan=\"3\" halign=\"left\">2021. 01</th>\n",
              "      <th colspan=\"3\" halign=\"left\">2021. 02</th>\n",
              "    </tr>\n",
              "    <tr>\n",
              "      <th>행정구역(시군구)별</th>\n",
              "      <th>총인구수 (명)</th>\n",
              "      <th>남자인구수 (명)</th>\n",
              "      <th>여자인구수 (명)</th>\n",
              "      <th>총인구수 (명)</th>\n",
              "      <th>남자인구수 (명)</th>\n",
              "      <th>여자인구수 (명)</th>\n",
              "      <th>총인구수 (명)</th>\n",
              "      <th>남자인구수 (명)</th>\n",
              "      <th>여자인구수 (명)</th>\n",
              "    </tr>\n",
              "  </thead>\n",
              "  <tbody>\n",
              "    <tr>\n",
              "      <th>전국</th>\n",
              "      <td>51829023</td>\n",
              "      <td>25841029</td>\n",
              "      <td>25987994</td>\n",
              "      <td>51825932</td>\n",
              "      <td>25838512</td>\n",
              "      <td>25987420</td>\n",
              "      <td>51824142</td>\n",
              "      <td>25836561</td>\n",
              "      <td>25987581</td>\n",
              "    </tr>\n",
              "    <tr>\n",
              "      <th>서울특별시</th>\n",
              "      <td>9668465</td>\n",
              "      <td>4701723</td>\n",
              "      <td>4966742</td>\n",
              "      <td>9657969</td>\n",
              "      <td>4695999</td>\n",
              "      <td>4961970</td>\n",
              "      <td>9648606</td>\n",
              "      <td>4690282</td>\n",
              "      <td>4958324</td>\n",
              "    </tr>\n",
              "    <tr>\n",
              "      <th>부산광역시</th>\n",
              "      <td>3391946</td>\n",
              "      <td>1661000</td>\n",
              "      <td>1730946</td>\n",
              "      <td>3389388</td>\n",
              "      <td>1659527</td>\n",
              "      <td>1729861</td>\n",
              "      <td>3387761</td>\n",
              "      <td>1658540</td>\n",
              "      <td>1729221</td>\n",
              "    </tr>\n",
              "    <tr>\n",
              "      <th>대구광역시</th>\n",
              "      <td>2418346</td>\n",
              "      <td>1193109</td>\n",
              "      <td>1225237</td>\n",
              "      <td>2415813</td>\n",
              "      <td>1191656</td>\n",
              "      <td>1224157</td>\n",
              "      <td>2413191</td>\n",
              "      <td>1190244</td>\n",
              "      <td>1222947</td>\n",
              "    </tr>\n",
              "    <tr>\n",
              "      <th>인천광역시</th>\n",
              "      <td>2942828</td>\n",
              "      <td>1473943</td>\n",
              "      <td>1468885</td>\n",
              "      <td>2942452</td>\n",
              "      <td>1473639</td>\n",
              "      <td>1468813</td>\n",
              "      <td>2941705</td>\n",
              "      <td>1473245</td>\n",
              "      <td>1468460</td>\n",
              "    </tr>\n",
              "  </tbody>\n",
              "</table>\n",
              "</div>"
            ],
            "text/plain": [
              "행정구역(시군구)별  2020. 12                      ...  2021. 02                    \n",
              "행정구역(시군구)별  총인구수 (명) 남자인구수 (명) 여자인구수 (명)  ...  총인구수 (명) 남자인구수 (명) 여자인구수 (명)\n",
              "전국          51829023  25841029  25987994  ...  51824142  25836561  25987581\n",
              "서울특별시        9668465   4701723   4966742  ...   9648606   4690282   4958324\n",
              "부산광역시        3391946   1661000   1730946  ...   3387761   1658540   1729221\n",
              "대구광역시        2418346   1193109   1225237  ...   2413191   1190244   1222947\n",
              "인천광역시        2942828   1473943   1468885  ...   2941705   1473245   1468460\n",
              "\n",
              "[5 rows x 9 columns]"
            ]
          },
          "metadata": {
            "tags": []
          },
          "execution_count": 65
        }
      ]
    },
    {
      "cell_type": "code",
      "metadata": {
        "colab": {
          "base_uri": "https://localhost:8080/"
        },
        "id": "6XqE7K9Bnvhv",
        "outputId": "35e3221c-43c7-43d6-e226-ddf81993dcfd"
      },
      "source": [
        "for _ in df.columns:\r\n",
        "  print(_)"
      ],
      "execution_count": 66,
      "outputs": [
        {
          "output_type": "stream",
          "text": [
            "('2020. 12', '총인구수 (명)')\n",
            "('2020. 12', '남자인구수 (명)')\n",
            "('2020. 12', '여자인구수 (명)')\n",
            "('2021. 01', '총인구수 (명)')\n",
            "('2021. 01', '남자인구수 (명)')\n",
            "('2021. 01', '여자인구수 (명)')\n",
            "('2021. 02', '총인구수 (명)')\n",
            "('2021. 02', '남자인구수 (명)')\n",
            "('2021. 02', '여자인구수 (명)')\n"
          ],
          "name": "stdout"
        }
      ]
    },
    {
      "cell_type": "code",
      "metadata": {
        "colab": {
          "base_uri": "https://localhost:8080/"
        },
        "id": "9BGVG2P-n2m7",
        "outputId": "e7fc6b86-7b90-4418-eab3-49febb769ec9"
      },
      "source": [
        "for x in df.columns:\r\n",
        "  print([_.replace(' ','').replace('(명)','') for _ in x ])"
      ],
      "execution_count": 67,
      "outputs": [
        {
          "output_type": "stream",
          "text": [
            "['2020.12', '총인구수']\n",
            "['2020.12', '남자인구수']\n",
            "['2020.12', '여자인구수']\n",
            "['2021.01', '총인구수']\n",
            "['2021.01', '남자인구수']\n",
            "['2021.01', '여자인구수']\n",
            "['2021.02', '총인구수']\n",
            "['2021.02', '남자인구수']\n",
            "['2021.02', '여자인구수']\n"
          ],
          "name": "stdout"
        }
      ]
    },
    {
      "cell_type": "code",
      "metadata": {
        "colab": {
          "base_uri": "https://localhost:8080/"
        },
        "id": "29gk96Jln619",
        "outputId": "73c6d383-2e6e-4062-c3ce-d88387e62268"
      },
      "source": [
        "colset = {}\r\n",
        "for x in df.columns:\r\n",
        "  y = [ _.replace(' ','').replace('(명)','') for _ in x ]\r\n",
        "  colset[x] = tuple(y)\r\n",
        "colset"
      ],
      "execution_count": 68,
      "outputs": [
        {
          "output_type": "execute_result",
          "data": {
            "text/plain": [
              "{('2020. 12', '남자인구수 (명)'): ('2020.12', '남자인구수'),\n",
              " ('2020. 12', '여자인구수 (명)'): ('2020.12', '여자인구수'),\n",
              " ('2020. 12', '총인구수 (명)'): ('2020.12', '총인구수'),\n",
              " ('2021. 01', '남자인구수 (명)'): ('2021.01', '남자인구수'),\n",
              " ('2021. 01', '여자인구수 (명)'): ('2021.01', '여자인구수'),\n",
              " ('2021. 01', '총인구수 (명)'): ('2021.01', '총인구수'),\n",
              " ('2021. 02', '남자인구수 (명)'): ('2021.02', '남자인구수'),\n",
              " ('2021. 02', '여자인구수 (명)'): ('2021.02', '여자인구수'),\n",
              " ('2021. 02', '총인구수 (명)'): ('2021.02', '총인구수')}"
            ]
          },
          "metadata": {
            "tags": []
          },
          "execution_count": 68
        }
      ]
    },
    {
      "cell_type": "code",
      "metadata": {
        "colab": {
          "base_uri": "https://localhost:8080/",
          "height": 1000
        },
        "id": "VHt4lDTan-8V",
        "outputId": "57e6c43b-c670-4f6c-bd35-00dfb5f9b88c"
      },
      "source": [
        "df.columns=df.columns.values\r\n",
        "df"
      ],
      "execution_count": 70,
      "outputs": [
        {
          "output_type": "execute_result",
          "data": {
            "text/html": [
              "<div>\n",
              "<style scoped>\n",
              "    .dataframe tbody tr th:only-of-type {\n",
              "        vertical-align: middle;\n",
              "    }\n",
              "\n",
              "    .dataframe tbody tr th {\n",
              "        vertical-align: top;\n",
              "    }\n",
              "\n",
              "    .dataframe thead th {\n",
              "        text-align: right;\n",
              "    }\n",
              "</style>\n",
              "<table border=\"1\" class=\"dataframe\">\n",
              "  <thead>\n",
              "    <tr style=\"text-align: right;\">\n",
              "      <th></th>\n",
              "      <th>(2020. 12, 총인구수 (명))</th>\n",
              "      <th>(2020. 12, 남자인구수 (명))</th>\n",
              "      <th>(2020. 12, 여자인구수 (명))</th>\n",
              "      <th>(2021. 01, 총인구수 (명))</th>\n",
              "      <th>(2021. 01, 남자인구수 (명))</th>\n",
              "      <th>(2021. 01, 여자인구수 (명))</th>\n",
              "      <th>(2021. 02, 총인구수 (명))</th>\n",
              "      <th>(2021. 02, 남자인구수 (명))</th>\n",
              "      <th>(2021. 02, 여자인구수 (명))</th>\n",
              "    </tr>\n",
              "  </thead>\n",
              "  <tbody>\n",
              "    <tr>\n",
              "      <th>전국</th>\n",
              "      <td>51829023</td>\n",
              "      <td>25841029</td>\n",
              "      <td>25987994</td>\n",
              "      <td>51825932</td>\n",
              "      <td>25838512</td>\n",
              "      <td>25987420</td>\n",
              "      <td>51824142</td>\n",
              "      <td>25836561</td>\n",
              "      <td>25987581</td>\n",
              "    </tr>\n",
              "    <tr>\n",
              "      <th>서울특별시</th>\n",
              "      <td>9668465</td>\n",
              "      <td>4701723</td>\n",
              "      <td>4966742</td>\n",
              "      <td>9657969</td>\n",
              "      <td>4695999</td>\n",
              "      <td>4961970</td>\n",
              "      <td>9648606</td>\n",
              "      <td>4690282</td>\n",
              "      <td>4958324</td>\n",
              "    </tr>\n",
              "    <tr>\n",
              "      <th>부산광역시</th>\n",
              "      <td>3391946</td>\n",
              "      <td>1661000</td>\n",
              "      <td>1730946</td>\n",
              "      <td>3389388</td>\n",
              "      <td>1659527</td>\n",
              "      <td>1729861</td>\n",
              "      <td>3387761</td>\n",
              "      <td>1658540</td>\n",
              "      <td>1729221</td>\n",
              "    </tr>\n",
              "    <tr>\n",
              "      <th>대구광역시</th>\n",
              "      <td>2418346</td>\n",
              "      <td>1193109</td>\n",
              "      <td>1225237</td>\n",
              "      <td>2415813</td>\n",
              "      <td>1191656</td>\n",
              "      <td>1224157</td>\n",
              "      <td>2413191</td>\n",
              "      <td>1190244</td>\n",
              "      <td>1222947</td>\n",
              "    </tr>\n",
              "    <tr>\n",
              "      <th>인천광역시</th>\n",
              "      <td>2942828</td>\n",
              "      <td>1473943</td>\n",
              "      <td>1468885</td>\n",
              "      <td>2942452</td>\n",
              "      <td>1473639</td>\n",
              "      <td>1468813</td>\n",
              "      <td>2941705</td>\n",
              "      <td>1473245</td>\n",
              "      <td>1468460</td>\n",
              "    </tr>\n",
              "    <tr>\n",
              "      <th>광주광역시</th>\n",
              "      <td>1450062</td>\n",
              "      <td>717348</td>\n",
              "      <td>732714</td>\n",
              "      <td>1449115</td>\n",
              "      <td>716929</td>\n",
              "      <td>732186</td>\n",
              "      <td>1447953</td>\n",
              "      <td>716331</td>\n",
              "      <td>731622</td>\n",
              "    </tr>\n",
              "    <tr>\n",
              "      <th>대전광역시</th>\n",
              "      <td>1463882</td>\n",
              "      <td>730699</td>\n",
              "      <td>733183</td>\n",
              "      <td>1463291</td>\n",
              "      <td>730396</td>\n",
              "      <td>732895</td>\n",
              "      <td>1462064</td>\n",
              "      <td>729663</td>\n",
              "      <td>732401</td>\n",
              "    </tr>\n",
              "    <tr>\n",
              "      <th>울산광역시</th>\n",
              "      <td>1136017</td>\n",
              "      <td>583708</td>\n",
              "      <td>552309</td>\n",
              "      <td>1135370</td>\n",
              "      <td>583402</td>\n",
              "      <td>551968</td>\n",
              "      <td>1132953</td>\n",
              "      <td>582190</td>\n",
              "      <td>550763</td>\n",
              "    </tr>\n",
              "    <tr>\n",
              "      <th>세종특별자치시</th>\n",
              "      <td>355831</td>\n",
              "      <td>177568</td>\n",
              "      <td>178263</td>\n",
              "      <td>357871</td>\n",
              "      <td>178656</td>\n",
              "      <td>179215</td>\n",
              "      <td>359569</td>\n",
              "      <td>179528</td>\n",
              "      <td>180041</td>\n",
              "    </tr>\n",
              "    <tr>\n",
              "      <th>경기도</th>\n",
              "      <td>13427014</td>\n",
              "      <td>6754469</td>\n",
              "      <td>6672545</td>\n",
              "      <td>13449499</td>\n",
              "      <td>6765862</td>\n",
              "      <td>6683637</td>\n",
              "      <td>13471758</td>\n",
              "      <td>6777066</td>\n",
              "      <td>6694692</td>\n",
              "    </tr>\n",
              "    <tr>\n",
              "      <th>강원도</th>\n",
              "      <td>1542840</td>\n",
              "      <td>776505</td>\n",
              "      <td>766335</td>\n",
              "      <td>1541696</td>\n",
              "      <td>775727</td>\n",
              "      <td>765969</td>\n",
              "      <td>1540875</td>\n",
              "      <td>775186</td>\n",
              "      <td>765689</td>\n",
              "    </tr>\n",
              "    <tr>\n",
              "      <th>충청북도</th>\n",
              "      <td>1600837</td>\n",
              "      <td>811591</td>\n",
              "      <td>789246</td>\n",
              "      <td>1599658</td>\n",
              "      <td>811057</td>\n",
              "      <td>788601</td>\n",
              "      <td>1599122</td>\n",
              "      <td>810751</td>\n",
              "      <td>788371</td>\n",
              "    </tr>\n",
              "    <tr>\n",
              "      <th>충청남도</th>\n",
              "      <td>2121029</td>\n",
              "      <td>1082634</td>\n",
              "      <td>1038395</td>\n",
              "      <td>2119837</td>\n",
              "      <td>1082095</td>\n",
              "      <td>1037742</td>\n",
              "      <td>2119542</td>\n",
              "      <td>1082026</td>\n",
              "      <td>1037516</td>\n",
              "    </tr>\n",
              "    <tr>\n",
              "      <th>전라북도</th>\n",
              "      <td>1804104</td>\n",
              "      <td>896874</td>\n",
              "      <td>907230</td>\n",
              "      <td>1802748</td>\n",
              "      <td>896115</td>\n",
              "      <td>906633</td>\n",
              "      <td>1801319</td>\n",
              "      <td>895485</td>\n",
              "      <td>905834</td>\n",
              "    </tr>\n",
              "    <tr>\n",
              "      <th>전라남도</th>\n",
              "      <td>1851549</td>\n",
              "      <td>930615</td>\n",
              "      <td>920934</td>\n",
              "      <td>1850575</td>\n",
              "      <td>930132</td>\n",
              "      <td>920443</td>\n",
              "      <td>1849795</td>\n",
              "      <td>929889</td>\n",
              "      <td>919906</td>\n",
              "    </tr>\n",
              "    <tr>\n",
              "      <th>경상북도</th>\n",
              "      <td>2639422</td>\n",
              "      <td>1329211</td>\n",
              "      <td>1310211</td>\n",
              "      <td>2637639</td>\n",
              "      <td>1328384</td>\n",
              "      <td>1309255</td>\n",
              "      <td>2636747</td>\n",
              "      <td>1328167</td>\n",
              "      <td>1308580</td>\n",
              "    </tr>\n",
              "    <tr>\n",
              "      <th>경상남도</th>\n",
              "      <td>3340216</td>\n",
              "      <td>1681423</td>\n",
              "      <td>1658793</td>\n",
              "      <td>3338396</td>\n",
              "      <td>1680383</td>\n",
              "      <td>1658013</td>\n",
              "      <td>3336045</td>\n",
              "      <td>1679295</td>\n",
              "      <td>1656750</td>\n",
              "    </tr>\n",
              "    <tr>\n",
              "      <th>제주특별자치도</th>\n",
              "      <td>674635</td>\n",
              "      <td>338609</td>\n",
              "      <td>336026</td>\n",
              "      <td>674615</td>\n",
              "      <td>338553</td>\n",
              "      <td>336062</td>\n",
              "      <td>675137</td>\n",
              "      <td>338673</td>\n",
              "      <td>336464</td>\n",
              "    </tr>\n",
              "  </tbody>\n",
              "</table>\n",
              "</div>"
            ],
            "text/plain": [
              "         (2020. 12, 총인구수 (명))  ...  (2021. 02, 여자인구수 (명))\n",
              "전국                   51829023  ...               25987581\n",
              "서울특별시                 9668465  ...                4958324\n",
              "부산광역시                 3391946  ...                1729221\n",
              "대구광역시                 2418346  ...                1222947\n",
              "인천광역시                 2942828  ...                1468460\n",
              "광주광역시                 1450062  ...                 731622\n",
              "대전광역시                 1463882  ...                 732401\n",
              "울산광역시                 1136017  ...                 550763\n",
              "세종특별자치시                355831  ...                 180041\n",
              "경기도                  13427014  ...                6694692\n",
              "강원도                   1542840  ...                 765689\n",
              "충청북도                  1600837  ...                 788371\n",
              "충청남도                  2121029  ...                1037516\n",
              "전라북도                  1804104  ...                 905834\n",
              "전라남도                  1851549  ...                 919906\n",
              "경상북도                  2639422  ...                1308580\n",
              "경상남도                  3340216  ...                1656750\n",
              "제주특별자치도                674635  ...                 336464\n",
              "\n",
              "[18 rows x 9 columns]"
            ]
          },
          "metadata": {
            "tags": []
          },
          "execution_count": 70
        }
      ]
    },
    {
      "cell_type": "code",
      "metadata": {
        "colab": {
          "base_uri": "https://localhost:8080/",
          "height": 547
        },
        "id": "QnMBshrjoEe4",
        "outputId": "cf41fb4e-0e45-4d72-d008-38cdaa55245b"
      },
      "source": [
        "df = df.rename(columns=colset)\r\n",
        "df.head()"
      ],
      "execution_count": 71,
      "outputs": [
        {
          "output_type": "execute_result",
          "data": {
            "text/html": [
              "<div>\n",
              "<style scoped>\n",
              "    .dataframe tbody tr th:only-of-type {\n",
              "        vertical-align: middle;\n",
              "    }\n",
              "\n",
              "    .dataframe tbody tr th {\n",
              "        vertical-align: top;\n",
              "    }\n",
              "\n",
              "    .dataframe thead th {\n",
              "        text-align: right;\n",
              "    }\n",
              "</style>\n",
              "<table border=\"1\" class=\"dataframe\">\n",
              "  <thead>\n",
              "    <tr style=\"text-align: right;\">\n",
              "      <th></th>\n",
              "      <th>(2020.12, 총인구수)</th>\n",
              "      <th>(2020.12, 남자인구수)</th>\n",
              "      <th>(2020.12, 여자인구수)</th>\n",
              "      <th>(2021.01, 총인구수)</th>\n",
              "      <th>(2021.01, 남자인구수)</th>\n",
              "      <th>(2021.01, 여자인구수)</th>\n",
              "      <th>(2021.02, 총인구수)</th>\n",
              "      <th>(2021.02, 남자인구수)</th>\n",
              "      <th>(2021.02, 여자인구수)</th>\n",
              "    </tr>\n",
              "  </thead>\n",
              "  <tbody>\n",
              "    <tr>\n",
              "      <th>전국</th>\n",
              "      <td>51829023</td>\n",
              "      <td>25841029</td>\n",
              "      <td>25987994</td>\n",
              "      <td>51825932</td>\n",
              "      <td>25838512</td>\n",
              "      <td>25987420</td>\n",
              "      <td>51824142</td>\n",
              "      <td>25836561</td>\n",
              "      <td>25987581</td>\n",
              "    </tr>\n",
              "    <tr>\n",
              "      <th>서울특별시</th>\n",
              "      <td>9668465</td>\n",
              "      <td>4701723</td>\n",
              "      <td>4966742</td>\n",
              "      <td>9657969</td>\n",
              "      <td>4695999</td>\n",
              "      <td>4961970</td>\n",
              "      <td>9648606</td>\n",
              "      <td>4690282</td>\n",
              "      <td>4958324</td>\n",
              "    </tr>\n",
              "    <tr>\n",
              "      <th>부산광역시</th>\n",
              "      <td>3391946</td>\n",
              "      <td>1661000</td>\n",
              "      <td>1730946</td>\n",
              "      <td>3389388</td>\n",
              "      <td>1659527</td>\n",
              "      <td>1729861</td>\n",
              "      <td>3387761</td>\n",
              "      <td>1658540</td>\n",
              "      <td>1729221</td>\n",
              "    </tr>\n",
              "    <tr>\n",
              "      <th>대구광역시</th>\n",
              "      <td>2418346</td>\n",
              "      <td>1193109</td>\n",
              "      <td>1225237</td>\n",
              "      <td>2415813</td>\n",
              "      <td>1191656</td>\n",
              "      <td>1224157</td>\n",
              "      <td>2413191</td>\n",
              "      <td>1190244</td>\n",
              "      <td>1222947</td>\n",
              "    </tr>\n",
              "    <tr>\n",
              "      <th>인천광역시</th>\n",
              "      <td>2942828</td>\n",
              "      <td>1473943</td>\n",
              "      <td>1468885</td>\n",
              "      <td>2942452</td>\n",
              "      <td>1473639</td>\n",
              "      <td>1468813</td>\n",
              "      <td>2941705</td>\n",
              "      <td>1473245</td>\n",
              "      <td>1468460</td>\n",
              "    </tr>\n",
              "  </tbody>\n",
              "</table>\n",
              "</div>"
            ],
            "text/plain": [
              "       (2020.12, 총인구수)  (2020.12, 남자인구수)  ...  (2021.02, 남자인구수)  (2021.02, 여자인구수)\n",
              "전국            51829023          25841029  ...          25836561          25987581\n",
              "서울특별시          9668465           4701723  ...           4690282           4958324\n",
              "부산광역시          3391946           1661000  ...           1658540           1729221\n",
              "대구광역시          2418346           1193109  ...           1190244           1222947\n",
              "인천광역시          2942828           1473943  ...           1473245           1468460\n",
              "\n",
              "[5 rows x 9 columns]"
            ]
          },
          "metadata": {
            "tags": []
          },
          "execution_count": 71
        }
      ]
    },
    {
      "cell_type": "code",
      "metadata": {
        "colab": {
          "base_uri": "https://localhost:8080/",
          "height": 1000
        },
        "id": "kuJ20z65oHvF",
        "outputId": "94545534-2a9e-4e1b-c7f1-0e2d4dbec792"
      },
      "source": [
        "df.columns=pd.MultiIndex.from_tuples(df.columns)\r\n",
        "df"
      ],
      "execution_count": 73,
      "outputs": [
        {
          "output_type": "execute_result",
          "data": {
            "text/html": [
              "<div>\n",
              "<style scoped>\n",
              "    .dataframe tbody tr th:only-of-type {\n",
              "        vertical-align: middle;\n",
              "    }\n",
              "\n",
              "    .dataframe tbody tr th {\n",
              "        vertical-align: top;\n",
              "    }\n",
              "\n",
              "    .dataframe thead tr th {\n",
              "        text-align: left;\n",
              "    }\n",
              "</style>\n",
              "<table border=\"1\" class=\"dataframe\">\n",
              "  <thead>\n",
              "    <tr>\n",
              "      <th></th>\n",
              "      <th colspan=\"3\" halign=\"left\">2020.12</th>\n",
              "      <th colspan=\"3\" halign=\"left\">2021.01</th>\n",
              "      <th colspan=\"3\" halign=\"left\">2021.02</th>\n",
              "    </tr>\n",
              "    <tr>\n",
              "      <th></th>\n",
              "      <th>총인구수</th>\n",
              "      <th>남자인구수</th>\n",
              "      <th>여자인구수</th>\n",
              "      <th>총인구수</th>\n",
              "      <th>남자인구수</th>\n",
              "      <th>여자인구수</th>\n",
              "      <th>총인구수</th>\n",
              "      <th>남자인구수</th>\n",
              "      <th>여자인구수</th>\n",
              "    </tr>\n",
              "  </thead>\n",
              "  <tbody>\n",
              "    <tr>\n",
              "      <th>전국</th>\n",
              "      <td>51829023</td>\n",
              "      <td>25841029</td>\n",
              "      <td>25987994</td>\n",
              "      <td>51825932</td>\n",
              "      <td>25838512</td>\n",
              "      <td>25987420</td>\n",
              "      <td>51824142</td>\n",
              "      <td>25836561</td>\n",
              "      <td>25987581</td>\n",
              "    </tr>\n",
              "    <tr>\n",
              "      <th>서울특별시</th>\n",
              "      <td>9668465</td>\n",
              "      <td>4701723</td>\n",
              "      <td>4966742</td>\n",
              "      <td>9657969</td>\n",
              "      <td>4695999</td>\n",
              "      <td>4961970</td>\n",
              "      <td>9648606</td>\n",
              "      <td>4690282</td>\n",
              "      <td>4958324</td>\n",
              "    </tr>\n",
              "    <tr>\n",
              "      <th>부산광역시</th>\n",
              "      <td>3391946</td>\n",
              "      <td>1661000</td>\n",
              "      <td>1730946</td>\n",
              "      <td>3389388</td>\n",
              "      <td>1659527</td>\n",
              "      <td>1729861</td>\n",
              "      <td>3387761</td>\n",
              "      <td>1658540</td>\n",
              "      <td>1729221</td>\n",
              "    </tr>\n",
              "    <tr>\n",
              "      <th>대구광역시</th>\n",
              "      <td>2418346</td>\n",
              "      <td>1193109</td>\n",
              "      <td>1225237</td>\n",
              "      <td>2415813</td>\n",
              "      <td>1191656</td>\n",
              "      <td>1224157</td>\n",
              "      <td>2413191</td>\n",
              "      <td>1190244</td>\n",
              "      <td>1222947</td>\n",
              "    </tr>\n",
              "    <tr>\n",
              "      <th>인천광역시</th>\n",
              "      <td>2942828</td>\n",
              "      <td>1473943</td>\n",
              "      <td>1468885</td>\n",
              "      <td>2942452</td>\n",
              "      <td>1473639</td>\n",
              "      <td>1468813</td>\n",
              "      <td>2941705</td>\n",
              "      <td>1473245</td>\n",
              "      <td>1468460</td>\n",
              "    </tr>\n",
              "    <tr>\n",
              "      <th>광주광역시</th>\n",
              "      <td>1450062</td>\n",
              "      <td>717348</td>\n",
              "      <td>732714</td>\n",
              "      <td>1449115</td>\n",
              "      <td>716929</td>\n",
              "      <td>732186</td>\n",
              "      <td>1447953</td>\n",
              "      <td>716331</td>\n",
              "      <td>731622</td>\n",
              "    </tr>\n",
              "    <tr>\n",
              "      <th>대전광역시</th>\n",
              "      <td>1463882</td>\n",
              "      <td>730699</td>\n",
              "      <td>733183</td>\n",
              "      <td>1463291</td>\n",
              "      <td>730396</td>\n",
              "      <td>732895</td>\n",
              "      <td>1462064</td>\n",
              "      <td>729663</td>\n",
              "      <td>732401</td>\n",
              "    </tr>\n",
              "    <tr>\n",
              "      <th>울산광역시</th>\n",
              "      <td>1136017</td>\n",
              "      <td>583708</td>\n",
              "      <td>552309</td>\n",
              "      <td>1135370</td>\n",
              "      <td>583402</td>\n",
              "      <td>551968</td>\n",
              "      <td>1132953</td>\n",
              "      <td>582190</td>\n",
              "      <td>550763</td>\n",
              "    </tr>\n",
              "    <tr>\n",
              "      <th>세종특별자치시</th>\n",
              "      <td>355831</td>\n",
              "      <td>177568</td>\n",
              "      <td>178263</td>\n",
              "      <td>357871</td>\n",
              "      <td>178656</td>\n",
              "      <td>179215</td>\n",
              "      <td>359569</td>\n",
              "      <td>179528</td>\n",
              "      <td>180041</td>\n",
              "    </tr>\n",
              "    <tr>\n",
              "      <th>경기도</th>\n",
              "      <td>13427014</td>\n",
              "      <td>6754469</td>\n",
              "      <td>6672545</td>\n",
              "      <td>13449499</td>\n",
              "      <td>6765862</td>\n",
              "      <td>6683637</td>\n",
              "      <td>13471758</td>\n",
              "      <td>6777066</td>\n",
              "      <td>6694692</td>\n",
              "    </tr>\n",
              "    <tr>\n",
              "      <th>강원도</th>\n",
              "      <td>1542840</td>\n",
              "      <td>776505</td>\n",
              "      <td>766335</td>\n",
              "      <td>1541696</td>\n",
              "      <td>775727</td>\n",
              "      <td>765969</td>\n",
              "      <td>1540875</td>\n",
              "      <td>775186</td>\n",
              "      <td>765689</td>\n",
              "    </tr>\n",
              "    <tr>\n",
              "      <th>충청북도</th>\n",
              "      <td>1600837</td>\n",
              "      <td>811591</td>\n",
              "      <td>789246</td>\n",
              "      <td>1599658</td>\n",
              "      <td>811057</td>\n",
              "      <td>788601</td>\n",
              "      <td>1599122</td>\n",
              "      <td>810751</td>\n",
              "      <td>788371</td>\n",
              "    </tr>\n",
              "    <tr>\n",
              "      <th>충청남도</th>\n",
              "      <td>2121029</td>\n",
              "      <td>1082634</td>\n",
              "      <td>1038395</td>\n",
              "      <td>2119837</td>\n",
              "      <td>1082095</td>\n",
              "      <td>1037742</td>\n",
              "      <td>2119542</td>\n",
              "      <td>1082026</td>\n",
              "      <td>1037516</td>\n",
              "    </tr>\n",
              "    <tr>\n",
              "      <th>전라북도</th>\n",
              "      <td>1804104</td>\n",
              "      <td>896874</td>\n",
              "      <td>907230</td>\n",
              "      <td>1802748</td>\n",
              "      <td>896115</td>\n",
              "      <td>906633</td>\n",
              "      <td>1801319</td>\n",
              "      <td>895485</td>\n",
              "      <td>905834</td>\n",
              "    </tr>\n",
              "    <tr>\n",
              "      <th>전라남도</th>\n",
              "      <td>1851549</td>\n",
              "      <td>930615</td>\n",
              "      <td>920934</td>\n",
              "      <td>1850575</td>\n",
              "      <td>930132</td>\n",
              "      <td>920443</td>\n",
              "      <td>1849795</td>\n",
              "      <td>929889</td>\n",
              "      <td>919906</td>\n",
              "    </tr>\n",
              "    <tr>\n",
              "      <th>경상북도</th>\n",
              "      <td>2639422</td>\n",
              "      <td>1329211</td>\n",
              "      <td>1310211</td>\n",
              "      <td>2637639</td>\n",
              "      <td>1328384</td>\n",
              "      <td>1309255</td>\n",
              "      <td>2636747</td>\n",
              "      <td>1328167</td>\n",
              "      <td>1308580</td>\n",
              "    </tr>\n",
              "    <tr>\n",
              "      <th>경상남도</th>\n",
              "      <td>3340216</td>\n",
              "      <td>1681423</td>\n",
              "      <td>1658793</td>\n",
              "      <td>3338396</td>\n",
              "      <td>1680383</td>\n",
              "      <td>1658013</td>\n",
              "      <td>3336045</td>\n",
              "      <td>1679295</td>\n",
              "      <td>1656750</td>\n",
              "    </tr>\n",
              "    <tr>\n",
              "      <th>제주특별자치도</th>\n",
              "      <td>674635</td>\n",
              "      <td>338609</td>\n",
              "      <td>336026</td>\n",
              "      <td>674615</td>\n",
              "      <td>338553</td>\n",
              "      <td>336062</td>\n",
              "      <td>675137</td>\n",
              "      <td>338673</td>\n",
              "      <td>336464</td>\n",
              "    </tr>\n",
              "  </tbody>\n",
              "</table>\n",
              "</div>"
            ],
            "text/plain": [
              "          2020.12                      ...   2021.02                    \n",
              "             총인구수     남자인구수     여자인구수  ...      총인구수     남자인구수     여자인구수\n",
              "전국       51829023  25841029  25987994  ...  51824142  25836561  25987581\n",
              "서울특별시     9668465   4701723   4966742  ...   9648606   4690282   4958324\n",
              "부산광역시     3391946   1661000   1730946  ...   3387761   1658540   1729221\n",
              "대구광역시     2418346   1193109   1225237  ...   2413191   1190244   1222947\n",
              "인천광역시     2942828   1473943   1468885  ...   2941705   1473245   1468460\n",
              "광주광역시     1450062    717348    732714  ...   1447953    716331    731622\n",
              "대전광역시     1463882    730699    733183  ...   1462064    729663    732401\n",
              "울산광역시     1136017    583708    552309  ...   1132953    582190    550763\n",
              "세종특별자치시    355831    177568    178263  ...    359569    179528    180041\n",
              "경기도      13427014   6754469   6672545  ...  13471758   6777066   6694692\n",
              "강원도       1542840    776505    766335  ...   1540875    775186    765689\n",
              "충청북도      1600837    811591    789246  ...   1599122    810751    788371\n",
              "충청남도      2121029   1082634   1038395  ...   2119542   1082026   1037516\n",
              "전라북도      1804104    896874    907230  ...   1801319    895485    905834\n",
              "전라남도      1851549    930615    920934  ...   1849795    929889    919906\n",
              "경상북도      2639422   1329211   1310211  ...   2636747   1328167   1308580\n",
              "경상남도      3340216   1681423   1658793  ...   3336045   1679295   1656750\n",
              "제주특별자치도    674635    338609    336026  ...    675137    338673    336464\n",
              "\n",
              "[18 rows x 9 columns]"
            ]
          },
          "metadata": {
            "tags": []
          },
          "execution_count": 73
        }
      ]
    },
    {
      "cell_type": "code",
      "metadata": {
        "colab": {
          "base_uri": "https://localhost:8080/",
          "height": 943
        },
        "id": "WDWdCTACoLtx",
        "outputId": "34a2fb2f-459a-4f20-f472-736588e1929e"
      },
      "source": [
        "tf = df.T\r\n",
        "tf"
      ],
      "execution_count": 74,
      "outputs": [
        {
          "output_type": "execute_result",
          "data": {
            "text/html": [
              "<div>\n",
              "<style scoped>\n",
              "    .dataframe tbody tr th:only-of-type {\n",
              "        vertical-align: middle;\n",
              "    }\n",
              "\n",
              "    .dataframe tbody tr th {\n",
              "        vertical-align: top;\n",
              "    }\n",
              "\n",
              "    .dataframe thead th {\n",
              "        text-align: right;\n",
              "    }\n",
              "</style>\n",
              "<table border=\"1\" class=\"dataframe\">\n",
              "  <thead>\n",
              "    <tr style=\"text-align: right;\">\n",
              "      <th></th>\n",
              "      <th></th>\n",
              "      <th>전국</th>\n",
              "      <th>서울특별시</th>\n",
              "      <th>부산광역시</th>\n",
              "      <th>대구광역시</th>\n",
              "      <th>인천광역시</th>\n",
              "      <th>광주광역시</th>\n",
              "      <th>대전광역시</th>\n",
              "      <th>울산광역시</th>\n",
              "      <th>세종특별자치시</th>\n",
              "      <th>경기도</th>\n",
              "      <th>강원도</th>\n",
              "      <th>충청북도</th>\n",
              "      <th>충청남도</th>\n",
              "      <th>전라북도</th>\n",
              "      <th>전라남도</th>\n",
              "      <th>경상북도</th>\n",
              "      <th>경상남도</th>\n",
              "      <th>제주특별자치도</th>\n",
              "    </tr>\n",
              "  </thead>\n",
              "  <tbody>\n",
              "    <tr>\n",
              "      <th rowspan=\"3\" valign=\"top\">2020.12</th>\n",
              "      <th>총인구수</th>\n",
              "      <td>51829023</td>\n",
              "      <td>9668465</td>\n",
              "      <td>3391946</td>\n",
              "      <td>2418346</td>\n",
              "      <td>2942828</td>\n",
              "      <td>1450062</td>\n",
              "      <td>1463882</td>\n",
              "      <td>1136017</td>\n",
              "      <td>355831</td>\n",
              "      <td>13427014</td>\n",
              "      <td>1542840</td>\n",
              "      <td>1600837</td>\n",
              "      <td>2121029</td>\n",
              "      <td>1804104</td>\n",
              "      <td>1851549</td>\n",
              "      <td>2639422</td>\n",
              "      <td>3340216</td>\n",
              "      <td>674635</td>\n",
              "    </tr>\n",
              "    <tr>\n",
              "      <th>남자인구수</th>\n",
              "      <td>25841029</td>\n",
              "      <td>4701723</td>\n",
              "      <td>1661000</td>\n",
              "      <td>1193109</td>\n",
              "      <td>1473943</td>\n",
              "      <td>717348</td>\n",
              "      <td>730699</td>\n",
              "      <td>583708</td>\n",
              "      <td>177568</td>\n",
              "      <td>6754469</td>\n",
              "      <td>776505</td>\n",
              "      <td>811591</td>\n",
              "      <td>1082634</td>\n",
              "      <td>896874</td>\n",
              "      <td>930615</td>\n",
              "      <td>1329211</td>\n",
              "      <td>1681423</td>\n",
              "      <td>338609</td>\n",
              "    </tr>\n",
              "    <tr>\n",
              "      <th>여자인구수</th>\n",
              "      <td>25987994</td>\n",
              "      <td>4966742</td>\n",
              "      <td>1730946</td>\n",
              "      <td>1225237</td>\n",
              "      <td>1468885</td>\n",
              "      <td>732714</td>\n",
              "      <td>733183</td>\n",
              "      <td>552309</td>\n",
              "      <td>178263</td>\n",
              "      <td>6672545</td>\n",
              "      <td>766335</td>\n",
              "      <td>789246</td>\n",
              "      <td>1038395</td>\n",
              "      <td>907230</td>\n",
              "      <td>920934</td>\n",
              "      <td>1310211</td>\n",
              "      <td>1658793</td>\n",
              "      <td>336026</td>\n",
              "    </tr>\n",
              "    <tr>\n",
              "      <th rowspan=\"3\" valign=\"top\">2021.01</th>\n",
              "      <th>총인구수</th>\n",
              "      <td>51825932</td>\n",
              "      <td>9657969</td>\n",
              "      <td>3389388</td>\n",
              "      <td>2415813</td>\n",
              "      <td>2942452</td>\n",
              "      <td>1449115</td>\n",
              "      <td>1463291</td>\n",
              "      <td>1135370</td>\n",
              "      <td>357871</td>\n",
              "      <td>13449499</td>\n",
              "      <td>1541696</td>\n",
              "      <td>1599658</td>\n",
              "      <td>2119837</td>\n",
              "      <td>1802748</td>\n",
              "      <td>1850575</td>\n",
              "      <td>2637639</td>\n",
              "      <td>3338396</td>\n",
              "      <td>674615</td>\n",
              "    </tr>\n",
              "    <tr>\n",
              "      <th>남자인구수</th>\n",
              "      <td>25838512</td>\n",
              "      <td>4695999</td>\n",
              "      <td>1659527</td>\n",
              "      <td>1191656</td>\n",
              "      <td>1473639</td>\n",
              "      <td>716929</td>\n",
              "      <td>730396</td>\n",
              "      <td>583402</td>\n",
              "      <td>178656</td>\n",
              "      <td>6765862</td>\n",
              "      <td>775727</td>\n",
              "      <td>811057</td>\n",
              "      <td>1082095</td>\n",
              "      <td>896115</td>\n",
              "      <td>930132</td>\n",
              "      <td>1328384</td>\n",
              "      <td>1680383</td>\n",
              "      <td>338553</td>\n",
              "    </tr>\n",
              "    <tr>\n",
              "      <th>여자인구수</th>\n",
              "      <td>25987420</td>\n",
              "      <td>4961970</td>\n",
              "      <td>1729861</td>\n",
              "      <td>1224157</td>\n",
              "      <td>1468813</td>\n",
              "      <td>732186</td>\n",
              "      <td>732895</td>\n",
              "      <td>551968</td>\n",
              "      <td>179215</td>\n",
              "      <td>6683637</td>\n",
              "      <td>765969</td>\n",
              "      <td>788601</td>\n",
              "      <td>1037742</td>\n",
              "      <td>906633</td>\n",
              "      <td>920443</td>\n",
              "      <td>1309255</td>\n",
              "      <td>1658013</td>\n",
              "      <td>336062</td>\n",
              "    </tr>\n",
              "    <tr>\n",
              "      <th rowspan=\"3\" valign=\"top\">2021.02</th>\n",
              "      <th>총인구수</th>\n",
              "      <td>51824142</td>\n",
              "      <td>9648606</td>\n",
              "      <td>3387761</td>\n",
              "      <td>2413191</td>\n",
              "      <td>2941705</td>\n",
              "      <td>1447953</td>\n",
              "      <td>1462064</td>\n",
              "      <td>1132953</td>\n",
              "      <td>359569</td>\n",
              "      <td>13471758</td>\n",
              "      <td>1540875</td>\n",
              "      <td>1599122</td>\n",
              "      <td>2119542</td>\n",
              "      <td>1801319</td>\n",
              "      <td>1849795</td>\n",
              "      <td>2636747</td>\n",
              "      <td>3336045</td>\n",
              "      <td>675137</td>\n",
              "    </tr>\n",
              "    <tr>\n",
              "      <th>남자인구수</th>\n",
              "      <td>25836561</td>\n",
              "      <td>4690282</td>\n",
              "      <td>1658540</td>\n",
              "      <td>1190244</td>\n",
              "      <td>1473245</td>\n",
              "      <td>716331</td>\n",
              "      <td>729663</td>\n",
              "      <td>582190</td>\n",
              "      <td>179528</td>\n",
              "      <td>6777066</td>\n",
              "      <td>775186</td>\n",
              "      <td>810751</td>\n",
              "      <td>1082026</td>\n",
              "      <td>895485</td>\n",
              "      <td>929889</td>\n",
              "      <td>1328167</td>\n",
              "      <td>1679295</td>\n",
              "      <td>338673</td>\n",
              "    </tr>\n",
              "    <tr>\n",
              "      <th>여자인구수</th>\n",
              "      <td>25987581</td>\n",
              "      <td>4958324</td>\n",
              "      <td>1729221</td>\n",
              "      <td>1222947</td>\n",
              "      <td>1468460</td>\n",
              "      <td>731622</td>\n",
              "      <td>732401</td>\n",
              "      <td>550763</td>\n",
              "      <td>180041</td>\n",
              "      <td>6694692</td>\n",
              "      <td>765689</td>\n",
              "      <td>788371</td>\n",
              "      <td>1037516</td>\n",
              "      <td>905834</td>\n",
              "      <td>919906</td>\n",
              "      <td>1308580</td>\n",
              "      <td>1656750</td>\n",
              "      <td>336464</td>\n",
              "    </tr>\n",
              "  </tbody>\n",
              "</table>\n",
              "</div>"
            ],
            "text/plain": [
              "                     전국    서울특별시    부산광역시  ...     경상북도     경상남도  제주특별자치도\n",
              "2020.12 총인구수   51829023  9668465  3391946  ...  2639422  3340216   674635\n",
              "        남자인구수  25841029  4701723  1661000  ...  1329211  1681423   338609\n",
              "        여자인구수  25987994  4966742  1730946  ...  1310211  1658793   336026\n",
              "2021.01 총인구수   51825932  9657969  3389388  ...  2637639  3338396   674615\n",
              "        남자인구수  25838512  4695999  1659527  ...  1328384  1680383   338553\n",
              "        여자인구수  25987420  4961970  1729861  ...  1309255  1658013   336062\n",
              "2021.02 총인구수   51824142  9648606  3387761  ...  2636747  3336045   675137\n",
              "        남자인구수  25836561  4690282  1658540  ...  1328167  1679295   338673\n",
              "        여자인구수  25987581  4958324  1729221  ...  1308580  1656750   336464\n",
              "\n",
              "[9 rows x 18 columns]"
            ]
          },
          "metadata": {
            "tags": []
          },
          "execution_count": 74
        }
      ]
    },
    {
      "cell_type": "code",
      "metadata": {
        "colab": {
          "base_uri": "https://localhost:8080/",
          "height": 210
        },
        "id": "CAyAmkMJoOaC",
        "outputId": "398ab5c3-167c-44ff-ce4f-b72b376ab46f"
      },
      "source": [
        "tf = tf.unstack()\r\n",
        "tf"
      ],
      "execution_count": 75,
      "outputs": [
        {
          "output_type": "execute_result",
          "data": {
            "text/html": [
              "<div>\n",
              "<style scoped>\n",
              "    .dataframe tbody tr th:only-of-type {\n",
              "        vertical-align: middle;\n",
              "    }\n",
              "\n",
              "    .dataframe tbody tr th {\n",
              "        vertical-align: top;\n",
              "    }\n",
              "\n",
              "    .dataframe thead tr th {\n",
              "        text-align: left;\n",
              "    }\n",
              "</style>\n",
              "<table border=\"1\" class=\"dataframe\">\n",
              "  <thead>\n",
              "    <tr>\n",
              "      <th></th>\n",
              "      <th colspan=\"3\" halign=\"left\">전국</th>\n",
              "      <th colspan=\"3\" halign=\"left\">서울특별시</th>\n",
              "      <th colspan=\"3\" halign=\"left\">부산광역시</th>\n",
              "      <th colspan=\"3\" halign=\"left\">대구광역시</th>\n",
              "      <th colspan=\"3\" halign=\"left\">인천광역시</th>\n",
              "      <th colspan=\"3\" halign=\"left\">광주광역시</th>\n",
              "      <th colspan=\"3\" halign=\"left\">대전광역시</th>\n",
              "      <th colspan=\"3\" halign=\"left\">울산광역시</th>\n",
              "      <th colspan=\"3\" halign=\"left\">세종특별자치시</th>\n",
              "      <th colspan=\"3\" halign=\"left\">경기도</th>\n",
              "      <th colspan=\"3\" halign=\"left\">강원도</th>\n",
              "      <th colspan=\"3\" halign=\"left\">충청북도</th>\n",
              "      <th colspan=\"3\" halign=\"left\">충청남도</th>\n",
              "      <th colspan=\"3\" halign=\"left\">전라북도</th>\n",
              "      <th colspan=\"3\" halign=\"left\">전라남도</th>\n",
              "      <th colspan=\"3\" halign=\"left\">경상북도</th>\n",
              "      <th colspan=\"3\" halign=\"left\">경상남도</th>\n",
              "      <th colspan=\"3\" halign=\"left\">제주특별자치도</th>\n",
              "    </tr>\n",
              "    <tr>\n",
              "      <th></th>\n",
              "      <th>남자인구수</th>\n",
              "      <th>여자인구수</th>\n",
              "      <th>총인구수</th>\n",
              "      <th>남자인구수</th>\n",
              "      <th>여자인구수</th>\n",
              "      <th>총인구수</th>\n",
              "      <th>남자인구수</th>\n",
              "      <th>여자인구수</th>\n",
              "      <th>총인구수</th>\n",
              "      <th>남자인구수</th>\n",
              "      <th>여자인구수</th>\n",
              "      <th>총인구수</th>\n",
              "      <th>남자인구수</th>\n",
              "      <th>여자인구수</th>\n",
              "      <th>총인구수</th>\n",
              "      <th>남자인구수</th>\n",
              "      <th>여자인구수</th>\n",
              "      <th>총인구수</th>\n",
              "      <th>남자인구수</th>\n",
              "      <th>여자인구수</th>\n",
              "      <th>총인구수</th>\n",
              "      <th>남자인구수</th>\n",
              "      <th>여자인구수</th>\n",
              "      <th>총인구수</th>\n",
              "      <th>남자인구수</th>\n",
              "      <th>여자인구수</th>\n",
              "      <th>총인구수</th>\n",
              "      <th>남자인구수</th>\n",
              "      <th>여자인구수</th>\n",
              "      <th>총인구수</th>\n",
              "      <th>남자인구수</th>\n",
              "      <th>여자인구수</th>\n",
              "      <th>총인구수</th>\n",
              "      <th>남자인구수</th>\n",
              "      <th>여자인구수</th>\n",
              "      <th>총인구수</th>\n",
              "      <th>남자인구수</th>\n",
              "      <th>여자인구수</th>\n",
              "      <th>총인구수</th>\n",
              "      <th>남자인구수</th>\n",
              "      <th>여자인구수</th>\n",
              "      <th>총인구수</th>\n",
              "      <th>남자인구수</th>\n",
              "      <th>여자인구수</th>\n",
              "      <th>총인구수</th>\n",
              "      <th>남자인구수</th>\n",
              "      <th>여자인구수</th>\n",
              "      <th>총인구수</th>\n",
              "      <th>남자인구수</th>\n",
              "      <th>여자인구수</th>\n",
              "      <th>총인구수</th>\n",
              "      <th>남자인구수</th>\n",
              "      <th>여자인구수</th>\n",
              "      <th>총인구수</th>\n",
              "    </tr>\n",
              "  </thead>\n",
              "  <tbody>\n",
              "    <tr>\n",
              "      <th>2020.12</th>\n",
              "      <td>25841029</td>\n",
              "      <td>25987994</td>\n",
              "      <td>51829023</td>\n",
              "      <td>4701723</td>\n",
              "      <td>4966742</td>\n",
              "      <td>9668465</td>\n",
              "      <td>1661000</td>\n",
              "      <td>1730946</td>\n",
              "      <td>3391946</td>\n",
              "      <td>1193109</td>\n",
              "      <td>1225237</td>\n",
              "      <td>2418346</td>\n",
              "      <td>1473943</td>\n",
              "      <td>1468885</td>\n",
              "      <td>2942828</td>\n",
              "      <td>717348</td>\n",
              "      <td>732714</td>\n",
              "      <td>1450062</td>\n",
              "      <td>730699</td>\n",
              "      <td>733183</td>\n",
              "      <td>1463882</td>\n",
              "      <td>583708</td>\n",
              "      <td>552309</td>\n",
              "      <td>1136017</td>\n",
              "      <td>177568</td>\n",
              "      <td>178263</td>\n",
              "      <td>355831</td>\n",
              "      <td>6754469</td>\n",
              "      <td>6672545</td>\n",
              "      <td>13427014</td>\n",
              "      <td>776505</td>\n",
              "      <td>766335</td>\n",
              "      <td>1542840</td>\n",
              "      <td>811591</td>\n",
              "      <td>789246</td>\n",
              "      <td>1600837</td>\n",
              "      <td>1082634</td>\n",
              "      <td>1038395</td>\n",
              "      <td>2121029</td>\n",
              "      <td>896874</td>\n",
              "      <td>907230</td>\n",
              "      <td>1804104</td>\n",
              "      <td>930615</td>\n",
              "      <td>920934</td>\n",
              "      <td>1851549</td>\n",
              "      <td>1329211</td>\n",
              "      <td>1310211</td>\n",
              "      <td>2639422</td>\n",
              "      <td>1681423</td>\n",
              "      <td>1658793</td>\n",
              "      <td>3340216</td>\n",
              "      <td>338609</td>\n",
              "      <td>336026</td>\n",
              "      <td>674635</td>\n",
              "    </tr>\n",
              "    <tr>\n",
              "      <th>2021.01</th>\n",
              "      <td>25838512</td>\n",
              "      <td>25987420</td>\n",
              "      <td>51825932</td>\n",
              "      <td>4695999</td>\n",
              "      <td>4961970</td>\n",
              "      <td>9657969</td>\n",
              "      <td>1659527</td>\n",
              "      <td>1729861</td>\n",
              "      <td>3389388</td>\n",
              "      <td>1191656</td>\n",
              "      <td>1224157</td>\n",
              "      <td>2415813</td>\n",
              "      <td>1473639</td>\n",
              "      <td>1468813</td>\n",
              "      <td>2942452</td>\n",
              "      <td>716929</td>\n",
              "      <td>732186</td>\n",
              "      <td>1449115</td>\n",
              "      <td>730396</td>\n",
              "      <td>732895</td>\n",
              "      <td>1463291</td>\n",
              "      <td>583402</td>\n",
              "      <td>551968</td>\n",
              "      <td>1135370</td>\n",
              "      <td>178656</td>\n",
              "      <td>179215</td>\n",
              "      <td>357871</td>\n",
              "      <td>6765862</td>\n",
              "      <td>6683637</td>\n",
              "      <td>13449499</td>\n",
              "      <td>775727</td>\n",
              "      <td>765969</td>\n",
              "      <td>1541696</td>\n",
              "      <td>811057</td>\n",
              "      <td>788601</td>\n",
              "      <td>1599658</td>\n",
              "      <td>1082095</td>\n",
              "      <td>1037742</td>\n",
              "      <td>2119837</td>\n",
              "      <td>896115</td>\n",
              "      <td>906633</td>\n",
              "      <td>1802748</td>\n",
              "      <td>930132</td>\n",
              "      <td>920443</td>\n",
              "      <td>1850575</td>\n",
              "      <td>1328384</td>\n",
              "      <td>1309255</td>\n",
              "      <td>2637639</td>\n",
              "      <td>1680383</td>\n",
              "      <td>1658013</td>\n",
              "      <td>3338396</td>\n",
              "      <td>338553</td>\n",
              "      <td>336062</td>\n",
              "      <td>674615</td>\n",
              "    </tr>\n",
              "    <tr>\n",
              "      <th>2021.02</th>\n",
              "      <td>25836561</td>\n",
              "      <td>25987581</td>\n",
              "      <td>51824142</td>\n",
              "      <td>4690282</td>\n",
              "      <td>4958324</td>\n",
              "      <td>9648606</td>\n",
              "      <td>1658540</td>\n",
              "      <td>1729221</td>\n",
              "      <td>3387761</td>\n",
              "      <td>1190244</td>\n",
              "      <td>1222947</td>\n",
              "      <td>2413191</td>\n",
              "      <td>1473245</td>\n",
              "      <td>1468460</td>\n",
              "      <td>2941705</td>\n",
              "      <td>716331</td>\n",
              "      <td>731622</td>\n",
              "      <td>1447953</td>\n",
              "      <td>729663</td>\n",
              "      <td>732401</td>\n",
              "      <td>1462064</td>\n",
              "      <td>582190</td>\n",
              "      <td>550763</td>\n",
              "      <td>1132953</td>\n",
              "      <td>179528</td>\n",
              "      <td>180041</td>\n",
              "      <td>359569</td>\n",
              "      <td>6777066</td>\n",
              "      <td>6694692</td>\n",
              "      <td>13471758</td>\n",
              "      <td>775186</td>\n",
              "      <td>765689</td>\n",
              "      <td>1540875</td>\n",
              "      <td>810751</td>\n",
              "      <td>788371</td>\n",
              "      <td>1599122</td>\n",
              "      <td>1082026</td>\n",
              "      <td>1037516</td>\n",
              "      <td>2119542</td>\n",
              "      <td>895485</td>\n",
              "      <td>905834</td>\n",
              "      <td>1801319</td>\n",
              "      <td>929889</td>\n",
              "      <td>919906</td>\n",
              "      <td>1849795</td>\n",
              "      <td>1328167</td>\n",
              "      <td>1308580</td>\n",
              "      <td>2636747</td>\n",
              "      <td>1679295</td>\n",
              "      <td>1656750</td>\n",
              "      <td>3336045</td>\n",
              "      <td>338673</td>\n",
              "      <td>336464</td>\n",
              "      <td>675137</td>\n",
              "    </tr>\n",
              "  </tbody>\n",
              "</table>\n",
              "</div>"
            ],
            "text/plain": [
              "               전국                        서울특별시  ...     경상남도 제주특별자치도                \n",
              "            남자인구수     여자인구수      총인구수    남자인구수  ...     총인구수   남자인구수   여자인구수    총인구수\n",
              "2020.12  25841029  25987994  51829023  4701723  ...  3340216  338609  336026  674635\n",
              "2021.01  25838512  25987420  51825932  4695999  ...  3338396  338553  336062  674615\n",
              "2021.02  25836561  25987581  51824142  4690282  ...  3336045  338673  336464  675137\n",
              "\n",
              "[3 rows x 54 columns]"
            ]
          },
          "metadata": {
            "tags": []
          },
          "execution_count": 75
        }
      ]
    },
    {
      "cell_type": "code",
      "metadata": {
        "colab": {
          "base_uri": "https://localhost:8080/",
          "height": 1000
        },
        "id": "dlrN467GoP26",
        "outputId": "23042e5b-08b6-4445-c2f2-f3bcdbf6e6ee"
      },
      "source": [
        "tf.plot()\r\n",
        "#한글 인코딩 문제 있으나, 결과는 똑같이 나옴"
      ],
      "execution_count": 77,
      "outputs": [
        {
          "output_type": "execute_result",
          "data": {
            "text/plain": [
              "<matplotlib.axes._subplots.AxesSubplot at 0x7f44c9b02290>"
            ]
          },
          "metadata": {
            "tags": []
          },
          "execution_count": 77
        },
        {
          "output_type": "stream",
          "text": [
            "findfont: Font family ['sans-serif'] not found. Falling back to DejaVu Sans.\n",
            "/usr/local/lib/python3.7/dist-packages/matplotlib/backends/backend_agg.py:214: RuntimeWarning: Glyph 51204 missing from current font.\n",
            "  font.set_text(s, 0.0, flags=flags)\n",
            "/usr/local/lib/python3.7/dist-packages/matplotlib/backends/backend_agg.py:214: RuntimeWarning: Glyph 44397 missing from current font.\n",
            "  font.set_text(s, 0.0, flags=flags)\n",
            "/usr/local/lib/python3.7/dist-packages/matplotlib/backends/backend_agg.py:214: RuntimeWarning: Glyph 45224 missing from current font.\n",
            "  font.set_text(s, 0.0, flags=flags)\n",
            "/usr/local/lib/python3.7/dist-packages/matplotlib/backends/backend_agg.py:214: RuntimeWarning: Glyph 51088 missing from current font.\n",
            "  font.set_text(s, 0.0, flags=flags)\n",
            "/usr/local/lib/python3.7/dist-packages/matplotlib/backends/backend_agg.py:214: RuntimeWarning: Glyph 51064 missing from current font.\n",
            "  font.set_text(s, 0.0, flags=flags)\n",
            "/usr/local/lib/python3.7/dist-packages/matplotlib/backends/backend_agg.py:214: RuntimeWarning: Glyph 44396 missing from current font.\n",
            "  font.set_text(s, 0.0, flags=flags)\n",
            "/usr/local/lib/python3.7/dist-packages/matplotlib/backends/backend_agg.py:214: RuntimeWarning: Glyph 49688 missing from current font.\n",
            "  font.set_text(s, 0.0, flags=flags)\n",
            "/usr/local/lib/python3.7/dist-packages/matplotlib/backends/backend_agg.py:214: RuntimeWarning: Glyph 50668 missing from current font.\n",
            "  font.set_text(s, 0.0, flags=flags)\n",
            "/usr/local/lib/python3.7/dist-packages/matplotlib/backends/backend_agg.py:214: RuntimeWarning: Glyph 52509 missing from current font.\n",
            "  font.set_text(s, 0.0, flags=flags)\n",
            "/usr/local/lib/python3.7/dist-packages/matplotlib/backends/backend_agg.py:214: RuntimeWarning: Glyph 49436 missing from current font.\n",
            "  font.set_text(s, 0.0, flags=flags)\n",
            "/usr/local/lib/python3.7/dist-packages/matplotlib/backends/backend_agg.py:214: RuntimeWarning: Glyph 50872 missing from current font.\n",
            "  font.set_text(s, 0.0, flags=flags)\n",
            "/usr/local/lib/python3.7/dist-packages/matplotlib/backends/backend_agg.py:214: RuntimeWarning: Glyph 53945 missing from current font.\n",
            "  font.set_text(s, 0.0, flags=flags)\n",
            "/usr/local/lib/python3.7/dist-packages/matplotlib/backends/backend_agg.py:214: RuntimeWarning: Glyph 48324 missing from current font.\n",
            "  font.set_text(s, 0.0, flags=flags)\n",
            "/usr/local/lib/python3.7/dist-packages/matplotlib/backends/backend_agg.py:214: RuntimeWarning: Glyph 49884 missing from current font.\n",
            "  font.set_text(s, 0.0, flags=flags)\n",
            "/usr/local/lib/python3.7/dist-packages/matplotlib/backends/backend_agg.py:214: RuntimeWarning: Glyph 48512 missing from current font.\n",
            "  font.set_text(s, 0.0, flags=flags)\n",
            "/usr/local/lib/python3.7/dist-packages/matplotlib/backends/backend_agg.py:214: RuntimeWarning: Glyph 49328 missing from current font.\n",
            "  font.set_text(s, 0.0, flags=flags)\n",
            "/usr/local/lib/python3.7/dist-packages/matplotlib/backends/backend_agg.py:214: RuntimeWarning: Glyph 44305 missing from current font.\n",
            "  font.set_text(s, 0.0, flags=flags)\n",
            "/usr/local/lib/python3.7/dist-packages/matplotlib/backends/backend_agg.py:214: RuntimeWarning: Glyph 50669 missing from current font.\n",
            "  font.set_text(s, 0.0, flags=flags)\n",
            "/usr/local/lib/python3.7/dist-packages/matplotlib/backends/backend_agg.py:214: RuntimeWarning: Glyph 45824 missing from current font.\n",
            "  font.set_text(s, 0.0, flags=flags)\n",
            "/usr/local/lib/python3.7/dist-packages/matplotlib/backends/backend_agg.py:214: RuntimeWarning: Glyph 52380 missing from current font.\n",
            "  font.set_text(s, 0.0, flags=flags)\n",
            "/usr/local/lib/python3.7/dist-packages/matplotlib/backends/backend_agg.py:214: RuntimeWarning: Glyph 51452 missing from current font.\n",
            "  font.set_text(s, 0.0, flags=flags)\n",
            "/usr/local/lib/python3.7/dist-packages/matplotlib/backends/backend_agg.py:214: RuntimeWarning: Glyph 49464 missing from current font.\n",
            "  font.set_text(s, 0.0, flags=flags)\n",
            "/usr/local/lib/python3.7/dist-packages/matplotlib/backends/backend_agg.py:214: RuntimeWarning: Glyph 51333 missing from current font.\n",
            "  font.set_text(s, 0.0, flags=flags)\n",
            "/usr/local/lib/python3.7/dist-packages/matplotlib/backends/backend_agg.py:214: RuntimeWarning: Glyph 52824 missing from current font.\n",
            "  font.set_text(s, 0.0, flags=flags)\n",
            "/usr/local/lib/python3.7/dist-packages/matplotlib/backends/backend_agg.py:214: RuntimeWarning: Glyph 44221 missing from current font.\n",
            "  font.set_text(s, 0.0, flags=flags)\n",
            "/usr/local/lib/python3.7/dist-packages/matplotlib/backends/backend_agg.py:214: RuntimeWarning: Glyph 44592 missing from current font.\n",
            "  font.set_text(s, 0.0, flags=flags)\n",
            "/usr/local/lib/python3.7/dist-packages/matplotlib/backends/backend_agg.py:214: RuntimeWarning: Glyph 46020 missing from current font.\n",
            "  font.set_text(s, 0.0, flags=flags)\n",
            "/usr/local/lib/python3.7/dist-packages/matplotlib/backends/backend_agg.py:214: RuntimeWarning: Glyph 44053 missing from current font.\n",
            "  font.set_text(s, 0.0, flags=flags)\n",
            "/usr/local/lib/python3.7/dist-packages/matplotlib/backends/backend_agg.py:214: RuntimeWarning: Glyph 50896 missing from current font.\n",
            "  font.set_text(s, 0.0, flags=flags)\n",
            "/usr/local/lib/python3.7/dist-packages/matplotlib/backends/backend_agg.py:214: RuntimeWarning: Glyph 52649 missing from current font.\n",
            "  font.set_text(s, 0.0, flags=flags)\n",
            "/usr/local/lib/python3.7/dist-packages/matplotlib/backends/backend_agg.py:214: RuntimeWarning: Glyph 52397 missing from current font.\n",
            "  font.set_text(s, 0.0, flags=flags)\n",
            "/usr/local/lib/python3.7/dist-packages/matplotlib/backends/backend_agg.py:214: RuntimeWarning: Glyph 48513 missing from current font.\n",
            "  font.set_text(s, 0.0, flags=flags)\n",
            "/usr/local/lib/python3.7/dist-packages/matplotlib/backends/backend_agg.py:214: RuntimeWarning: Glyph 46972 missing from current font.\n",
            "  font.set_text(s, 0.0, flags=flags)\n",
            "/usr/local/lib/python3.7/dist-packages/matplotlib/backends/backend_agg.py:214: RuntimeWarning: Glyph 49345 missing from current font.\n",
            "  font.set_text(s, 0.0, flags=flags)\n",
            "/usr/local/lib/python3.7/dist-packages/matplotlib/backends/backend_agg.py:214: RuntimeWarning: Glyph 51228 missing from current font.\n",
            "  font.set_text(s, 0.0, flags=flags)\n",
            "/usr/local/lib/python3.7/dist-packages/matplotlib/backends/backend_agg.py:183: RuntimeWarning: Glyph 51204 missing from current font.\n",
            "  font.set_text(s, 0, flags=flags)\n",
            "/usr/local/lib/python3.7/dist-packages/matplotlib/backends/backend_agg.py:183: RuntimeWarning: Glyph 44397 missing from current font.\n",
            "  font.set_text(s, 0, flags=flags)\n",
            "/usr/local/lib/python3.7/dist-packages/matplotlib/backends/backend_agg.py:183: RuntimeWarning: Glyph 45224 missing from current font.\n",
            "  font.set_text(s, 0, flags=flags)\n",
            "/usr/local/lib/python3.7/dist-packages/matplotlib/backends/backend_agg.py:183: RuntimeWarning: Glyph 51088 missing from current font.\n",
            "  font.set_text(s, 0, flags=flags)\n",
            "/usr/local/lib/python3.7/dist-packages/matplotlib/backends/backend_agg.py:183: RuntimeWarning: Glyph 51064 missing from current font.\n",
            "  font.set_text(s, 0, flags=flags)\n",
            "/usr/local/lib/python3.7/dist-packages/matplotlib/backends/backend_agg.py:183: RuntimeWarning: Glyph 44396 missing from current font.\n",
            "  font.set_text(s, 0, flags=flags)\n",
            "/usr/local/lib/python3.7/dist-packages/matplotlib/backends/backend_agg.py:183: RuntimeWarning: Glyph 49688 missing from current font.\n",
            "  font.set_text(s, 0, flags=flags)\n",
            "/usr/local/lib/python3.7/dist-packages/matplotlib/backends/backend_agg.py:183: RuntimeWarning: Glyph 50668 missing from current font.\n",
            "  font.set_text(s, 0, flags=flags)\n",
            "/usr/local/lib/python3.7/dist-packages/matplotlib/backends/backend_agg.py:183: RuntimeWarning: Glyph 52509 missing from current font.\n",
            "  font.set_text(s, 0, flags=flags)\n",
            "/usr/local/lib/python3.7/dist-packages/matplotlib/backends/backend_agg.py:183: RuntimeWarning: Glyph 49436 missing from current font.\n",
            "  font.set_text(s, 0, flags=flags)\n",
            "/usr/local/lib/python3.7/dist-packages/matplotlib/backends/backend_agg.py:183: RuntimeWarning: Glyph 50872 missing from current font.\n",
            "  font.set_text(s, 0, flags=flags)\n",
            "/usr/local/lib/python3.7/dist-packages/matplotlib/backends/backend_agg.py:183: RuntimeWarning: Glyph 53945 missing from current font.\n",
            "  font.set_text(s, 0, flags=flags)\n",
            "/usr/local/lib/python3.7/dist-packages/matplotlib/backends/backend_agg.py:183: RuntimeWarning: Glyph 48324 missing from current font.\n",
            "  font.set_text(s, 0, flags=flags)\n",
            "/usr/local/lib/python3.7/dist-packages/matplotlib/backends/backend_agg.py:183: RuntimeWarning: Glyph 49884 missing from current font.\n",
            "  font.set_text(s, 0, flags=flags)\n",
            "/usr/local/lib/python3.7/dist-packages/matplotlib/backends/backend_agg.py:183: RuntimeWarning: Glyph 48512 missing from current font.\n",
            "  font.set_text(s, 0, flags=flags)\n",
            "/usr/local/lib/python3.7/dist-packages/matplotlib/backends/backend_agg.py:183: RuntimeWarning: Glyph 49328 missing from current font.\n",
            "  font.set_text(s, 0, flags=flags)\n",
            "/usr/local/lib/python3.7/dist-packages/matplotlib/backends/backend_agg.py:183: RuntimeWarning: Glyph 44305 missing from current font.\n",
            "  font.set_text(s, 0, flags=flags)\n",
            "/usr/local/lib/python3.7/dist-packages/matplotlib/backends/backend_agg.py:183: RuntimeWarning: Glyph 50669 missing from current font.\n",
            "  font.set_text(s, 0, flags=flags)\n",
            "/usr/local/lib/python3.7/dist-packages/matplotlib/backends/backend_agg.py:183: RuntimeWarning: Glyph 45824 missing from current font.\n",
            "  font.set_text(s, 0, flags=flags)\n",
            "/usr/local/lib/python3.7/dist-packages/matplotlib/backends/backend_agg.py:183: RuntimeWarning: Glyph 52380 missing from current font.\n",
            "  font.set_text(s, 0, flags=flags)\n",
            "/usr/local/lib/python3.7/dist-packages/matplotlib/backends/backend_agg.py:183: RuntimeWarning: Glyph 51452 missing from current font.\n",
            "  font.set_text(s, 0, flags=flags)\n",
            "/usr/local/lib/python3.7/dist-packages/matplotlib/backends/backend_agg.py:183: RuntimeWarning: Glyph 49464 missing from current font.\n",
            "  font.set_text(s, 0, flags=flags)\n",
            "/usr/local/lib/python3.7/dist-packages/matplotlib/backends/backend_agg.py:183: RuntimeWarning: Glyph 51333 missing from current font.\n",
            "  font.set_text(s, 0, flags=flags)\n",
            "/usr/local/lib/python3.7/dist-packages/matplotlib/backends/backend_agg.py:183: RuntimeWarning: Glyph 52824 missing from current font.\n",
            "  font.set_text(s, 0, flags=flags)\n",
            "/usr/local/lib/python3.7/dist-packages/matplotlib/backends/backend_agg.py:183: RuntimeWarning: Glyph 44221 missing from current font.\n",
            "  font.set_text(s, 0, flags=flags)\n",
            "/usr/local/lib/python3.7/dist-packages/matplotlib/backends/backend_agg.py:183: RuntimeWarning: Glyph 44592 missing from current font.\n",
            "  font.set_text(s, 0, flags=flags)\n",
            "/usr/local/lib/python3.7/dist-packages/matplotlib/backends/backend_agg.py:183: RuntimeWarning: Glyph 46020 missing from current font.\n",
            "  font.set_text(s, 0, flags=flags)\n",
            "/usr/local/lib/python3.7/dist-packages/matplotlib/backends/backend_agg.py:183: RuntimeWarning: Glyph 44053 missing from current font.\n",
            "  font.set_text(s, 0, flags=flags)\n",
            "/usr/local/lib/python3.7/dist-packages/matplotlib/backends/backend_agg.py:183: RuntimeWarning: Glyph 50896 missing from current font.\n",
            "  font.set_text(s, 0, flags=flags)\n",
            "/usr/local/lib/python3.7/dist-packages/matplotlib/backends/backend_agg.py:183: RuntimeWarning: Glyph 52649 missing from current font.\n",
            "  font.set_text(s, 0, flags=flags)\n",
            "/usr/local/lib/python3.7/dist-packages/matplotlib/backends/backend_agg.py:183: RuntimeWarning: Glyph 52397 missing from current font.\n",
            "  font.set_text(s, 0, flags=flags)\n",
            "/usr/local/lib/python3.7/dist-packages/matplotlib/backends/backend_agg.py:183: RuntimeWarning: Glyph 48513 missing from current font.\n",
            "  font.set_text(s, 0, flags=flags)\n",
            "/usr/local/lib/python3.7/dist-packages/matplotlib/backends/backend_agg.py:183: RuntimeWarning: Glyph 46972 missing from current font.\n",
            "  font.set_text(s, 0, flags=flags)\n",
            "/usr/local/lib/python3.7/dist-packages/matplotlib/backends/backend_agg.py:183: RuntimeWarning: Glyph 49345 missing from current font.\n",
            "  font.set_text(s, 0, flags=flags)\n",
            "/usr/local/lib/python3.7/dist-packages/matplotlib/backends/backend_agg.py:183: RuntimeWarning: Glyph 51228 missing from current font.\n",
            "  font.set_text(s, 0, flags=flags)\n"
          ],
          "name": "stderr"
        },
        {
          "output_type": "display_data",
          "data": {
            "image/png": "[encoded data removed]",
            "text/plain": [
              "<Figure size 1080x720 with 1 Axes>"
            ]
          },
          "metadata": {
            "tags": [],
            "needs_background": "light"
          }
        }
      ]
    },
    {
      "cell_type": "code",
      "metadata": {
        "colab": {
          "base_uri": "https://localhost:8080/",
          "height": 938
        },
        "id": "mX9DACTeoZ-S",
        "outputId": "eccea66f-45f6-4c4c-ba81-4e94502238bc"
      },
      "source": [
        "tf['서울특별시'].plot()"
      ],
      "execution_count": 78,
      "outputs": [
        {
          "output_type": "execute_result",
          "data": {
            "text/plain": [
              "<matplotlib.axes._subplots.AxesSubplot at 0x7f44c8a8a210>"
            ]
          },
          "metadata": {
            "tags": []
          },
          "execution_count": 78
        },
        {
          "output_type": "stream",
          "text": [
            "/usr/local/lib/python3.7/dist-packages/matplotlib/backends/backend_agg.py:214: RuntimeWarning: Glyph 45224 missing from current font.\n",
            "  font.set_text(s, 0.0, flags=flags)\n",
            "/usr/local/lib/python3.7/dist-packages/matplotlib/backends/backend_agg.py:214: RuntimeWarning: Glyph 51088 missing from current font.\n",
            "  font.set_text(s, 0.0, flags=flags)\n",
            "/usr/local/lib/python3.7/dist-packages/matplotlib/backends/backend_agg.py:214: RuntimeWarning: Glyph 51064 missing from current font.\n",
            "  font.set_text(s, 0.0, flags=flags)\n",
            "/usr/local/lib/python3.7/dist-packages/matplotlib/backends/backend_agg.py:214: RuntimeWarning: Glyph 44396 missing from current font.\n",
            "  font.set_text(s, 0.0, flags=flags)\n",
            "/usr/local/lib/python3.7/dist-packages/matplotlib/backends/backend_agg.py:214: RuntimeWarning: Glyph 49688 missing from current font.\n",
            "  font.set_text(s, 0.0, flags=flags)\n",
            "/usr/local/lib/python3.7/dist-packages/matplotlib/backends/backend_agg.py:214: RuntimeWarning: Glyph 50668 missing from current font.\n",
            "  font.set_text(s, 0.0, flags=flags)\n",
            "/usr/local/lib/python3.7/dist-packages/matplotlib/backends/backend_agg.py:214: RuntimeWarning: Glyph 52509 missing from current font.\n",
            "  font.set_text(s, 0.0, flags=flags)\n",
            "/usr/local/lib/python3.7/dist-packages/matplotlib/backends/backend_agg.py:183: RuntimeWarning: Glyph 45224 missing from current font.\n",
            "  font.set_text(s, 0, flags=flags)\n",
            "/usr/local/lib/python3.7/dist-packages/matplotlib/backends/backend_agg.py:183: RuntimeWarning: Glyph 51088 missing from current font.\n",
            "  font.set_text(s, 0, flags=flags)\n",
            "/usr/local/lib/python3.7/dist-packages/matplotlib/backends/backend_agg.py:183: RuntimeWarning: Glyph 51064 missing from current font.\n",
            "  font.set_text(s, 0, flags=flags)\n",
            "/usr/local/lib/python3.7/dist-packages/matplotlib/backends/backend_agg.py:183: RuntimeWarning: Glyph 44396 missing from current font.\n",
            "  font.set_text(s, 0, flags=flags)\n",
            "/usr/local/lib/python3.7/dist-packages/matplotlib/backends/backend_agg.py:183: RuntimeWarning: Glyph 49688 missing from current font.\n",
            "  font.set_text(s, 0, flags=flags)\n",
            "/usr/local/lib/python3.7/dist-packages/matplotlib/backends/backend_agg.py:183: RuntimeWarning: Glyph 50668 missing from current font.\n",
            "  font.set_text(s, 0, flags=flags)\n",
            "/usr/local/lib/python3.7/dist-packages/matplotlib/backends/backend_agg.py:183: RuntimeWarning: Glyph 52509 missing from current font.\n",
            "  font.set_text(s, 0, flags=flags)\n"
          ],
          "name": "stderr"
        },
        {
          "output_type": "display_data",
          "data": {
            "image/png": "[encoded data removed]",
            "text/plain": [
              "<Figure size 1080x720 with 1 Axes>"
            ]
          },
          "metadata": {
            "tags": [],
            "needs_background": "light"
          }
        }
      ]
    },
    {
      "cell_type": "code",
      "metadata": {
        "colab": {
          "base_uri": "https://localhost:8080/",
          "height": 916
        },
        "id": "jzE7nrfgoWPp",
        "outputId": "750d9fd4-6f5d-4849-c4d3-10f04d885ec1"
      },
      "source": [
        "tf['세종특별자치시'].plot()"
      ],
      "execution_count": 79,
      "outputs": [
        {
          "output_type": "execute_result",
          "data": {
            "text/plain": [
              "<matplotlib.axes._subplots.AxesSubplot at 0x7f44c8a39150>"
            ]
          },
          "metadata": {
            "tags": []
          },
          "execution_count": 79
        },
        {
          "output_type": "stream",
          "text": [
            "/usr/local/lib/python3.7/dist-packages/matplotlib/backends/backend_agg.py:214: RuntimeWarning: Glyph 45224 missing from current font.\n",
            "  font.set_text(s, 0.0, flags=flags)\n",
            "/usr/local/lib/python3.7/dist-packages/matplotlib/backends/backend_agg.py:214: RuntimeWarning: Glyph 51088 missing from current font.\n",
            "  font.set_text(s, 0.0, flags=flags)\n",
            "/usr/local/lib/python3.7/dist-packages/matplotlib/backends/backend_agg.py:214: RuntimeWarning: Glyph 51064 missing from current font.\n",
            "  font.set_text(s, 0.0, flags=flags)\n",
            "/usr/local/lib/python3.7/dist-packages/matplotlib/backends/backend_agg.py:214: RuntimeWarning: Glyph 44396 missing from current font.\n",
            "  font.set_text(s, 0.0, flags=flags)\n",
            "/usr/local/lib/python3.7/dist-packages/matplotlib/backends/backend_agg.py:214: RuntimeWarning: Glyph 49688 missing from current font.\n",
            "  font.set_text(s, 0.0, flags=flags)\n",
            "/usr/local/lib/python3.7/dist-packages/matplotlib/backends/backend_agg.py:214: RuntimeWarning: Glyph 50668 missing from current font.\n",
            "  font.set_text(s, 0.0, flags=flags)\n",
            "/usr/local/lib/python3.7/dist-packages/matplotlib/backends/backend_agg.py:214: RuntimeWarning: Glyph 52509 missing from current font.\n",
            "  font.set_text(s, 0.0, flags=flags)\n",
            "/usr/local/lib/python3.7/dist-packages/matplotlib/backends/backend_agg.py:183: RuntimeWarning: Glyph 45224 missing from current font.\n",
            "  font.set_text(s, 0, flags=flags)\n",
            "/usr/local/lib/python3.7/dist-packages/matplotlib/backends/backend_agg.py:183: RuntimeWarning: Glyph 51088 missing from current font.\n",
            "  font.set_text(s, 0, flags=flags)\n",
            "/usr/local/lib/python3.7/dist-packages/matplotlib/backends/backend_agg.py:183: RuntimeWarning: Glyph 51064 missing from current font.\n",
            "  font.set_text(s, 0, flags=flags)\n",
            "/usr/local/lib/python3.7/dist-packages/matplotlib/backends/backend_agg.py:183: RuntimeWarning: Glyph 44396 missing from current font.\n",
            "  font.set_text(s, 0, flags=flags)\n",
            "/usr/local/lib/python3.7/dist-packages/matplotlib/backends/backend_agg.py:183: RuntimeWarning: Glyph 49688 missing from current font.\n",
            "  font.set_text(s, 0, flags=flags)\n",
            "/usr/local/lib/python3.7/dist-packages/matplotlib/backends/backend_agg.py:183: RuntimeWarning: Glyph 50668 missing from current font.\n",
            "  font.set_text(s, 0, flags=flags)\n",
            "/usr/local/lib/python3.7/dist-packages/matplotlib/backends/backend_agg.py:183: RuntimeWarning: Glyph 52509 missing from current font.\n",
            "  font.set_text(s, 0, flags=flags)\n"
          ],
          "name": "stderr"
        },
        {
          "output_type": "display_data",
          "data": {
            "image/png": "[encoded data removed]",
            "text/plain": [
              "<Figure size 1080x720 with 1 Axes>"
            ]
          },
          "metadata": {
            "tags": [],
            "needs_background": "light"
          }
        }
      ]
    },
    {
      "cell_type": "markdown",
      "metadata": {
        "id": "acZP3bcHokEO"
      },
      "source": [
        "### __(4) 코로나19 (COVID-19) 감염자 분석__"
      ]
    },
    {
      "cell_type": "code",
      "metadata": {
        "colab": {
          "base_uri": "https://localhost:8080/",
          "height": 292
        },
        "id": "YWVZzXEroo18",
        "outputId": "63fa2fc1-aa21-4b06-88d3-7c010bf3b079"
      },
      "source": [
        "df = pd.read_csv('PatientInfo.csv')\r\n",
        "df.head()"
      ],
      "execution_count": 80,
      "outputs": [
        {
          "output_type": "execute_result",
          "data": {
            "text/html": [
              "<div>\n",
              "<style scoped>\n",
              "    .dataframe tbody tr th:only-of-type {\n",
              "        vertical-align: middle;\n",
              "    }\n",
              "\n",
              "    .dataframe tbody tr th {\n",
              "        vertical-align: top;\n",
              "    }\n",
              "\n",
              "    .dataframe thead th {\n",
              "        text-align: right;\n",
              "    }\n",
              "</style>\n",
              "<table border=\"1\" class=\"dataframe\">\n",
              "  <thead>\n",
              "    <tr style=\"text-align: right;\">\n",
              "      <th></th>\n",
              "      <th>patient_id</th>\n",
              "      <th>sex</th>\n",
              "      <th>age</th>\n",
              "      <th>country</th>\n",
              "      <th>province</th>\n",
              "      <th>city</th>\n",
              "      <th>infection_case</th>\n",
              "      <th>infected_by</th>\n",
              "      <th>contact_number</th>\n",
              "      <th>symptom_onset_date</th>\n",
              "      <th>confirmed_date</th>\n",
              "      <th>released_date</th>\n",
              "      <th>deceased_date</th>\n",
              "      <th>state</th>\n",
              "    </tr>\n",
              "  </thead>\n",
              "  <tbody>\n",
              "    <tr>\n",
              "      <th>0</th>\n",
              "      <td>1000000001</td>\n",
              "      <td>male</td>\n",
              "      <td>50s</td>\n",
              "      <td>Korea</td>\n",
              "      <td>Seoul</td>\n",
              "      <td>Gangseo-gu</td>\n",
              "      <td>overseas inflow</td>\n",
              "      <td>NaN</td>\n",
              "      <td>75</td>\n",
              "      <td>2020-01-22</td>\n",
              "      <td>2020-01-23</td>\n",
              "      <td>2020-02-05</td>\n",
              "      <td>NaN</td>\n",
              "      <td>released</td>\n",
              "    </tr>\n",
              "    <tr>\n",
              "      <th>1</th>\n",
              "      <td>1000000002</td>\n",
              "      <td>male</td>\n",
              "      <td>30s</td>\n",
              "      <td>Korea</td>\n",
              "      <td>Seoul</td>\n",
              "      <td>Jungnang-gu</td>\n",
              "      <td>overseas inflow</td>\n",
              "      <td>NaN</td>\n",
              "      <td>31</td>\n",
              "      <td>NaN</td>\n",
              "      <td>2020-01-30</td>\n",
              "      <td>2020-03-02</td>\n",
              "      <td>NaN</td>\n",
              "      <td>released</td>\n",
              "    </tr>\n",
              "    <tr>\n",
              "      <th>2</th>\n",
              "      <td>1000000003</td>\n",
              "      <td>male</td>\n",
              "      <td>50s</td>\n",
              "      <td>Korea</td>\n",
              "      <td>Seoul</td>\n",
              "      <td>Jongno-gu</td>\n",
              "      <td>contact with patient</td>\n",
              "      <td>2002000001</td>\n",
              "      <td>17</td>\n",
              "      <td>NaN</td>\n",
              "      <td>2020-01-30</td>\n",
              "      <td>2020-02-19</td>\n",
              "      <td>NaN</td>\n",
              "      <td>released</td>\n",
              "    </tr>\n",
              "    <tr>\n",
              "      <th>3</th>\n",
              "      <td>1000000004</td>\n",
              "      <td>male</td>\n",
              "      <td>20s</td>\n",
              "      <td>Korea</td>\n",
              "      <td>Seoul</td>\n",
              "      <td>Mapo-gu</td>\n",
              "      <td>overseas inflow</td>\n",
              "      <td>NaN</td>\n",
              "      <td>9</td>\n",
              "      <td>2020-01-26</td>\n",
              "      <td>2020-01-30</td>\n",
              "      <td>2020-02-15</td>\n",
              "      <td>NaN</td>\n",
              "      <td>released</td>\n",
              "    </tr>\n",
              "    <tr>\n",
              "      <th>4</th>\n",
              "      <td>1000000005</td>\n",
              "      <td>female</td>\n",
              "      <td>20s</td>\n",
              "      <td>Korea</td>\n",
              "      <td>Seoul</td>\n",
              "      <td>Seongbuk-gu</td>\n",
              "      <td>contact with patient</td>\n",
              "      <td>1000000002</td>\n",
              "      <td>2</td>\n",
              "      <td>NaN</td>\n",
              "      <td>2020-01-31</td>\n",
              "      <td>2020-02-24</td>\n",
              "      <td>NaN</td>\n",
              "      <td>released</td>\n",
              "    </tr>\n",
              "  </tbody>\n",
              "</table>\n",
              "</div>"
            ],
            "text/plain": [
              "   patient_id     sex  age  ... released_date deceased_date     state\n",
              "0  1000000001    male  50s  ...    2020-02-05           NaN  released\n",
              "1  1000000002    male  30s  ...    2020-03-02           NaN  released\n",
              "2  1000000003    male  50s  ...    2020-02-19           NaN  released\n",
              "3  1000000004    male  20s  ...    2020-02-15           NaN  released\n",
              "4  1000000005  female  20s  ...    2020-02-24           NaN  released\n",
              "\n",
              "[5 rows x 14 columns]"
            ]
          },
          "metadata": {
            "tags": []
          },
          "execution_count": 80
        }
      ]
    },
    {
      "cell_type": "code",
      "metadata": {
        "colab": {
          "base_uri": "https://localhost:8080/"
        },
        "id": "mv0eYGHrqD5y",
        "outputId": "d4fd9865-f804-407a-a0f7-0c32b8f821e5"
      },
      "source": [
        "df['count'] = 1\r\n",
        "df.columns"
      ],
      "execution_count": 81,
      "outputs": [
        {
          "output_type": "execute_result",
          "data": {
            "text/plain": [
              "Index(['patient_id', 'sex', 'age', 'country', 'province', 'city',\n",
              "       'infection_case', 'infected_by', 'contact_number', 'symptom_onset_date',\n",
              "       'confirmed_date', 'released_date', 'deceased_date', 'state', 'count'],\n",
              "      dtype='object')"
            ]
          },
          "metadata": {
            "tags": []
          },
          "execution_count": 81
        }
      ]
    },
    {
      "cell_type": "code",
      "metadata": {
        "colab": {
          "base_uri": "https://localhost:8080/"
        },
        "id": "AwUyKeMlqHxh",
        "outputId": "83d635d0-ee6c-451a-a5f8-96edd3a1a19e"
      },
      "source": [
        "df.country.unique()"
      ],
      "execution_count": 82,
      "outputs": [
        {
          "output_type": "execute_result",
          "data": {
            "text/plain": [
              "array(['Korea', 'China', 'United States', 'France', 'Thailand', 'Canada',\n",
              "       'India', 'Switzerland', 'Germany', 'Indonesia', 'Vietnam',\n",
              "       'Foreign', 'Mongolia', 'United Kingdom', 'Spain', 'Bangladesh'],\n",
              "      dtype=object)"
            ]
          },
          "metadata": {
            "tags": []
          },
          "execution_count": 82
        }
      ]
    },
    {
      "cell_type": "code",
      "metadata": {
        "colab": {
          "base_uri": "https://localhost:8080/",
          "height": 576
        },
        "id": "fedcArrhqK37",
        "outputId": "2e1e9f81-475c-41d4-d15b-b99c390a24a3"
      },
      "source": [
        "df.groupby('country').count()[['patient_id']]"
      ],
      "execution_count": 84,
      "outputs": [
        {
          "output_type": "execute_result",
          "data": {
            "text/html": [
              "<div>\n",
              "<style scoped>\n",
              "    .dataframe tbody tr th:only-of-type {\n",
              "        vertical-align: middle;\n",
              "    }\n",
              "\n",
              "    .dataframe tbody tr th {\n",
              "        vertical-align: top;\n",
              "    }\n",
              "\n",
              "    .dataframe thead th {\n",
              "        text-align: right;\n",
              "    }\n",
              "</style>\n",
              "<table border=\"1\" class=\"dataframe\">\n",
              "  <thead>\n",
              "    <tr style=\"text-align: right;\">\n",
              "      <th></th>\n",
              "      <th>patient_id</th>\n",
              "    </tr>\n",
              "    <tr>\n",
              "      <th>country</th>\n",
              "      <th></th>\n",
              "    </tr>\n",
              "  </thead>\n",
              "  <tbody>\n",
              "    <tr>\n",
              "      <th>Bangladesh</th>\n",
              "      <td>5</td>\n",
              "    </tr>\n",
              "    <tr>\n",
              "      <th>Canada</th>\n",
              "      <td>1</td>\n",
              "    </tr>\n",
              "    <tr>\n",
              "      <th>China</th>\n",
              "      <td>11</td>\n",
              "    </tr>\n",
              "    <tr>\n",
              "      <th>Foreign</th>\n",
              "      <td>7</td>\n",
              "    </tr>\n",
              "    <tr>\n",
              "      <th>France</th>\n",
              "      <td>1</td>\n",
              "    </tr>\n",
              "    <tr>\n",
              "      <th>Germany</th>\n",
              "      <td>1</td>\n",
              "    </tr>\n",
              "    <tr>\n",
              "      <th>India</th>\n",
              "      <td>1</td>\n",
              "    </tr>\n",
              "    <tr>\n",
              "      <th>Indonesia</th>\n",
              "      <td>2</td>\n",
              "    </tr>\n",
              "    <tr>\n",
              "      <th>Korea</th>\n",
              "      <td>5123</td>\n",
              "    </tr>\n",
              "    <tr>\n",
              "      <th>Mongolia</th>\n",
              "      <td>1</td>\n",
              "    </tr>\n",
              "    <tr>\n",
              "      <th>Spain</th>\n",
              "      <td>1</td>\n",
              "    </tr>\n",
              "    <tr>\n",
              "      <th>Switzerland</th>\n",
              "      <td>1</td>\n",
              "    </tr>\n",
              "    <tr>\n",
              "      <th>Thailand</th>\n",
              "      <td>2</td>\n",
              "    </tr>\n",
              "    <tr>\n",
              "      <th>United Kingdom</th>\n",
              "      <td>1</td>\n",
              "    </tr>\n",
              "    <tr>\n",
              "      <th>United States</th>\n",
              "      <td>6</td>\n",
              "    </tr>\n",
              "    <tr>\n",
              "      <th>Vietnam</th>\n",
              "      <td>1</td>\n",
              "    </tr>\n",
              "  </tbody>\n",
              "</table>\n",
              "</div>"
            ],
            "text/plain": [
              "                patient_id\n",
              "country                   \n",
              "Bangladesh               5\n",
              "Canada                   1\n",
              "China                   11\n",
              "Foreign                  7\n",
              "France                   1\n",
              "Germany                  1\n",
              "India                    1\n",
              "Indonesia                2\n",
              "Korea                 5123\n",
              "Mongolia                 1\n",
              "Spain                    1\n",
              "Switzerland              1\n",
              "Thailand                 2\n",
              "United Kingdom           1\n",
              "United States            6\n",
              "Vietnam                  1"
            ]
          },
          "metadata": {
            "tags": []
          },
          "execution_count": 84
        }
      ]
    },
    {
      "cell_type": "code",
      "metadata": {
        "colab": {
          "base_uri": "https://localhost:8080/",
          "height": 523
        },
        "id": "QndAD0EfqXXF",
        "outputId": "6b036f76-d795-4ac3-9087-196a5b3b8ac1"
      },
      "source": [
        "df.groupby('country').count()[['patient_id']].plot(kind='bar')"
      ],
      "execution_count": 85,
      "outputs": [
        {
          "output_type": "execute_result",
          "data": {
            "text/plain": [
              "<matplotlib.axes._subplots.AxesSubplot at 0x7f44c89301d0>"
            ]
          },
          "metadata": {
            "tags": []
          },
          "execution_count": 85
        },
        {
          "output_type": "stream",
          "text": [
            "findfont: Font family ['sans-serif'] not found. Falling back to DejaVu Sans.\n"
          ],
          "name": "stderr"
        },
        {
          "output_type": "display_data",
          "data": {
            "image/png": "[encoded data removed]",
            "text/plain": [
              "<Figure size 1080x720 with 1 Axes>"
            ]
          },
          "metadata": {
            "tags": [],
            "needs_background": "light"
          }
        }
      ]
    },
    {
      "cell_type": "code",
      "metadata": {
        "colab": {
          "base_uri": "https://localhost:8080/",
          "height": 1000
        },
        "id": "AQrZpYlgqdb2",
        "outputId": "d652d14a-170e-4a3b-e13c-43f74067bb4d"
      },
      "source": [
        "df.groupby('infection_case').sum()[['count']]"
      ],
      "execution_count": 89,
      "outputs": [
        {
          "output_type": "execute_result",
          "data": {
            "text/html": [
              "<div>\n",
              "<style scoped>\n",
              "    .dataframe tbody tr th:only-of-type {\n",
              "        vertical-align: middle;\n",
              "    }\n",
              "\n",
              "    .dataframe tbody tr th {\n",
              "        vertical-align: top;\n",
              "    }\n",
              "\n",
              "    .dataframe thead th {\n",
              "        text-align: right;\n",
              "    }\n",
              "</style>\n",
              "<table border=\"1\" class=\"dataframe\">\n",
              "  <thead>\n",
              "    <tr style=\"text-align: right;\">\n",
              "      <th></th>\n",
              "      <th>count</th>\n",
              "    </tr>\n",
              "    <tr>\n",
              "      <th>infection_case</th>\n",
              "      <th></th>\n",
              "    </tr>\n",
              "  </thead>\n",
              "  <tbody>\n",
              "    <tr>\n",
              "      <th>Anyang Gunpo Pastors Group</th>\n",
              "      <td>1</td>\n",
              "    </tr>\n",
              "    <tr>\n",
              "      <th>Biblical Language study meeting</th>\n",
              "      <td>3</td>\n",
              "    </tr>\n",
              "    <tr>\n",
              "      <th>Bonghwa Pureun Nursing Home</th>\n",
              "      <td>31</td>\n",
              "    </tr>\n",
              "    <tr>\n",
              "      <th>Changnyeong Coin Karaoke</th>\n",
              "      <td>4</td>\n",
              "    </tr>\n",
              "    <tr>\n",
              "      <th>Cheongdo Daenam Hospital</th>\n",
              "      <td>21</td>\n",
              "    </tr>\n",
              "    <tr>\n",
              "      <th>Coupang Logistics Center</th>\n",
              "      <td>80</td>\n",
              "    </tr>\n",
              "    <tr>\n",
              "      <th>Daejeon door-to-door sales</th>\n",
              "      <td>1</td>\n",
              "    </tr>\n",
              "    <tr>\n",
              "      <th>Daezayeon Korea</th>\n",
              "      <td>3</td>\n",
              "    </tr>\n",
              "    <tr>\n",
              "      <th>Day Care Center</th>\n",
              "      <td>43</td>\n",
              "    </tr>\n",
              "    <tr>\n",
              "      <th>Dongan Church</th>\n",
              "      <td>17</td>\n",
              "    </tr>\n",
              "    <tr>\n",
              "      <th>Dunsan Electronics Town</th>\n",
              "      <td>13</td>\n",
              "    </tr>\n",
              "    <tr>\n",
              "      <th>Eunpyeong St. Mary's Hospital</th>\n",
              "      <td>16</td>\n",
              "    </tr>\n",
              "    <tr>\n",
              "      <th>Gangnam Dongin Church</th>\n",
              "      <td>1</td>\n",
              "    </tr>\n",
              "    <tr>\n",
              "      <th>Gangnam Yeoksam-dong gathering</th>\n",
              "      <td>6</td>\n",
              "    </tr>\n",
              "    <tr>\n",
              "      <th>Geochang Church</th>\n",
              "      <td>6</td>\n",
              "    </tr>\n",
              "    <tr>\n",
              "      <th>Geumcheon-gu rice milling machine manufacture</th>\n",
              "      <td>6</td>\n",
              "    </tr>\n",
              "    <tr>\n",
              "      <th>Guri Collective Infection</th>\n",
              "      <td>5</td>\n",
              "    </tr>\n",
              "    <tr>\n",
              "      <th>Guro-gu Call Center</th>\n",
              "      <td>112</td>\n",
              "    </tr>\n",
              "    <tr>\n",
              "      <th>Gyeongsan Cham Joeun Community Center</th>\n",
              "      <td>10</td>\n",
              "    </tr>\n",
              "    <tr>\n",
              "      <th>Gyeongsan Jeil Silver Town</th>\n",
              "      <td>12</td>\n",
              "    </tr>\n",
              "    <tr>\n",
              "      <th>Gyeongsan Seorin Nursing Home</th>\n",
              "      <td>15</td>\n",
              "    </tr>\n",
              "    <tr>\n",
              "      <th>Itaewon Clubs</th>\n",
              "      <td>162</td>\n",
              "    </tr>\n",
              "    <tr>\n",
              "      <th>KB Life Insurance</th>\n",
              "      <td>13</td>\n",
              "    </tr>\n",
              "    <tr>\n",
              "      <th>Korea Campus Crusade of Christ</th>\n",
              "      <td>7</td>\n",
              "    </tr>\n",
              "    <tr>\n",
              "      <th>Milal Shelter</th>\n",
              "      <td>11</td>\n",
              "    </tr>\n",
              "    <tr>\n",
              "      <th>Ministry of Oceans and Fisheries</th>\n",
              "      <td>28</td>\n",
              "    </tr>\n",
              "    <tr>\n",
              "      <th>Onchun Church</th>\n",
              "      <td>33</td>\n",
              "    </tr>\n",
              "    <tr>\n",
              "      <th>Orange Life</th>\n",
              "      <td>1</td>\n",
              "    </tr>\n",
              "    <tr>\n",
              "      <th>Orange Town</th>\n",
              "      <td>7</td>\n",
              "    </tr>\n",
              "    <tr>\n",
              "      <th>Pilgrimage to Israel</th>\n",
              "      <td>2</td>\n",
              "    </tr>\n",
              "    <tr>\n",
              "      <th>Richway</th>\n",
              "      <td>128</td>\n",
              "    </tr>\n",
              "    <tr>\n",
              "      <th>River of Grace Community Church</th>\n",
              "      <td>1</td>\n",
              "    </tr>\n",
              "    <tr>\n",
              "      <th>SMR Newly Planted Churches Group</th>\n",
              "      <td>36</td>\n",
              "    </tr>\n",
              "    <tr>\n",
              "      <th>Samsung Fire &amp; Marine Insurance</th>\n",
              "      <td>4</td>\n",
              "    </tr>\n",
              "    <tr>\n",
              "      <th>Samsung Medical Center</th>\n",
              "      <td>7</td>\n",
              "    </tr>\n",
              "    <tr>\n",
              "      <th>Seocho Family</th>\n",
              "      <td>5</td>\n",
              "    </tr>\n",
              "    <tr>\n",
              "      <th>Seongdong-gu APT</th>\n",
              "      <td>13</td>\n",
              "    </tr>\n",
              "    <tr>\n",
              "      <th>Seoul City Hall Station safety worker</th>\n",
              "      <td>3</td>\n",
              "    </tr>\n",
              "    <tr>\n",
              "      <th>Shincheonji Church</th>\n",
              "      <td>107</td>\n",
              "    </tr>\n",
              "    <tr>\n",
              "      <th>Suyeong-gu Kindergarten</th>\n",
              "      <td>3</td>\n",
              "    </tr>\n",
              "    <tr>\n",
              "      <th>Uiwang Logistics Center</th>\n",
              "      <td>2</td>\n",
              "    </tr>\n",
              "    <tr>\n",
              "      <th>Wangsung Church</th>\n",
              "      <td>24</td>\n",
              "    </tr>\n",
              "    <tr>\n",
              "      <th>Yangcheon Table Tennis Club</th>\n",
              "      <td>44</td>\n",
              "    </tr>\n",
              "    <tr>\n",
              "      <th>Yeonana News Class</th>\n",
              "      <td>5</td>\n",
              "    </tr>\n",
              "    <tr>\n",
              "      <th>Yeongdeungpo Learning Institute</th>\n",
              "      <td>3</td>\n",
              "    </tr>\n",
              "    <tr>\n",
              "      <th>Yongin Brothers</th>\n",
              "      <td>4</td>\n",
              "    </tr>\n",
              "    <tr>\n",
              "      <th>contact with patient</th>\n",
              "      <td>1610</td>\n",
              "    </tr>\n",
              "    <tr>\n",
              "      <th>etc</th>\n",
              "      <td>703</td>\n",
              "    </tr>\n",
              "    <tr>\n",
              "      <th>gym facility in Cheonan</th>\n",
              "      <td>30</td>\n",
              "    </tr>\n",
              "    <tr>\n",
              "      <th>gym facility in Sejong</th>\n",
              "      <td>4</td>\n",
              "    </tr>\n",
              "    <tr>\n",
              "      <th>overseas inflow</th>\n",
              "      <td>840</td>\n",
              "    </tr>\n",
              "  </tbody>\n",
              "</table>\n",
              "</div>"
            ],
            "text/plain": [
              "                                               count\n",
              "infection_case                                      \n",
              "Anyang Gunpo Pastors Group                         1\n",
              "Biblical Language study meeting                    3\n",
              "Bonghwa Pureun Nursing Home                       31\n",
              "Changnyeong Coin Karaoke                           4\n",
              "Cheongdo Daenam Hospital                          21\n",
              "Coupang Logistics Center                          80\n",
              "Daejeon door-to-door sales                         1\n",
              "Daezayeon Korea                                    3\n",
              "Day Care Center                                   43\n",
              "Dongan Church                                     17\n",
              "Dunsan Electronics Town                           13\n",
              "Eunpyeong St. Mary's Hospital                     16\n",
              "Gangnam Dongin Church                              1\n",
              "Gangnam Yeoksam-dong gathering                     6\n",
              "Geochang Church                                    6\n",
              "Geumcheon-gu rice milling machine manufacture      6\n",
              "Guri Collective Infection                          5\n",
              "Guro-gu Call Center                              112\n",
              "Gyeongsan Cham Joeun Community Center             10\n",
              "Gyeongsan Jeil Silver Town                        12\n",
              "Gyeongsan Seorin Nursing Home                     15\n",
              "Itaewon Clubs                                    162\n",
              "KB Life Insurance                                 13\n",
              "Korea Campus Crusade of Christ                     7\n",
              "Milal Shelter                                     11\n",
              "Ministry of Oceans and Fisheries                  28\n",
              "Onchun Church                                     33\n",
              "Orange Life                                        1\n",
              "Orange Town                                        7\n",
              "Pilgrimage to Israel                               2\n",
              "Richway                                          128\n",
              "River of Grace Community Church                    1\n",
              "SMR Newly Planted Churches Group                  36\n",
              "Samsung Fire & Marine Insurance                    4\n",
              "Samsung Medical Center                             7\n",
              "Seocho Family                                      5\n",
              "Seongdong-gu APT                                  13\n",
              "Seoul City Hall Station safety worker              3\n",
              "Shincheonji Church                               107\n",
              "Suyeong-gu Kindergarten                            3\n",
              "Uiwang Logistics Center                            2\n",
              "Wangsung Church                                   24\n",
              "Yangcheon Table Tennis Club                       44\n",
              "Yeonana News Class                                 5\n",
              "Yeongdeungpo Learning Institute                    3\n",
              "Yongin Brothers                                    4\n",
              "contact with patient                            1610\n",
              "etc                                              703\n",
              "gym facility in Cheonan                           30\n",
              "gym facility in Sejong                             4\n",
              "overseas inflow                                  840"
            ]
          },
          "metadata": {
            "tags": []
          },
          "execution_count": 89
        }
      ]
    },
    {
      "cell_type": "code",
      "metadata": {
        "colab": {
          "base_uri": "https://localhost:8080/",
          "height": 450
        },
        "id": "NvVsS3OZqvP1",
        "outputId": "a21e4bb9-a3db-43f2-bd2b-323c8643c24a"
      },
      "source": [
        "rf = df.groupby('confirmed_date').sum()\r\n",
        "rf['dead'] = df.groupby('deceased_date').sum()[['count']]\r\n",
        "rf['contact_number'] = df.groupby('contact_number').sum()[['count']]\r\n",
        "rf = rf[['count', 'dead', 'contact_number']]\r\n",
        "\r\n",
        "rf['total_dead'] = rf['dead'].cumsum()\r\n",
        "rf['total_count'] = rf['count'].cumsum()\r\n",
        "rf['total_contact'] = rf['contact_number'].cumsum()\r\n",
        "rf"
      ],
      "execution_count": 118,
      "outputs": [
        {
          "output_type": "execute_result",
          "data": {
            "text/html": [
              "<div>\n",
              "<style scoped>\n",
              "    .dataframe tbody tr th:only-of-type {\n",
              "        vertical-align: middle;\n",
              "    }\n",
              "\n",
              "    .dataframe tbody tr th {\n",
              "        vertical-align: top;\n",
              "    }\n",
              "\n",
              "    .dataframe thead th {\n",
              "        text-align: right;\n",
              "    }\n",
              "</style>\n",
              "<table border=\"1\" class=\"dataframe\">\n",
              "  <thead>\n",
              "    <tr style=\"text-align: right;\">\n",
              "      <th></th>\n",
              "      <th>count</th>\n",
              "      <th>dead</th>\n",
              "      <th>contact_number</th>\n",
              "      <th>total_dead</th>\n",
              "      <th>total_count</th>\n",
              "      <th>total_contact</th>\n",
              "    </tr>\n",
              "    <tr>\n",
              "      <th>confirmed_date</th>\n",
              "      <th></th>\n",
              "      <th></th>\n",
              "      <th></th>\n",
              "      <th></th>\n",
              "      <th></th>\n",
              "      <th></th>\n",
              "    </tr>\n",
              "  </thead>\n",
              "  <tbody>\n",
              "    <tr>\n",
              "      <th>2020-01-20</th>\n",
              "      <td>1</td>\n",
              "      <td>NaN</td>\n",
              "      <td>NaN</td>\n",
              "      <td>NaN</td>\n",
              "      <td>1</td>\n",
              "      <td>NaN</td>\n",
              "    </tr>\n",
              "    <tr>\n",
              "      <th>2020-01-23</th>\n",
              "      <td>1</td>\n",
              "      <td>NaN</td>\n",
              "      <td>NaN</td>\n",
              "      <td>NaN</td>\n",
              "      <td>2</td>\n",
              "      <td>NaN</td>\n",
              "    </tr>\n",
              "    <tr>\n",
              "      <th>2020-01-26</th>\n",
              "      <td>1</td>\n",
              "      <td>NaN</td>\n",
              "      <td>NaN</td>\n",
              "      <td>NaN</td>\n",
              "      <td>3</td>\n",
              "      <td>NaN</td>\n",
              "    </tr>\n",
              "    <tr>\n",
              "      <th>2020-01-27</th>\n",
              "      <td>1</td>\n",
              "      <td>NaN</td>\n",
              "      <td>NaN</td>\n",
              "      <td>NaN</td>\n",
              "      <td>4</td>\n",
              "      <td>NaN</td>\n",
              "    </tr>\n",
              "    <tr>\n",
              "      <th>2020-01-30</th>\n",
              "      <td>4</td>\n",
              "      <td>NaN</td>\n",
              "      <td>NaN</td>\n",
              "      <td>NaN</td>\n",
              "      <td>8</td>\n",
              "      <td>NaN</td>\n",
              "    </tr>\n",
              "    <tr>\n",
              "      <th>...</th>\n",
              "      <td>...</td>\n",
              "      <td>...</td>\n",
              "      <td>...</td>\n",
              "      <td>...</td>\n",
              "      <td>...</td>\n",
              "      <td>...</td>\n",
              "    </tr>\n",
              "    <tr>\n",
              "      <th>2020-06-26</th>\n",
              "      <td>40</td>\n",
              "      <td>NaN</td>\n",
              "      <td>NaN</td>\n",
              "      <td>NaN</td>\n",
              "      <td>5044</td>\n",
              "      <td>NaN</td>\n",
              "    </tr>\n",
              "    <tr>\n",
              "      <th>2020-06-27</th>\n",
              "      <td>48</td>\n",
              "      <td>NaN</td>\n",
              "      <td>NaN</td>\n",
              "      <td>NaN</td>\n",
              "      <td>5092</td>\n",
              "      <td>NaN</td>\n",
              "    </tr>\n",
              "    <tr>\n",
              "      <th>2020-06-28</th>\n",
              "      <td>38</td>\n",
              "      <td>NaN</td>\n",
              "      <td>NaN</td>\n",
              "      <td>NaN</td>\n",
              "      <td>5130</td>\n",
              "      <td>NaN</td>\n",
              "    </tr>\n",
              "    <tr>\n",
              "      <th>2020-06-29</th>\n",
              "      <td>25</td>\n",
              "      <td>NaN</td>\n",
              "      <td>NaN</td>\n",
              "      <td>NaN</td>\n",
              "      <td>5155</td>\n",
              "      <td>NaN</td>\n",
              "    </tr>\n",
              "    <tr>\n",
              "      <th>2020-06-30</th>\n",
              "      <td>7</td>\n",
              "      <td>NaN</td>\n",
              "      <td>NaN</td>\n",
              "      <td>NaN</td>\n",
              "      <td>5162</td>\n",
              "      <td>NaN</td>\n",
              "    </tr>\n",
              "  </tbody>\n",
              "</table>\n",
              "<p>148 rows × 6 columns</p>\n",
              "</div>"
            ],
            "text/plain": [
              "                count  dead  ...  total_count  total_contact\n",
              "confirmed_date               ...                            \n",
              "2020-01-20          1   NaN  ...            1            NaN\n",
              "2020-01-23          1   NaN  ...            2            NaN\n",
              "2020-01-26          1   NaN  ...            3            NaN\n",
              "2020-01-27          1   NaN  ...            4            NaN\n",
              "2020-01-30          4   NaN  ...            8            NaN\n",
              "...               ...   ...  ...          ...            ...\n",
              "2020-06-26         40   NaN  ...         5044            NaN\n",
              "2020-06-27         48   NaN  ...         5092            NaN\n",
              "2020-06-28         38   NaN  ...         5130            NaN\n",
              "2020-06-29         25   NaN  ...         5155            NaN\n",
              "2020-06-30          7   NaN  ...         5162            NaN\n",
              "\n",
              "[148 rows x 6 columns]"
            ]
          },
          "metadata": {
            "tags": []
          },
          "execution_count": 118
        }
      ]
    },
    {
      "cell_type": "code",
      "metadata": {
        "colab": {
          "base_uri": "https://localhost:8080/",
          "height": 623
        },
        "id": "oJd8wkttvfne",
        "outputId": "2c1e490d-3796-419a-fea5-5e3aa34212cd"
      },
      "source": [
        "rf[['count','total_count']].plot()"
      ],
      "execution_count": 116,
      "outputs": [
        {
          "output_type": "execute_result",
          "data": {
            "text/plain": [
              "<matplotlib.axes._subplots.AxesSubplot at 0x7f44c87c25d0>"
            ]
          },
          "metadata": {
            "tags": []
          },
          "execution_count": 116
        },
        {
          "output_type": "display_data",
          "data": {
            "image/png": "[encoded data removed]",
            "text/plain": [
              "<Figure size 1080x720 with 1 Axes>"
            ]
          },
          "metadata": {
            "tags": [],
            "needs_background": "light"
          }
        }
      ]
    },
    {
      "cell_type": "code",
      "metadata": {
        "colab": {
          "base_uri": "https://localhost:8080/",
          "height": 623
        },
        "id": "GQmMoCtEvht1",
        "outputId": "437e0800-99e9-4ce8-e718-04ee7abea7e6"
      },
      "source": [
        "rf[['contact_number','total_count', 'total_contact']].plot()"
      ],
      "execution_count": 119,
      "outputs": [
        {
          "output_type": "execute_result",
          "data": {
            "text/plain": [
              "<matplotlib.axes._subplots.AxesSubplot at 0x7f44c873a050>"
            ]
          },
          "metadata": {
            "tags": []
          },
          "execution_count": 119
        },
        {
          "output_type": "display_data",
          "data": {
            "image/png": "[encoded data removed]",
            "text/plain": [
              "<Figure size 1080x720 with 1 Axes>"
            ]
          },
          "metadata": {
            "tags": [],
            "needs_background": "light"
          }
        }
      ]
    }
  ]
}