{
  "nbformat": 4,
  "nbformat_minor": 0,
  "metadata": {
    "anaconda-cloud": {},
    "celltoolbar": "Edit Metadata",
    "kernelspec": {
      "display_name": "Python 3",
      "language": "python",
      "name": "python3"
    },
    "language_info": {
      "codemirror_mode": {
        "name": "ipython",
        "version": 3
      },
      "file_extension": ".py",
      "mimetype": "text/x-python",
      "name": "python",
      "nbconvert_exporter": "python",
      "pygments_lexer": "ipython3",
      "version": "3.7.6"
    },
    "latex_envs": {
      "LaTeX_envs_menu_present": true,
      "autoclose": false,
      "autocomplete": true,
      "bibliofile": "biblio.bib",
      "cite_by": "apalike",
      "current_citInitial": 1,
      "eqLabelWithNumbers": true,
      "eqNumInitial": 1,
      "hotkeys": {
        "equation": "Ctrl-E",
        "itemize": "Ctrl-I"
      },
      "labels_anchors": false,
      "latex_user_defs": false,
      "report_style_numbering": false,
      "user_envs_cfg": false
    },
    "colab": {
      "name": "Week2-6_김성준.ipynb",
      "provenance": [],
      "toc_visible": true,
      "include_colab_link": true
    }
  },
  "cells": [
    {
      "cell_type": "markdown",
      "metadata": {
        "id": "view-in-github",
        "colab_type": "text"
      },
      "source": [
        "<a href=\"https://colab.research.google.com/github/SWeat-python-weekend-study/seongjun_kim/blob/assignment/Week2-6_%EA%B9%80%EC%84%B1%EC%A4%80.ipynb\" target=\"_parent\"><img src=\"https://colab.research.google.com/assets/colab-badge.svg\" alt=\"Open In Colab\"/></a>"
      ]
    },
    {
      "cell_type": "markdown",
      "metadata": {
        "school_cell_uuid": "e4d22401be624bce89269e857bb8111d",
        "id": "KiT_1mXNZfb6"
      },
      "source": [
        "# 3.3 데이터프레임 고급 인덱싱"
      ]
    },
    {
      "cell_type": "markdown",
      "metadata": {
        "school_cell_uuid": "89ee86967d3347769b353c7abebc7f05",
        "id": "C9Kch7h-ZfcF"
      },
      "source": [
        "데이터프레임에서 특정한 데이터만 골라내는 것을 인덱싱(indexing)이라고 한다. 앞 절에서는 라벨, 라벨 리스트, 인덱스데이터(정수) 슬라이스의 3가지 인덱싱 값을 사용하여 인덱싱을 하는 방법을 공부하였다.\n",
        "그런데 Pandas는 numpy행렬과 같이 쉼표를 사용한 `(행 인덱스, 열 인덱스)` 형식의 2차원 인덱싱을 지원하기 위해 다음과 같은 특별한 인덱서(indexer) 속성도 제공한다.\n",
        "\n",
        "* `loc` : 라벨값 기반의 2차원 인덱싱\n",
        "* `iloc` : 순서를 나타내는 정수 기반의 2차원 인덱싱"
      ]
    },
    {
      "cell_type": "markdown",
      "metadata": {
        "school_cell_uuid": "2c89840460d9498583d9b5195a80a395",
        "id": "Yz4k97dNZfcG"
      },
      "source": [
        "## `loc` 인덱서"
      ]
    },
    {
      "cell_type": "markdown",
      "metadata": {
        "school_cell_uuid": "706d8afe07a44144bb6bee8ae579440c",
        "id": "0yyusI2NZfcH"
      },
      "source": [
        "`loc` 인덱서는 다음처럼 사용한다.\n",
        "\n",
        "```\n",
        "df.loc[행 인덱싱값]\n",
        "```\n",
        "또는\n",
        "```\n",
        "df.loc[행 인덱싱값, 열 인덱싱값]\n",
        "```\n",
        "\n",
        "\n",
        "이 때 인덱싱 값은 다음 중 하나이다. 행 인덱싱값은 정수 또는 행 인덱스데이터이고 열 인덱싱값은 라벨 문자열이다.\n",
        "\n",
        "* 인덱스데이터\n",
        "* 인덱스데이터 슬라이스\n",
        "* 인덱스데이터 리스트\n",
        "* 같은 행 인덱스를 가지는 불리언 시리즈 (행 인덱싱의 경우)\n",
        "* 또는 위의 값들을 반환하는 함수\n"
      ]
    },
    {
      "cell_type": "markdown",
      "metadata": {
        "school_cell_uuid": "9b81b480614b417baf713d69f887f9b2",
        "id": "172fdNjHZfcH"
      },
      "source": [
        "다음과 같은 데이터프레임을 예로 들자."
      ]
    },
    {
      "cell_type": "code",
      "metadata": {
        "id": "0V7qsJgNZxSU"
      },
      "source": [
        "import pandas as pd\r\n",
        "import numpy as np"
      ],
      "execution_count": 1,
      "outputs": []
    },
    {
      "cell_type": "code",
      "metadata": {
        "school_cell_uuid": "2d3bc9c1437b4b0d9f3d39013bca8932",
        "id": "yb9HRtopZfcI",
        "colab": {
          "base_uri": "https://localhost:8080/",
          "height": 142
        },
        "outputId": "6988d367-4517-4115-cf1f-05ac1e0c0d67"
      },
      "source": [
        "df = pd.DataFrame(np.arange(10, 22).reshape(3, 4),\n",
        "                  index=[\"a\", \"b\", \"c\"],\n",
        "                  columns=[\"A\", \"B\", \"C\", \"D\"])\n",
        "df"
      ],
      "execution_count": 2,
      "outputs": [
        {
          "output_type": "execute_result",
          "data": {
            "text/html": [
              "<div>\n",
              "<style scoped>\n",
              "    .dataframe tbody tr th:only-of-type {\n",
              "        vertical-align: middle;\n",
              "    }\n",
              "\n",
              "    .dataframe tbody tr th {\n",
              "        vertical-align: top;\n",
              "    }\n",
              "\n",
              "    .dataframe thead th {\n",
              "        text-align: right;\n",
              "    }\n",
              "</style>\n",
              "<table border=\"1\" class=\"dataframe\">\n",
              "  <thead>\n",
              "    <tr style=\"text-align: right;\">\n",
              "      <th></th>\n",
              "      <th>A</th>\n",
              "      <th>B</th>\n",
              "      <th>C</th>\n",
              "      <th>D</th>\n",
              "    </tr>\n",
              "  </thead>\n",
              "  <tbody>\n",
              "    <tr>\n",
              "      <th>a</th>\n",
              "      <td>10</td>\n",
              "      <td>11</td>\n",
              "      <td>12</td>\n",
              "      <td>13</td>\n",
              "    </tr>\n",
              "    <tr>\n",
              "      <th>b</th>\n",
              "      <td>14</td>\n",
              "      <td>15</td>\n",
              "      <td>16</td>\n",
              "      <td>17</td>\n",
              "    </tr>\n",
              "    <tr>\n",
              "      <th>c</th>\n",
              "      <td>18</td>\n",
              "      <td>19</td>\n",
              "      <td>20</td>\n",
              "      <td>21</td>\n",
              "    </tr>\n",
              "  </tbody>\n",
              "</table>\n",
              "</div>"
            ],
            "text/plain": [
              "    A   B   C   D\n",
              "a  10  11  12  13\n",
              "b  14  15  16  17\n",
              "c  18  19  20  21"
            ]
          },
          "metadata": {
            "tags": []
          },
          "execution_count": 2
        }
      ]
    },
    {
      "cell_type": "markdown",
      "metadata": {
        "id": "TD5yNyrJZfcK"
      },
      "source": [
        "### 인덱싱값을 하나만 받는 경우"
      ]
    },
    {
      "cell_type": "markdown",
      "metadata": {
        "school_cell_uuid": "c5b451908cb5449d84c290fab8b002bf",
        "id": "5sd8cZzHZfcK"
      },
      "source": [
        "만약 `loc` 인덱서를 사용하면서 인덱스를 하나만 넣으면 행(row)을 선택한다.\n",
        "\n",
        "인덱스데이터가 \"a\"인 행을 고르면 해당하는 행이 시리즈로 출력된다. 시리즈라서 상하로 길게 출력되기는 했지만 행을 가져오고 있다."
      ]
    },
    {
      "cell_type": "code",
      "metadata": {
        "school_cell_uuid": "5d294869b93d4e51bb4938b9e46d25ad",
        "id": "ZTncVnQRZfcL",
        "colab": {
          "base_uri": "https://localhost:8080/"
        },
        "outputId": "a463c1c2-5146-434c-a5c3-0e75efba2200"
      },
      "source": [
        "df.loc[\"a\"]"
      ],
      "execution_count": 3,
      "outputs": [
        {
          "output_type": "execute_result",
          "data": {
            "text/plain": [
              "A    10\n",
              "B    11\n",
              "C    12\n",
              "D    13\n",
              "Name: a, dtype: int64"
            ]
          },
          "metadata": {
            "tags": []
          },
          "execution_count": 3
        }
      ]
    },
    {
      "cell_type": "markdown",
      "metadata": {
        "id": "k3xQDrb5ZfcL"
      },
      "source": [
        "인덱스데이터의 슬라이스도 가능하다."
      ]
    },
    {
      "cell_type": "code",
      "metadata": {
        "school_cell_uuid": "24b94f311bd14f8f9d83a12ba63623c9",
        "id": "B1mfRpoeZfcL",
        "colab": {
          "base_uri": "https://localhost:8080/",
          "height": 111
        },
        "outputId": "f7245342-ff00-4d51-ec0d-d6b04d3c6478"
      },
      "source": [
        "df.loc[\"b\":\"c\"]"
      ],
      "execution_count": 4,
      "outputs": [
        {
          "output_type": "execute_result",
          "data": {
            "text/html": [
              "<div>\n",
              "<style scoped>\n",
              "    .dataframe tbody tr th:only-of-type {\n",
              "        vertical-align: middle;\n",
              "    }\n",
              "\n",
              "    .dataframe tbody tr th {\n",
              "        vertical-align: top;\n",
              "    }\n",
              "\n",
              "    .dataframe thead th {\n",
              "        text-align: right;\n",
              "    }\n",
              "</style>\n",
              "<table border=\"1\" class=\"dataframe\">\n",
              "  <thead>\n",
              "    <tr style=\"text-align: right;\">\n",
              "      <th></th>\n",
              "      <th>A</th>\n",
              "      <th>B</th>\n",
              "      <th>C</th>\n",
              "      <th>D</th>\n",
              "    </tr>\n",
              "  </thead>\n",
              "  <tbody>\n",
              "    <tr>\n",
              "      <th>b</th>\n",
              "      <td>14</td>\n",
              "      <td>15</td>\n",
              "      <td>16</td>\n",
              "      <td>17</td>\n",
              "    </tr>\n",
              "    <tr>\n",
              "      <th>c</th>\n",
              "      <td>18</td>\n",
              "      <td>19</td>\n",
              "      <td>20</td>\n",
              "      <td>21</td>\n",
              "    </tr>\n",
              "  </tbody>\n",
              "</table>\n",
              "</div>"
            ],
            "text/plain": [
              "    A   B   C   D\n",
              "b  14  15  16  17\n",
              "c  18  19  20  21"
            ]
          },
          "metadata": {
            "tags": []
          },
          "execution_count": 4
        }
      ]
    },
    {
      "cell_type": "markdown",
      "metadata": {
        "id": "6tFHjgWqZfcM"
      },
      "source": [
        "이 때는 사실 `loc`를 쓰지 않는 경우과 같다."
      ]
    },
    {
      "cell_type": "code",
      "metadata": {
        "school_cell_uuid": "24b94f311bd14f8f9d83a12ba63623c9",
        "id": "cjkd7QPOZfcM",
        "colab": {
          "base_uri": "https://localhost:8080/",
          "height": 111
        },
        "outputId": "a12cfd69-2466-44ca-f08a-2e0afc34c504"
      },
      "source": [
        "df[\"b\":\"c\"]"
      ],
      "execution_count": 5,
      "outputs": [
        {
          "output_type": "execute_result",
          "data": {
            "text/html": [
              "<div>\n",
              "<style scoped>\n",
              "    .dataframe tbody tr th:only-of-type {\n",
              "        vertical-align: middle;\n",
              "    }\n",
              "\n",
              "    .dataframe tbody tr th {\n",
              "        vertical-align: top;\n",
              "    }\n",
              "\n",
              "    .dataframe thead th {\n",
              "        text-align: right;\n",
              "    }\n",
              "</style>\n",
              "<table border=\"1\" class=\"dataframe\">\n",
              "  <thead>\n",
              "    <tr style=\"text-align: right;\">\n",
              "      <th></th>\n",
              "      <th>A</th>\n",
              "      <th>B</th>\n",
              "      <th>C</th>\n",
              "      <th>D</th>\n",
              "    </tr>\n",
              "  </thead>\n",
              "  <tbody>\n",
              "    <tr>\n",
              "      <th>b</th>\n",
              "      <td>14</td>\n",
              "      <td>15</td>\n",
              "      <td>16</td>\n",
              "      <td>17</td>\n",
              "    </tr>\n",
              "    <tr>\n",
              "      <th>c</th>\n",
              "      <td>18</td>\n",
              "      <td>19</td>\n",
              "      <td>20</td>\n",
              "      <td>21</td>\n",
              "    </tr>\n",
              "  </tbody>\n",
              "</table>\n",
              "</div>"
            ],
            "text/plain": [
              "    A   B   C   D\n",
              "b  14  15  16  17\n",
              "c  18  19  20  21"
            ]
          },
          "metadata": {
            "tags": []
          },
          "execution_count": 5
        }
      ]
    },
    {
      "cell_type": "markdown",
      "metadata": {
        "id": "C4EHSJDiZfcN"
      },
      "source": [
        "인덱스데이터의 리스트도 된다."
      ]
    },
    {
      "cell_type": "code",
      "metadata": {
        "school_cell_uuid": "24b94f311bd14f8f9d83a12ba63623c9",
        "id": "p1FKebQqZfcN",
        "colab": {
          "base_uri": "https://localhost:8080/",
          "height": 111
        },
        "outputId": "00bbbaa2-37de-4ea7-b341-b6038ce7f420"
      },
      "source": [
        "df.loc[[\"b\", \"c\"]]"
      ],
      "execution_count": 6,
      "outputs": [
        {
          "output_type": "execute_result",
          "data": {
            "text/html": [
              "<div>\n",
              "<style scoped>\n",
              "    .dataframe tbody tr th:only-of-type {\n",
              "        vertical-align: middle;\n",
              "    }\n",
              "\n",
              "    .dataframe tbody tr th {\n",
              "        vertical-align: top;\n",
              "    }\n",
              "\n",
              "    .dataframe thead th {\n",
              "        text-align: right;\n",
              "    }\n",
              "</style>\n",
              "<table border=\"1\" class=\"dataframe\">\n",
              "  <thead>\n",
              "    <tr style=\"text-align: right;\">\n",
              "      <th></th>\n",
              "      <th>A</th>\n",
              "      <th>B</th>\n",
              "      <th>C</th>\n",
              "      <th>D</th>\n",
              "    </tr>\n",
              "  </thead>\n",
              "  <tbody>\n",
              "    <tr>\n",
              "      <th>b</th>\n",
              "      <td>14</td>\n",
              "      <td>15</td>\n",
              "      <td>16</td>\n",
              "      <td>17</td>\n",
              "    </tr>\n",
              "    <tr>\n",
              "      <th>c</th>\n",
              "      <td>18</td>\n",
              "      <td>19</td>\n",
              "      <td>20</td>\n",
              "      <td>21</td>\n",
              "    </tr>\n",
              "  </tbody>\n",
              "</table>\n",
              "</div>"
            ],
            "text/plain": [
              "    A   B   C   D\n",
              "b  14  15  16  17\n",
              "c  18  19  20  21"
            ]
          },
          "metadata": {
            "tags": []
          },
          "execution_count": 6
        }
      ]
    },
    {
      "cell_type": "markdown",
      "metadata": {
        "id": "b5CBjincZfcO"
      },
      "source": [
        "이 때는 `loc`를 쓰지 않으면 KeyError 오류가 발생한다.."
      ]
    },
    {
      "cell_type": "code",
      "metadata": {
        "school_cell_uuid": "24b94f311bd14f8f9d83a12ba63623c9",
        "id": "ugqwiGHCZfcO"
      },
      "source": [
        "# df[[\"b\", \"c\"]]  # KeyError"
      ],
      "execution_count": 7,
      "outputs": []
    },
    {
      "cell_type": "markdown",
      "metadata": {
        "id": "IcZdgbtqZfcO"
      },
      "source": [
        "데이터베이스와 같은 인덱스를 가지는 불리언 시리즈도 행을 선택하는 인덱싱값으로 쓸 수 있다."
      ]
    },
    {
      "cell_type": "code",
      "metadata": {
        "id": "9inBfPK9ZfcO",
        "colab": {
          "base_uri": "https://localhost:8080/"
        },
        "outputId": "7144ab84-f21a-4764-d5a0-b9cd78dd6bc5"
      },
      "source": [
        "df.A > 15"
      ],
      "execution_count": 8,
      "outputs": [
        {
          "output_type": "execute_result",
          "data": {
            "text/plain": [
              "a    False\n",
              "b    False\n",
              "c     True\n",
              "Name: A, dtype: bool"
            ]
          },
          "metadata": {
            "tags": []
          },
          "execution_count": 8
        }
      ]
    },
    {
      "cell_type": "code",
      "metadata": {
        "id": "f15ogMABZfcP",
        "colab": {
          "base_uri": "https://localhost:8080/",
          "height": 80
        },
        "outputId": "de42710d-6df5-4d60-f08b-42204aaa7274"
      },
      "source": [
        "df.loc[df.A > 15]"
      ],
      "execution_count": 9,
      "outputs": [
        {
          "output_type": "execute_result",
          "data": {
            "text/html": [
              "<div>\n",
              "<style scoped>\n",
              "    .dataframe tbody tr th:only-of-type {\n",
              "        vertical-align: middle;\n",
              "    }\n",
              "\n",
              "    .dataframe tbody tr th {\n",
              "        vertical-align: top;\n",
              "    }\n",
              "\n",
              "    .dataframe thead th {\n",
              "        text-align: right;\n",
              "    }\n",
              "</style>\n",
              "<table border=\"1\" class=\"dataframe\">\n",
              "  <thead>\n",
              "    <tr style=\"text-align: right;\">\n",
              "      <th></th>\n",
              "      <th>A</th>\n",
              "      <th>B</th>\n",
              "      <th>C</th>\n",
              "      <th>D</th>\n",
              "    </tr>\n",
              "  </thead>\n",
              "  <tbody>\n",
              "    <tr>\n",
              "      <th>c</th>\n",
              "      <td>18</td>\n",
              "      <td>19</td>\n",
              "      <td>20</td>\n",
              "      <td>21</td>\n",
              "    </tr>\n",
              "  </tbody>\n",
              "</table>\n",
              "</div>"
            ],
            "text/plain": [
              "    A   B   C   D\n",
              "c  18  19  20  21"
            ]
          },
          "metadata": {
            "tags": []
          },
          "execution_count": 9
        }
      ]
    },
    {
      "cell_type": "markdown",
      "metadata": {
        "school_cell_uuid": "d8830de14fce4f8098e50099979a8445",
        "id": "O1NqN0bOZfcQ"
      },
      "source": [
        "인덱스 대신 인덱스 값을 반환하는 함수를 사용할 수도 있다. 다음 함수는 A열의 값이 15보다 큰 행만 선택한다."
      ]
    },
    {
      "cell_type": "code",
      "metadata": {
        "school_cell_uuid": "9a545b4b09624035bbb9b268c6318212",
        "id": "0-g2BKIhZfcQ"
      },
      "source": [
        "def select_rows(df):\n",
        "    return df.A > 15"
      ],
      "execution_count": 10,
      "outputs": []
    },
    {
      "cell_type": "code",
      "metadata": {
        "school_cell_uuid": "cc467ac94f5940b1b41a59967a59aaba",
        "id": "rRjNyBOcZfcR",
        "colab": {
          "base_uri": "https://localhost:8080/"
        },
        "outputId": "12070e04-3c7a-4262-893b-6726f6a81bf0"
      },
      "source": [
        "select_rows(df)"
      ],
      "execution_count": 11,
      "outputs": [
        {
          "output_type": "execute_result",
          "data": {
            "text/plain": [
              "a    False\n",
              "b    False\n",
              "c     True\n",
              "Name: A, dtype: bool"
            ]
          },
          "metadata": {
            "tags": []
          },
          "execution_count": 11
        }
      ]
    },
    {
      "cell_type": "code",
      "metadata": {
        "school_cell_uuid": "644b4eb7083c4c4f82ea214aa1a31cda",
        "id": "w8emICGyZfcR",
        "colab": {
          "base_uri": "https://localhost:8080/",
          "height": 80
        },
        "outputId": "3ca3c3a7-8848-4fe3-edfb-2c84efa36703"
      },
      "source": [
        "df.loc[select_rows(df)]"
      ],
      "execution_count": 12,
      "outputs": [
        {
          "output_type": "execute_result",
          "data": {
            "text/html": [
              "<div>\n",
              "<style scoped>\n",
              "    .dataframe tbody tr th:only-of-type {\n",
              "        vertical-align: middle;\n",
              "    }\n",
              "\n",
              "    .dataframe tbody tr th {\n",
              "        vertical-align: top;\n",
              "    }\n",
              "\n",
              "    .dataframe thead th {\n",
              "        text-align: right;\n",
              "    }\n",
              "</style>\n",
              "<table border=\"1\" class=\"dataframe\">\n",
              "  <thead>\n",
              "    <tr style=\"text-align: right;\">\n",
              "      <th></th>\n",
              "      <th>A</th>\n",
              "      <th>B</th>\n",
              "      <th>C</th>\n",
              "      <th>D</th>\n",
              "    </tr>\n",
              "  </thead>\n",
              "  <tbody>\n",
              "    <tr>\n",
              "      <th>c</th>\n",
              "      <td>18</td>\n",
              "      <td>19</td>\n",
              "      <td>20</td>\n",
              "      <td>21</td>\n",
              "    </tr>\n",
              "  </tbody>\n",
              "</table>\n",
              "</div>"
            ],
            "text/plain": [
              "    A   B   C   D\n",
              "c  18  19  20  21"
            ]
          },
          "metadata": {
            "tags": []
          },
          "execution_count": 12
        }
      ]
    },
    {
      "cell_type": "markdown",
      "metadata": {
        "id": "PppNphuUZfcS"
      },
      "source": [
        "`loc` 인덱서가 없는 경우에 사용했던 라벨 인덱싱이나 라벨 리스트 인덱싱은 불가능하다."
      ]
    },
    {
      "cell_type": "code",
      "metadata": {
        "id": "kKRfgOhOZfcS"
      },
      "source": [
        "# df.loc[\"A\"]  # KeyError"
      ],
      "execution_count": 13,
      "outputs": []
    },
    {
      "cell_type": "code",
      "metadata": {
        "id": "_RKBiaQaZfcS"
      },
      "source": [
        "# df.loc[[\"A\", \"B\"]]  # KeyError"
      ],
      "execution_count": 14,
      "outputs": []
    },
    {
      "cell_type": "markdown",
      "metadata": {
        "school_cell_uuid": "5a28b9323b404bb6896b6668a9fa3b76",
        "id": "_IeIPcQFZfcS"
      },
      "source": [
        "원래 (행) 인덱스값이 정수인 경우에는 슬라이싱도 라벨 슬라이싱 방식을 따르게 된다. 즉, 슬라이스의 마지막 값이 포함된다."
      ]
    },
    {
      "cell_type": "code",
      "metadata": {
        "school_cell_uuid": "cb220ad3b3534cf8a8bee67a6b0a536c",
        "id": "TZSmYCLIZfcT",
        "colab": {
          "base_uri": "https://localhost:8080/",
          "height": 173
        },
        "outputId": "a47a864b-5e73-4351-a879-adf4b75a7e7d"
      },
      "source": [
        "df2 = pd.DataFrame(np.arange(10, 26).reshape(4, 4), columns=[\"A\", \"B\", \"C\", \"D\"])\n",
        "df2"
      ],
      "execution_count": 15,
      "outputs": [
        {
          "output_type": "execute_result",
          "data": {
            "text/html": [
              "<div>\n",
              "<style scoped>\n",
              "    .dataframe tbody tr th:only-of-type {\n",
              "        vertical-align: middle;\n",
              "    }\n",
              "\n",
              "    .dataframe tbody tr th {\n",
              "        vertical-align: top;\n",
              "    }\n",
              "\n",
              "    .dataframe thead th {\n",
              "        text-align: right;\n",
              "    }\n",
              "</style>\n",
              "<table border=\"1\" class=\"dataframe\">\n",
              "  <thead>\n",
              "    <tr style=\"text-align: right;\">\n",
              "      <th></th>\n",
              "      <th>A</th>\n",
              "      <th>B</th>\n",
              "      <th>C</th>\n",
              "      <th>D</th>\n",
              "    </tr>\n",
              "  </thead>\n",
              "  <tbody>\n",
              "    <tr>\n",
              "      <th>0</th>\n",
              "      <td>10</td>\n",
              "      <td>11</td>\n",
              "      <td>12</td>\n",
              "      <td>13</td>\n",
              "    </tr>\n",
              "    <tr>\n",
              "      <th>1</th>\n",
              "      <td>14</td>\n",
              "      <td>15</td>\n",
              "      <td>16</td>\n",
              "      <td>17</td>\n",
              "    </tr>\n",
              "    <tr>\n",
              "      <th>2</th>\n",
              "      <td>18</td>\n",
              "      <td>19</td>\n",
              "      <td>20</td>\n",
              "      <td>21</td>\n",
              "    </tr>\n",
              "    <tr>\n",
              "      <th>3</th>\n",
              "      <td>22</td>\n",
              "      <td>23</td>\n",
              "      <td>24</td>\n",
              "      <td>25</td>\n",
              "    </tr>\n",
              "  </tbody>\n",
              "</table>\n",
              "</div>"
            ],
            "text/plain": [
              "    A   B   C   D\n",
              "0  10  11  12  13\n",
              "1  14  15  16  17\n",
              "2  18  19  20  21\n",
              "3  22  23  24  25"
            ]
          },
          "metadata": {
            "tags": []
          },
          "execution_count": 15
        }
      ]
    },
    {
      "cell_type": "code",
      "metadata": {
        "school_cell_uuid": "fc2e1fd80824455ea360ac2cdb5a6b6f",
        "id": "FPjOu6OZZfcV",
        "colab": {
          "base_uri": "https://localhost:8080/",
          "height": 111
        },
        "outputId": "dad61ca4-4586-4c2a-9ef3-a1cbf28cfc64"
      },
      "source": [
        "df2.loc[1:2]"
      ],
      "execution_count": 16,
      "outputs": [
        {
          "output_type": "execute_result",
          "data": {
            "text/html": [
              "<div>\n",
              "<style scoped>\n",
              "    .dataframe tbody tr th:only-of-type {\n",
              "        vertical-align: middle;\n",
              "    }\n",
              "\n",
              "    .dataframe tbody tr th {\n",
              "        vertical-align: top;\n",
              "    }\n",
              "\n",
              "    .dataframe thead th {\n",
              "        text-align: right;\n",
              "    }\n",
              "</style>\n",
              "<table border=\"1\" class=\"dataframe\">\n",
              "  <thead>\n",
              "    <tr style=\"text-align: right;\">\n",
              "      <th></th>\n",
              "      <th>A</th>\n",
              "      <th>B</th>\n",
              "      <th>C</th>\n",
              "      <th>D</th>\n",
              "    </tr>\n",
              "  </thead>\n",
              "  <tbody>\n",
              "    <tr>\n",
              "      <th>1</th>\n",
              "      <td>14</td>\n",
              "      <td>15</td>\n",
              "      <td>16</td>\n",
              "      <td>17</td>\n",
              "    </tr>\n",
              "    <tr>\n",
              "      <th>2</th>\n",
              "      <td>18</td>\n",
              "      <td>19</td>\n",
              "      <td>20</td>\n",
              "      <td>21</td>\n",
              "    </tr>\n",
              "  </tbody>\n",
              "</table>\n",
              "</div>"
            ],
            "text/plain": [
              "    A   B   C   D\n",
              "1  14  15  16  17\n",
              "2  18  19  20  21"
            ]
          },
          "metadata": {
            "tags": []
          },
          "execution_count": 16
        }
      ]
    },
    {
      "cell_type": "markdown",
      "metadata": {
        "id": "_nADIMYtZfcW"
      },
      "source": [
        "정리하면 다음과 같다.\n",
        "\n",
        "| 인덱싱 값 | 가능 | 결과 | 자료형 | 추가사항 |\n",
        "|-|-|-|-|-|\n",
        "| 행 인덱스값(정수) | O | 행 | 시리즈 | |\n",
        "| 행 인덱스값(정수) 슬라이스 | O | 행 | 데이터프레임 | `loc`가 없는 경우와 같음 |\n",
        "| 행 인덱스값(정수) 리스트 | O | 행 | 데이터프레임 | |\n",
        "| 불리언 시리즈 | O | 행 | 데이터프레임 | 시리즈의 인덱스가 데이터프레임의 행 인덱스와 같아야 한다. |\n",
        "| 불리언 시리즈를 반환하는 함수 | O | 행 | 데이터프레임 |  |\n",
        "| 열 라벨 | X | |  | `loc`가 없는 경우에만 쓸 수 있다. |\n",
        "| 열 라벨 리스트 | X | |  | `loc`가 없는 경우에만 쓸 수 있다. |"
      ]
    },
    {
      "cell_type": "markdown",
      "metadata": {
        "id": "lAIxPIEfZfcW"
      },
      "source": [
        "### 인덱싱값을 행과 열 모두 받는 경우"
      ]
    },
    {
      "cell_type": "markdown",
      "metadata": {
        "school_cell_uuid": "ae0f75a624944575962577a399ef6dc0",
        "id": "eqIIeP08ZfcW"
      },
      "source": [
        "인덱싱값을 행과 열 모두 받으려면 `df.loc[행 인덱스, 열 인덱스]`와 같은 형태로 사용한다. 행 인덱스 라벨값이 `a`, 열 인덱스 라벨값이 `A`인 위치의 값을 구하는 것은 다음과 같다."
      ]
    },
    {
      "cell_type": "code",
      "metadata": {
        "school_cell_uuid": "013adc21505544cd8d828f9120b0cd28",
        "id": "TYq5t4RBZfcX",
        "colab": {
          "base_uri": "https://localhost:8080/"
        },
        "outputId": "af8e2ecf-ecd8-41ff-ae81-183409b894d5"
      },
      "source": [
        "df.loc[\"a\", \"A\"]"
      ],
      "execution_count": 17,
      "outputs": [
        {
          "output_type": "execute_result",
          "data": {
            "text/plain": [
              "10"
            ]
          },
          "metadata": {
            "tags": []
          },
          "execution_count": 17
        }
      ]
    },
    {
      "cell_type": "markdown",
      "metadata": {
        "school_cell_uuid": "94a76dc9304442b881526d28307df3d7",
        "id": "5SUu8iIQZfcX"
      },
      "source": [
        "인덱싱값으로 라벨 데이터의 슬라이싱 또는 리스트를 사용할 수도 있다."
      ]
    },
    {
      "cell_type": "code",
      "metadata": {
        "school_cell_uuid": "f1ae86b9e90b4dccae9f25718934a44a",
        "id": "tITsQqSIZfcX",
        "colab": {
          "base_uri": "https://localhost:8080/"
        },
        "outputId": "9616fdf5-57af-414a-fd72-af7c27887d3e"
      },
      "source": [
        "df.loc[\"b\":, \"A\"]"
      ],
      "execution_count": 18,
      "outputs": [
        {
          "output_type": "execute_result",
          "data": {
            "text/plain": [
              "b    14\n",
              "c    18\n",
              "Name: A, dtype: int64"
            ]
          },
          "metadata": {
            "tags": []
          },
          "execution_count": 18
        }
      ]
    },
    {
      "cell_type": "code",
      "metadata": {
        "school_cell_uuid": "98d25e608dd04706b8eb281cf295e3db",
        "id": "sg6xJSwsZfcY",
        "colab": {
          "base_uri": "https://localhost:8080/"
        },
        "outputId": "b572e7cb-8992-4fa6-d761-9b9fac3c6e7f"
      },
      "source": [
        "df.loc[\"a\", :]"
      ],
      "execution_count": 19,
      "outputs": [
        {
          "output_type": "execute_result",
          "data": {
            "text/plain": [
              "A    10\n",
              "B    11\n",
              "C    12\n",
              "D    13\n",
              "Name: a, dtype: int64"
            ]
          },
          "metadata": {
            "tags": []
          },
          "execution_count": 19
        }
      ]
    },
    {
      "cell_type": "code",
      "metadata": {
        "school_cell_uuid": "99c6141e43904558a980d6d9abc88e2f",
        "id": "Awc6GzntZfcY",
        "colab": {
          "base_uri": "https://localhost:8080/",
          "height": 111
        },
        "outputId": "1d50d9bd-8bc3-4f1e-fdcc-8866fea8319c"
      },
      "source": [
        "df.loc[[\"a\", \"b\"], [\"B\", \"D\"]]"
      ],
      "execution_count": 20,
      "outputs": [
        {
          "output_type": "execute_result",
          "data": {
            "text/html": [
              "<div>\n",
              "<style scoped>\n",
              "    .dataframe tbody tr th:only-of-type {\n",
              "        vertical-align: middle;\n",
              "    }\n",
              "\n",
              "    .dataframe tbody tr th {\n",
              "        vertical-align: top;\n",
              "    }\n",
              "\n",
              "    .dataframe thead th {\n",
              "        text-align: right;\n",
              "    }\n",
              "</style>\n",
              "<table border=\"1\" class=\"dataframe\">\n",
              "  <thead>\n",
              "    <tr style=\"text-align: right;\">\n",
              "      <th></th>\n",
              "      <th>B</th>\n",
              "      <th>D</th>\n",
              "    </tr>\n",
              "  </thead>\n",
              "  <tbody>\n",
              "    <tr>\n",
              "      <th>a</th>\n",
              "      <td>11</td>\n",
              "      <td>13</td>\n",
              "    </tr>\n",
              "    <tr>\n",
              "      <th>b</th>\n",
              "      <td>15</td>\n",
              "      <td>17</td>\n",
              "    </tr>\n",
              "  </tbody>\n",
              "</table>\n",
              "</div>"
            ],
            "text/plain": [
              "    B   D\n",
              "a  11  13\n",
              "b  15  17"
            ]
          },
          "metadata": {
            "tags": []
          },
          "execution_count": 20
        }
      ]
    },
    {
      "cell_type": "markdown",
      "metadata": {
        "id": "im9nALigZfcY"
      },
      "source": [
        "행 인덱스가 같은 불리언 시리즈나 이러한 불리언 시리즈를 반환하는 함수도 행의 인덱싱값이 될 수 있다."
      ]
    },
    {
      "cell_type": "code",
      "metadata": {
        "school_cell_uuid": "841546c45bc54ae0990e2f7198486b50",
        "id": "KHNLyyiFZfcY",
        "colab": {
          "base_uri": "https://localhost:8080/",
          "height": 111
        },
        "outputId": "cd984941-7044-45d6-9658-bd50f0d6f42c"
      },
      "source": [
        "df.loc[df.A > 10, [\"C\", \"D\"]]"
      ],
      "execution_count": 21,
      "outputs": [
        {
          "output_type": "execute_result",
          "data": {
            "text/html": [
              "<div>\n",
              "<style scoped>\n",
              "    .dataframe tbody tr th:only-of-type {\n",
              "        vertical-align: middle;\n",
              "    }\n",
              "\n",
              "    .dataframe tbody tr th {\n",
              "        vertical-align: top;\n",
              "    }\n",
              "\n",
              "    .dataframe thead th {\n",
              "        text-align: right;\n",
              "    }\n",
              "</style>\n",
              "<table border=\"1\" class=\"dataframe\">\n",
              "  <thead>\n",
              "    <tr style=\"text-align: right;\">\n",
              "      <th></th>\n",
              "      <th>C</th>\n",
              "      <th>D</th>\n",
              "    </tr>\n",
              "  </thead>\n",
              "  <tbody>\n",
              "    <tr>\n",
              "      <th>b</th>\n",
              "      <td>16</td>\n",
              "      <td>17</td>\n",
              "    </tr>\n",
              "    <tr>\n",
              "      <th>c</th>\n",
              "      <td>20</td>\n",
              "      <td>21</td>\n",
              "    </tr>\n",
              "  </tbody>\n",
              "</table>\n",
              "</div>"
            ],
            "text/plain": [
              "    C   D\n",
              "b  16  17\n",
              "c  20  21"
            ]
          },
          "metadata": {
            "tags": []
          },
          "execution_count": 21
        }
      ]
    },
    {
      "cell_type": "markdown",
      "metadata": {
        "school_cell_uuid": "bbd3c551381f4dd7b7cf12a260d921f6",
        "id": "ulBOBU4jZfcZ"
      },
      "source": [
        "## `iloc` 인덱서"
      ]
    },
    {
      "cell_type": "markdown",
      "metadata": {
        "school_cell_uuid": "cd5e097e6f28455eabdf36fb9ce37119",
        "id": "6VAQs1afZfcZ"
      },
      "source": [
        "`iloc` 인덱서는 `loc` 인덱서와 반대로 라벨이 아니라 순서를 나타내는 정수(integer) 인덱스만 받는다. 다른 사항은 `loc` 인덱서와 같다."
      ]
    },
    {
      "cell_type": "code",
      "metadata": {
        "school_cell_uuid": "446d9e6d78424c10bf2ab6245fc82cca",
        "id": "fTjrkbPIZfcZ",
        "colab": {
          "base_uri": "https://localhost:8080/"
        },
        "outputId": "58b2ac3c-eb09-4b3e-ebab-cca994bcfd96"
      },
      "source": [
        "df.iloc[0, 1]"
      ],
      "execution_count": 22,
      "outputs": [
        {
          "output_type": "execute_result",
          "data": {
            "text/plain": [
              "11"
            ]
          },
          "metadata": {
            "tags": []
          },
          "execution_count": 22
        }
      ]
    },
    {
      "cell_type": "code",
      "metadata": {
        "school_cell_uuid": "239fbc92ad81434c9193f33643a34b3c",
        "id": "I41bR86sZfca",
        "colab": {
          "base_uri": "https://localhost:8080/"
        },
        "outputId": "2c4aa536-b2cd-4e2b-9302-6dd52074a438"
      },
      "source": [
        "df.iloc[:2, 2]"
      ],
      "execution_count": 23,
      "outputs": [
        {
          "output_type": "execute_result",
          "data": {
            "text/plain": [
              "a    12\n",
              "b    16\n",
              "Name: C, dtype: int64"
            ]
          },
          "metadata": {
            "tags": []
          },
          "execution_count": 23
        }
      ]
    },
    {
      "cell_type": "code",
      "metadata": {
        "school_cell_uuid": "cde66e35ab174df4a3abb01e101b282e",
        "id": "L0j35gjeZfca",
        "colab": {
          "base_uri": "https://localhost:8080/"
        },
        "outputId": "b24ac4cb-b5b4-4c44-d780-28b6aea68c21"
      },
      "source": [
        "df.iloc[0, -2:]"
      ],
      "execution_count": 24,
      "outputs": [
        {
          "output_type": "execute_result",
          "data": {
            "text/plain": [
              "C    12\n",
              "D    13\n",
              "Name: a, dtype: int64"
            ]
          },
          "metadata": {
            "tags": []
          },
          "execution_count": 24
        }
      ]
    },
    {
      "cell_type": "code",
      "metadata": {
        "school_cell_uuid": "20c5b726e62e4faca758b5c520c208cd",
        "id": "PWotmdUbZfca",
        "colab": {
          "base_uri": "https://localhost:8080/",
          "height": 80
        },
        "outputId": "6cb0d957-8aa8-4aea-c7b5-3c626fcedbc6"
      },
      "source": [
        "df.iloc[2:3, 1:3]"
      ],
      "execution_count": 25,
      "outputs": [
        {
          "output_type": "execute_result",
          "data": {
            "text/html": [
              "<div>\n",
              "<style scoped>\n",
              "    .dataframe tbody tr th:only-of-type {\n",
              "        vertical-align: middle;\n",
              "    }\n",
              "\n",
              "    .dataframe tbody tr th {\n",
              "        vertical-align: top;\n",
              "    }\n",
              "\n",
              "    .dataframe thead th {\n",
              "        text-align: right;\n",
              "    }\n",
              "</style>\n",
              "<table border=\"1\" class=\"dataframe\">\n",
              "  <thead>\n",
              "    <tr style=\"text-align: right;\">\n",
              "      <th></th>\n",
              "      <th>B</th>\n",
              "      <th>C</th>\n",
              "    </tr>\n",
              "  </thead>\n",
              "  <tbody>\n",
              "    <tr>\n",
              "      <th>c</th>\n",
              "      <td>19</td>\n",
              "      <td>20</td>\n",
              "    </tr>\n",
              "  </tbody>\n",
              "</table>\n",
              "</div>"
            ],
            "text/plain": [
              "    B   C\n",
              "c  19  20"
            ]
          },
          "metadata": {
            "tags": []
          },
          "execution_count": 25
        }
      ]
    },
    {
      "cell_type": "markdown",
      "metadata": {
        "school_cell_uuid": "fc98d52efb844f8295e6285a295275a6",
        "id": "XaHZBDN0Zfcb"
      },
      "source": [
        "`loc` 인덱서와 마찬가지로 인덱스가 하나만 들어가면 행을 선택한다."
      ]
    },
    {
      "cell_type": "code",
      "metadata": {
        "school_cell_uuid": "fe9099f099974673aa48731b3c9f8fba",
        "id": "rZ1WvkWUZfcb",
        "colab": {
          "base_uri": "https://localhost:8080/"
        },
        "outputId": "c06beda8-1380-40cb-eceb-14706fcfeae4"
      },
      "source": [
        "df.iloc[-1]"
      ],
      "execution_count": 26,
      "outputs": [
        {
          "output_type": "execute_result",
          "data": {
            "text/plain": [
              "A    18\n",
              "B    19\n",
              "C    20\n",
              "D    21\n",
              "Name: c, dtype: int64"
            ]
          },
          "metadata": {
            "tags": []
          },
          "execution_count": 26
        }
      ]
    },
    {
      "cell_type": "code",
      "metadata": {
        "school_cell_uuid": "86e4a000510b4a1a94bf2f2e114444d9",
        "id": "-sseL-hIZfcb",
        "colab": {
          "base_uri": "https://localhost:8080/",
          "height": 142
        },
        "outputId": "b4b43a5d-6743-4764-8a09-e0a532087137"
      },
      "source": [
        "df.iloc[-1] = df.iloc[-1] * 2\n",
        "df"
      ],
      "execution_count": 27,
      "outputs": [
        {
          "output_type": "execute_result",
          "data": {
            "text/html": [
              "<div>\n",
              "<style scoped>\n",
              "    .dataframe tbody tr th:only-of-type {\n",
              "        vertical-align: middle;\n",
              "    }\n",
              "\n",
              "    .dataframe tbody tr th {\n",
              "        vertical-align: top;\n",
              "    }\n",
              "\n",
              "    .dataframe thead th {\n",
              "        text-align: right;\n",
              "    }\n",
              "</style>\n",
              "<table border=\"1\" class=\"dataframe\">\n",
              "  <thead>\n",
              "    <tr style=\"text-align: right;\">\n",
              "      <th></th>\n",
              "      <th>A</th>\n",
              "      <th>B</th>\n",
              "      <th>C</th>\n",
              "      <th>D</th>\n",
              "    </tr>\n",
              "  </thead>\n",
              "  <tbody>\n",
              "    <tr>\n",
              "      <th>a</th>\n",
              "      <td>10</td>\n",
              "      <td>11</td>\n",
              "      <td>12</td>\n",
              "      <td>13</td>\n",
              "    </tr>\n",
              "    <tr>\n",
              "      <th>b</th>\n",
              "      <td>14</td>\n",
              "      <td>15</td>\n",
              "      <td>16</td>\n",
              "      <td>17</td>\n",
              "    </tr>\n",
              "    <tr>\n",
              "      <th>c</th>\n",
              "      <td>36</td>\n",
              "      <td>38</td>\n",
              "      <td>40</td>\n",
              "      <td>42</td>\n",
              "    </tr>\n",
              "  </tbody>\n",
              "</table>\n",
              "</div>"
            ],
            "text/plain": [
              "    A   B   C   D\n",
              "a  10  11  12  13\n",
              "b  14  15  16  17\n",
              "c  36  38  40  42"
            ]
          },
          "metadata": {
            "tags": []
          },
          "execution_count": 27
        }
      ]
    },
    {
      "cell_type": "markdown",
      "metadata": {
        "bootstrap": {
          "panel": {
            "class": "panel-default"
          }
        },
        "school_cell_uuid": "269c72d94eac4e4c948cb3560fd9b5e9",
        "id": "hDdz-V8_Zfcb"
      },
      "source": [
        "**<스스로> 연습문제**\n",
        "````{admonition} 연습 문제 4.3.1\n",
        "\n",
        "1. 모든 행과 열에 라벨을 가지는 5 x 5 이상의 크기를 가지는 데이터프레임을 만든다. \n",
        "2. 10가지 이상의 방법으로 특정한 행과 열을 선택한다.\n",
        "````"
      ]
    },
    {
      "cell_type": "code",
      "metadata": {
        "colab": {
          "base_uri": "https://localhost:8080/",
          "height": 235
        },
        "id": "d2ItOrh074s4",
        "outputId": "6ae91c82-9af7-4429-e823-ff38ff048b4c"
      },
      "source": [
        "df = pd.DataFrame(np.arange(1, 37).reshape(6, 6),\r\n",
        "                  index = [\"!\", \"@\", \"#\", \"$\", \"%\", \"^\"], \r\n",
        "                  columns = [\"a\", \"b\", \"c\", \"d\", \"e\", \"f\"]\r\n",
        ")\r\n",
        "df"
      ],
      "execution_count": 33,
      "outputs": [
        {
          "output_type": "execute_result",
          "data": {
            "text/html": [
              "<div>\n",
              "<style scoped>\n",
              "    .dataframe tbody tr th:only-of-type {\n",
              "        vertical-align: middle;\n",
              "    }\n",
              "\n",
              "    .dataframe tbody tr th {\n",
              "        vertical-align: top;\n",
              "    }\n",
              "\n",
              "    .dataframe thead th {\n",
              "        text-align: right;\n",
              "    }\n",
              "</style>\n",
              "<table border=\"1\" class=\"dataframe\">\n",
              "  <thead>\n",
              "    <tr style=\"text-align: right;\">\n",
              "      <th></th>\n",
              "      <th>a</th>\n",
              "      <th>b</th>\n",
              "      <th>c</th>\n",
              "      <th>d</th>\n",
              "      <th>e</th>\n",
              "      <th>f</th>\n",
              "    </tr>\n",
              "  </thead>\n",
              "  <tbody>\n",
              "    <tr>\n",
              "      <th>!</th>\n",
              "      <td>1</td>\n",
              "      <td>2</td>\n",
              "      <td>3</td>\n",
              "      <td>4</td>\n",
              "      <td>5</td>\n",
              "      <td>6</td>\n",
              "    </tr>\n",
              "    <tr>\n",
              "      <th>@</th>\n",
              "      <td>7</td>\n",
              "      <td>8</td>\n",
              "      <td>9</td>\n",
              "      <td>10</td>\n",
              "      <td>11</td>\n",
              "      <td>12</td>\n",
              "    </tr>\n",
              "    <tr>\n",
              "      <th>#</th>\n",
              "      <td>13</td>\n",
              "      <td>14</td>\n",
              "      <td>15</td>\n",
              "      <td>16</td>\n",
              "      <td>17</td>\n",
              "      <td>18</td>\n",
              "    </tr>\n",
              "    <tr>\n",
              "      <th>$</th>\n",
              "      <td>19</td>\n",
              "      <td>20</td>\n",
              "      <td>21</td>\n",
              "      <td>22</td>\n",
              "      <td>23</td>\n",
              "      <td>24</td>\n",
              "    </tr>\n",
              "    <tr>\n",
              "      <th>%</th>\n",
              "      <td>25</td>\n",
              "      <td>26</td>\n",
              "      <td>27</td>\n",
              "      <td>28</td>\n",
              "      <td>29</td>\n",
              "      <td>30</td>\n",
              "    </tr>\n",
              "    <tr>\n",
              "      <th>^</th>\n",
              "      <td>31</td>\n",
              "      <td>32</td>\n",
              "      <td>33</td>\n",
              "      <td>34</td>\n",
              "      <td>35</td>\n",
              "      <td>36</td>\n",
              "    </tr>\n",
              "  </tbody>\n",
              "</table>\n",
              "</div>"
            ],
            "text/plain": [
              "    a   b   c   d   e   f\n",
              "!   1   2   3   4   5   6\n",
              "@   7   8   9  10  11  12\n",
              "#  13  14  15  16  17  18\n",
              "$  19  20  21  22  23  24\n",
              "%  25  26  27  28  29  30\n",
              "^  31  32  33  34  35  36"
            ]
          },
          "metadata": {
            "tags": []
          },
          "execution_count": 33
        }
      ]
    },
    {
      "cell_type": "code",
      "metadata": {
        "colab": {
          "base_uri": "https://localhost:8080/"
        },
        "id": "1Z584vrB9XR7",
        "outputId": "fb0517c7-e083-4bb2-e7ef-da20efd00328"
      },
      "source": [
        "df.loc[\"$\", \"d\"]"
      ],
      "execution_count": 35,
      "outputs": [
        {
          "output_type": "execute_result",
          "data": {
            "text/plain": [
              "22"
            ]
          },
          "metadata": {
            "tags": []
          },
          "execution_count": 35
        }
      ]
    },
    {
      "cell_type": "code",
      "metadata": {
        "colab": {
          "base_uri": "https://localhost:8080/"
        },
        "id": "ARIcfeHy-Jfu",
        "outputId": "a84f4595-f95c-44d1-bd9f-11bd2d47ef62"
      },
      "source": [
        "df.loc[\"$\":\"$\", \"d\"][\"$\"]"
      ],
      "execution_count": 37,
      "outputs": [
        {
          "output_type": "execute_result",
          "data": {
            "text/plain": [
              "22"
            ]
          },
          "metadata": {
            "tags": []
          },
          "execution_count": 37
        }
      ]
    },
    {
      "cell_type": "code",
      "metadata": {
        "colab": {
          "base_uri": "https://localhost:8080/"
        },
        "id": "rUOIrwV1-Y-e",
        "outputId": "ce0c3f8b-a8a4-43f0-d016-105db40b7890"
      },
      "source": [
        "df.loc[\"$\", \"d\":\"d\"][\"d\"]"
      ],
      "execution_count": 38,
      "outputs": [
        {
          "output_type": "execute_result",
          "data": {
            "text/plain": [
              "22"
            ]
          },
          "metadata": {
            "tags": []
          },
          "execution_count": 38
        }
      ]
    },
    {
      "cell_type": "code",
      "metadata": {
        "colab": {
          "base_uri": "https://localhost:8080/"
        },
        "id": "QyLsNEOr-cdK",
        "outputId": "328430c2-3a29-4dd4-92fe-4d6942d142fe"
      },
      "source": [
        "df.loc[\"$\":\"$\", \"d\":\"d\"][\"d\"][\"$\"]"
      ],
      "execution_count": 40,
      "outputs": [
        {
          "output_type": "execute_result",
          "data": {
            "text/plain": [
              "22"
            ]
          },
          "metadata": {
            "tags": []
          },
          "execution_count": 40
        }
      ]
    },
    {
      "cell_type": "code",
      "metadata": {
        "colab": {
          "base_uri": "https://localhost:8080/"
        },
        "id": "vtz2JsSY-k87",
        "outputId": "2e34097d-2217-42af-eb59-b6396832bcb3"
      },
      "source": [
        "df.iloc[3, 3]"
      ],
      "execution_count": 41,
      "outputs": [
        {
          "output_type": "execute_result",
          "data": {
            "text/plain": [
              "22"
            ]
          },
          "metadata": {
            "tags": []
          },
          "execution_count": 41
        }
      ]
    },
    {
      "cell_type": "code",
      "metadata": {
        "colab": {
          "base_uri": "https://localhost:8080/"
        },
        "id": "cdgmzGSU-yRN",
        "outputId": "5c6f885b-0dc1-4dd2-a2cb-fd5c9227a0e8"
      },
      "source": [
        "df.iloc[2:4, 3][1]"
      ],
      "execution_count": 48,
      "outputs": [
        {
          "output_type": "execute_result",
          "data": {
            "text/plain": [
              "22"
            ]
          },
          "metadata": {
            "tags": []
          },
          "execution_count": 48
        }
      ]
    },
    {
      "cell_type": "code",
      "metadata": {
        "colab": {
          "base_uri": "https://localhost:8080/"
        },
        "id": "vg2nXtbe_El4",
        "outputId": "b509f2cb-9dae-489b-d36b-2023c3504a7a"
      },
      "source": [
        "df.iloc[3, 2:4][1]"
      ],
      "execution_count": 49,
      "outputs": [
        {
          "output_type": "execute_result",
          "data": {
            "text/plain": [
              "22"
            ]
          },
          "metadata": {
            "tags": []
          },
          "execution_count": 49
        }
      ]
    },
    {
      "cell_type": "code",
      "metadata": {
        "colab": {
          "base_uri": "https://localhost:8080/"
        },
        "id": "GxOo9EYY_VGI",
        "outputId": "fa73723c-c0a0-4d78-9c67-318423054306"
      },
      "source": [
        "df.iloc[2:4, 2:4].iloc[1,1]"
      ],
      "execution_count": 54,
      "outputs": [
        {
          "output_type": "execute_result",
          "data": {
            "text/plain": [
              "22"
            ]
          },
          "metadata": {
            "tags": []
          },
          "execution_count": 54
        }
      ]
    },
    {
      "cell_type": "code",
      "metadata": {
        "colab": {
          "base_uri": "https://localhost:8080/"
        },
        "id": "TZ6jtj_Z_fdO",
        "outputId": "9027cab4-fb97-47df-c0ab-6c63d9066a14"
      },
      "source": [
        "df.iloc[2:4, 2:4].loc[\"$\", \"d\"]"
      ],
      "execution_count": 55,
      "outputs": [
        {
          "output_type": "execute_result",
          "data": {
            "text/plain": [
              "22"
            ]
          },
          "metadata": {
            "tags": []
          },
          "execution_count": 55
        }
      ]
    },
    {
      "cell_type": "code",
      "metadata": {
        "colab": {
          "base_uri": "https://localhost:8080/"
        },
        "id": "K-Xhsjh8_Jeb",
        "outputId": "c7139136-3679-41b6-b99a-f9c7fb610358"
      },
      "source": [
        "df.iloc[2:4, 2:4].iloc[1,1]"
      ],
      "execution_count": 52,
      "outputs": [
        {
          "output_type": "execute_result",
          "data": {
            "text/plain": [
              "22"
            ]
          },
          "metadata": {
            "tags": []
          },
          "execution_count": 52
        }
      ]
    },
    {
      "cell_type": "markdown",
      "metadata": {
        "id": "LnInWMMc_ntq"
      },
      "source": [
        "### __EBS 교재 pp.89-95 데이터 분석 실습 과제__\r\n",
        "[교재 링크](https://www.ebssw.kr/upload/pgm/ebs_math_ai.pdf)  \r\n",
        "[데이터 파일 링크](https://www.kaggle.com/karangadiya/fifa19)"
      ]
    },
    {
      "cell_type": "code",
      "metadata": {
        "colab": {
          "base_uri": "https://localhost:8080/",
          "height": 35
        },
        "id": "plbx68AuAQ8U",
        "outputId": "f9f4f19f-62c0-4bc9-e014-ae97bd986379"
      },
      "source": [
        "pwd"
      ],
      "execution_count": 56,
      "outputs": [
        {
          "output_type": "execute_result",
          "data": {
            "application/vnd.google.colaboratory.intrinsic+json": {
              "type": "string"
            },
            "text/plain": [
              "'/content'"
            ]
          },
          "metadata": {
            "tags": []
          },
          "execution_count": 56
        }
      ]
    },
    {
      "cell_type": "code",
      "metadata": {
        "colab": {
          "base_uri": "https://localhost:8080/"
        },
        "id": "VA4708CqB1-m",
        "outputId": "c0a7e960-ac7c-4119-f9d9-be3f69bfe583"
      },
      "source": [
        "cd sample_data/"
      ],
      "execution_count": 57,
      "outputs": [
        {
          "output_type": "stream",
          "text": [
            "/content/sample_data\n"
          ],
          "name": "stdout"
        }
      ]
    },
    {
      "cell_type": "code",
      "metadata": {
        "colab": {
          "base_uri": "https://localhost:8080/"
        },
        "id": "P7WygXuxCCxA",
        "outputId": "926e7b95-d380-466a-fd53-3f4ee75214a0"
      },
      "source": [
        "import pandas as pd\r\n",
        "\r\n",
        "fifa2019 = pd.read_csv('data.csv')\r\n",
        "print(fifa2019.shape)"
      ],
      "execution_count": 61,
      "outputs": [
        {
          "output_type": "stream",
          "text": [
            "(10412, 89)\n"
          ],
          "name": "stdout"
        }
      ]
    },
    {
      "cell_type": "code",
      "metadata": {
        "colab": {
          "base_uri": "https://localhost:8080/"
        },
        "id": "gf5C-3oJCOnN",
        "outputId": "af285687-8d13-4925-e34c-cc060a818de3"
      },
      "source": [
        "print(fifa2019.info())"
      ],
      "execution_count": 62,
      "outputs": [
        {
          "output_type": "stream",
          "text": [
            "<class 'pandas.core.frame.DataFrame'>\n",
            "RangeIndex: 10412 entries, 0 to 10411\n",
            "Data columns (total 89 columns):\n",
            " #   Column                    Non-Null Count  Dtype  \n",
            "---  ------                    --------------  -----  \n",
            " 0   Unnamed: 0                10412 non-null  int64  \n",
            " 1   ID                        10412 non-null  int64  \n",
            " 2   Name                      10412 non-null  object \n",
            " 3   Age                       10412 non-null  int64  \n",
            " 4   Photo                     10412 non-null  object \n",
            " 5   Nationality               10412 non-null  object \n",
            " 6   Flag                      10412 non-null  object \n",
            " 7   Overall                   10412 non-null  int64  \n",
            " 8   Potential                 10412 non-null  int64  \n",
            " 9   Club                      10247 non-null  object \n",
            " 10  Club Logo                 10412 non-null  object \n",
            " 11  Value                     10412 non-null  object \n",
            " 12  Wage                      10412 non-null  object \n",
            " 13  Special                   10412 non-null  int64  \n",
            " 14  Preferred Foot            10412 non-null  object \n",
            " 15  International Reputation  10412 non-null  int64  \n",
            " 16  Weak Foot                 10412 non-null  int64  \n",
            " 17  Skill Moves               10412 non-null  int64  \n",
            " 18  Work Rate                 10412 non-null  object \n",
            " 19  Body Type                 10412 non-null  object \n",
            " 20  Real Face                 10412 non-null  object \n",
            " 21  Position                  10408 non-null  object \n",
            " 22  Jersey Number             10408 non-null  float64\n",
            " 23  Joined                    9421 non-null   object \n",
            " 24  Loaned From               826 non-null    object \n",
            " 25  Contract Valid Until      10247 non-null  object \n",
            " 26  Height                    10412 non-null  object \n",
            " 27  Weight                    10412 non-null  object \n",
            " 28  LS                        9444 non-null   object \n",
            " 29  ST                        9444 non-null   object \n",
            " 30  RS                        9444 non-null   object \n",
            " 31  LW                        9444 non-null   object \n",
            " 32  LF                        9444 non-null   object \n",
            " 33  CF                        9444 non-null   object \n",
            " 34  RF                        9444 non-null   object \n",
            " 35  RW                        9444 non-null   object \n",
            " 36  LAM                       9444 non-null   object \n",
            " 37  CAM                       9444 non-null   object \n",
            " 38  RAM                       9444 non-null   object \n",
            " 39  LM                        9444 non-null   object \n",
            " 40  LCM                       9444 non-null   object \n",
            " 41  CM                        9444 non-null   object \n",
            " 42  RCM                       9444 non-null   object \n",
            " 43  RM                        9444 non-null   object \n",
            " 44  LWB                       9444 non-null   object \n",
            " 45  LDM                       9444 non-null   object \n",
            " 46  CDM                       9444 non-null   object \n",
            " 47  RDM                       9444 non-null   object \n",
            " 48  RWB                       9444 non-null   object \n",
            " 49  LB                        9444 non-null   object \n",
            " 50  LCB                       9444 non-null   object \n",
            " 51  CB                        9444 non-null   object \n",
            " 52  RCB                       9444 non-null   object \n",
            " 53  RB                        9444 non-null   object \n",
            " 54  Crossing                  10412 non-null  int64  \n",
            " 55  Finishing                 10412 non-null  int64  \n",
            " 56  HeadingAccuracy           10412 non-null  int64  \n",
            " 57  ShortPassing              10412 non-null  int64  \n",
            " 58  Volleys                   10412 non-null  int64  \n",
            " 59  Dribbling                 10412 non-null  int64  \n",
            " 60  Curve                     10412 non-null  int64  \n",
            " 61  FKAccuracy                10412 non-null  int64  \n",
            " 62  LongPassing               10412 non-null  int64  \n",
            " 63  BallControl               10412 non-null  int64  \n",
            " 64  Acceleration              10412 non-null  int64  \n",
            " 65  SprintSpeed               10412 non-null  int64  \n",
            " 66  Agility                   10412 non-null  int64  \n",
            " 67  Reactions                 10412 non-null  int64  \n",
            " 68  Balance                   10412 non-null  int64  \n",
            " 69  ShotPower                 10412 non-null  int64  \n",
            " 70  Jumping                   10412 non-null  int64  \n",
            " 71  Stamina                   10412 non-null  int64  \n",
            " 72  Strength                  10412 non-null  int64  \n",
            " 73  LongShots                 10412 non-null  int64  \n",
            " 74  Aggression                10412 non-null  int64  \n",
            " 75  Interceptions             10412 non-null  int64  \n",
            " 76  Positioning               10411 non-null  float64\n",
            " 77  Vision                    10411 non-null  float64\n",
            " 78  Penalties                 10411 non-null  float64\n",
            " 79  Composure                 10411 non-null  float64\n",
            " 80  Marking                   10411 non-null  float64\n",
            " 81  StandingTackle            10411 non-null  float64\n",
            " 82  SlidingTackle             10411 non-null  float64\n",
            " 83  GKDiving                  10411 non-null  float64\n",
            " 84  GKHandling                10411 non-null  float64\n",
            " 85  GKKicking                 10411 non-null  float64\n",
            " 86  GKPositioning             10411 non-null  float64\n",
            " 87  GKReflexes                10411 non-null  float64\n",
            " 88  Release Clause            9416 non-null   object \n",
            "dtypes: float64(13), int64(31), object(45)\n",
            "memory usage: 7.1+ MB\n",
            "None\n"
          ],
          "name": "stdout"
        }
      ]
    },
    {
      "cell_type": "code",
      "metadata": {
        "colab": {
          "base_uri": "https://localhost:8080/"
        },
        "id": "VXcYh8qpCanO",
        "outputId": "e9ac0038-c209-4e0e-f9f5-0f665febcf72"
      },
      "source": [
        "sub1 = fifa2019.loc[14]\r\n",
        "print(sub1)"
      ],
      "execution_count": 63,
      "outputs": [
        {
          "output_type": "stream",
          "text": [
            "Unnamed: 0                                                    14\n",
            "ID                                                        215914\n",
            "Name                                                    N. Kanté\n",
            "Age                                                           27\n",
            "Photo             https://cdn.sofifa.org/players/4/19/215914.png\n",
            "                                       ...                      \n",
            "GKHandling                                                    12\n",
            "GKKicking                                                     10\n",
            "GKPositioning                                                  7\n",
            "GKReflexes                                                    10\n",
            "Release Clause                                           €121.3M\n",
            "Name: 14, Length: 89, dtype: object\n"
          ],
          "name": "stdout"
        }
      ]
    },
    {
      "cell_type": "code",
      "metadata": {
        "colab": {
          "base_uri": "https://localhost:8080/"
        },
        "id": "as487KZPClJs",
        "outputId": "92fc636b-26e7-4740-83f6-5a950345d5f1"
      },
      "source": [
        "sub2 = fifa2019.loc[2:16]\r\n",
        "print(sub2)"
      ],
      "execution_count": 64,
      "outputs": [
        {
          "output_type": "stream",
          "text": [
            "    Unnamed: 0      ID  ... GKReflexes  Release Clause\n",
            "2            2  190871  ...       11.0         €228.1M\n",
            "3            3  193080  ...       94.0         €138.6M\n",
            "4            4  192985  ...       13.0         €196.4M\n",
            "5            5  183277  ...        8.0         €172.1M\n",
            "6            6  177003  ...        9.0         €137.4M\n",
            "7            7  176580  ...       37.0           €164M\n",
            "8            8  155862  ...       11.0         €104.6M\n",
            "9            9  200389  ...       89.0         €144.5M\n",
            "10          10  188545  ...       10.0         €127.1M\n",
            "11          11  182521  ...       10.0         €156.8M\n",
            "12          12  182493  ...       15.0          €90.2M\n",
            "13          13  168542  ...       12.0           €111M\n",
            "14          14  215914  ...       10.0         €121.3M\n",
            "15          15  211110  ...        8.0         €153.5M\n",
            "16          16  202126  ...       11.0         €160.7M\n",
            "\n",
            "[15 rows x 89 columns]\n"
          ],
          "name": "stdout"
        }
      ]
    },
    {
      "cell_type": "code",
      "metadata": {
        "colab": {
          "base_uri": "https://localhost:8080/"
        },
        "id": "6i0QESa2CoP6",
        "outputId": "af9f8e38-1c5c-4a86-bdf2-86d53e28d6c2"
      },
      "source": [
        "sub3 = fifa2019.loc[:, ['Name', 'Preferred Foot']]\r\n",
        "print(sub3)"
      ],
      "execution_count": 65,
      "outputs": [
        {
          "output_type": "stream",
          "text": [
            "                    Name Preferred Foot\n",
            "0               L. Messi           Left\n",
            "1      Cristiano Ronaldo          Right\n",
            "2              Neymar Jr          Right\n",
            "3                 De Gea          Right\n",
            "4           K. De Bruyne          Right\n",
            "...                  ...            ...\n",
            "10407          Luis Ruiz           Left\n",
            "10408          A. Hunter          Right\n",
            "10409           L. Owusu          Right\n",
            "10410           J. Phojo          Right\n",
            "10411        L. Rougeaux          Right\n",
            "\n",
            "[10412 rows x 2 columns]\n"
          ],
          "name": "stdout"
        }
      ]
    },
    {
      "cell_type": "code",
      "metadata": {
        "colab": {
          "base_uri": "https://localhost:8080/"
        },
        "id": "x1R5_PBECx6u",
        "outputId": "99016561-9a3b-4b58-dd4a-900472990ba5"
      },
      "source": [
        "sub4 = fifa2019.iloc[0:10, 1:3]\r\n",
        "print(sub4)"
      ],
      "execution_count": 66,
      "outputs": [
        {
          "output_type": "stream",
          "text": [
            "       ID               Name\n",
            "0  158023           L. Messi\n",
            "1   20801  Cristiano Ronaldo\n",
            "2  190871          Neymar Jr\n",
            "3  193080             De Gea\n",
            "4  192985       K. De Bruyne\n",
            "5  183277          E. Hazard\n",
            "6  177003          L. Modrić\n",
            "7  176580          L. Suárez\n",
            "8  155862       Sergio Ramos\n",
            "9  200389           J. Oblak\n"
          ],
          "name": "stdout"
        }
      ]
    },
    {
      "cell_type": "code",
      "metadata": {
        "colab": {
          "base_uri": "https://localhost:8080/"
        },
        "id": "SnHQ6tdaC5xr",
        "outputId": "e88656f2-809a-43b5-90ab-6245cd8de48f"
      },
      "source": [
        "korea_player = fifa2019['Nationality'] == 'Korea Republic'\r\n",
        "sub5 = fifa2019.loc[korea_player]\r\n",
        "print(korea_player)\r\n",
        "print(sub5)"
      ],
      "execution_count": 67,
      "outputs": [
        {
          "output_type": "stream",
          "text": [
            "0        False\n",
            "1        False\n",
            "2        False\n",
            "3        False\n",
            "4        False\n",
            "         ...  \n",
            "10407    False\n",
            "10408    False\n",
            "10409    False\n",
            "10410    False\n",
            "10411    False\n",
            "Name: Nationality, Length: 10412, dtype: bool\n",
            "       Unnamed: 0      ID  ... GKReflexes  Release Clause\n",
            "125           125  200104  ...       10.0          €71.2M\n",
            "1295         1295  180283  ...       10.0          €14.3M\n",
            "1407         1407  182152  ...        9.0          €12.8M\n",
            "2002         2002  211927  ...        8.0          €17.6M\n",
            "2021         2021  221671  ...        8.0          €13.8M\n",
            "...           ...     ...  ...        ...             ...\n",
            "10206       10206  213314  ...       65.0           €798K\n",
            "10222       10222  180293  ...       16.0           €195K\n",
            "10255       10255  232269  ...       14.0           €894K\n",
            "10331       10331  212066  ...       15.0           €696K\n",
            "10355       10355  218471  ...       10.0             NaN\n",
            "\n",
            "[143 rows x 89 columns]\n"
          ],
          "name": "stdout"
        }
      ]
    },
    {
      "cell_type": "code",
      "metadata": {
        "colab": {
          "base_uri": "https://localhost:8080/"
        },
        "id": "QRwmeyFTDElE",
        "outputId": "fa2b82de-1558-41fb-bc21-2148d171bd76"
      },
      "source": [
        "sub6 = sub5['Name']\r\n",
        "print(sub6)"
      ],
      "execution_count": 68,
      "outputs": [
        {
          "output_type": "stream",
          "text": [
            "125               H. Son\n",
            "1295       Ki Sung Yueng\n",
            "1407        Koo Ja Cheol\n",
            "2002     Kwon Chang Hoon\n",
            "2021        Lee Jae Sung\n",
            "              ...       \n",
            "10206       Ham Seok Min\n",
            "10222       Park Won Jae\n",
            "10255      Heo Yong Joon\n",
            "10331          Lee Ki Je\n",
            "10355        Kim Min Woo\n",
            "Name: Name, Length: 143, dtype: object\n"
          ],
          "name": "stdout"
        }
      ]
    }
  ]
}