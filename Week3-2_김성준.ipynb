{
  "nbformat": 4,
  "nbformat_minor": 0,
  "metadata": {
    "celltoolbar": "Edit Metadata",
    "kernelspec": {
      "display_name": "Python 3",
      "language": "python",
      "name": "python3"
    },
    "language_info": {
      "codemirror_mode": {
        "name": "ipython",
        "version": 3
      },
      "file_extension": ".py",
      "mimetype": "text/x-python",
      "name": "python",
      "nbconvert_exporter": "python",
      "pygments_lexer": "ipython3",
      "version": "3.7.6"
    },
    "latex_envs": {
      "LaTeX_envs_menu_present": true,
      "autoclose": false,
      "autocomplete": true,
      "bibliofile": "biblio.bib",
      "cite_by": "apalike",
      "current_citInitial": 1,
      "eqLabelWithNumbers": true,
      "eqNumInitial": 1,
      "hotkeys": {
        "equation": "Ctrl-E",
        "itemize": "Ctrl-I"
      },
      "labels_anchors": false,
      "latex_user_defs": false,
      "report_style_numbering": false,
      "user_envs_cfg": false
    },
    "colab": {
      "name": "Week3-2_김성준.ipynb",
      "provenance": [],
      "collapsed_sections": [],
      "include_colab_link": true
    }
  },
  "cells": [
    {
      "cell_type": "markdown",
      "metadata": {
        "id": "view-in-github",
        "colab_type": "text"
      },
      "source": [
        "<a href=\"https://colab.research.google.com/github/SWeat-python-weekend-study/seongjun_kim/blob/assignment/Week3-2_%EA%B9%80%EC%84%B1%EC%A4%80.ipynb\" target=\"_parent\"><img src=\"https://colab.research.google.com/assets/colab-badge.svg\" alt=\"Open In Colab\"/></a>"
      ]
    },
    {
      "cell_type": "markdown",
      "metadata": {
        "school_cell_uuid": "83a5dc84908a47c89462de881b5eb17c",
        "id": "gIeYVY0SYwNk"
      },
      "source": [
        "# 3.5 데이터프레임 인덱스 조작"
      ]
    },
    {
      "cell_type": "markdown",
      "metadata": {
        "school_cell_uuid": "5b8a7444f43c480ba18ec7ff4bbe3dc6",
        "id": "DbYYFs49YwN1"
      },
      "source": [
        "## 데이터프레임 인덱스 설정 및 제거"
      ]
    },
    {
      "cell_type": "markdown",
      "metadata": {
        "school_cell_uuid": "1a2853c8796d4cb0a17a3cde44ce7580",
        "id": "I52m08hQYwN3"
      },
      "source": [
        "때로는 데이터프레임에 인덱스로 들어가 있어야 할 데이터가 일반 데이터 열에 들어가 있거나 반대로 일반 데이터 열이어야 할 것이 인덱스로 되어 있을 수 있다. 이 때는 `set_index` 명령이나 `reset_index` 명령으로 인덱스와 일반 데이터 열을 교환할 수 있다.\n",
        "\n",
        "* `set_index` : 기존의 행 인덱스를 제거하고 데이터 열 중 하나를 인덱스로 설정\n",
        "* `reset_index` : 기존의 행 인덱스를 제거하고 인덱스를 데이터 열로 추가"
      ]
    },
    {
      "cell_type": "code",
      "metadata": {
        "id": "xoMwMvnMZJBw"
      },
      "source": [
        "import pandas as pd\r\n",
        "import numpy as np"
      ],
      "execution_count": 1,
      "outputs": []
    },
    {
      "cell_type": "code",
      "metadata": {
        "school_cell_uuid": "fcede1948a384f49872e20d8b5189d0a",
        "id": "4Aw-NFryYwN4",
        "colab": {
          "base_uri": "https://localhost:8080/",
          "height": 204
        },
        "outputId": "a03997ac-b014-49cc-d971-40d2072b0974"
      },
      "source": [
        "np.random.seed(0)\n",
        "df1 = pd.DataFrame(np.vstack([list('ABCDE'),\n",
        "                              np.round(np.random.rand(3, 5), 2)]).T,\n",
        "                   columns=[\"C1\", \"C2\", \"C3\", \"C4\"])\n",
        "df1"
      ],
      "execution_count": 2,
      "outputs": [
        {
          "output_type": "execute_result",
          "data": {
            "text/html": [
              "<div>\n",
              "<style scoped>\n",
              "    .dataframe tbody tr th:only-of-type {\n",
              "        vertical-align: middle;\n",
              "    }\n",
              "\n",
              "    .dataframe tbody tr th {\n",
              "        vertical-align: top;\n",
              "    }\n",
              "\n",
              "    .dataframe thead th {\n",
              "        text-align: right;\n",
              "    }\n",
              "</style>\n",
              "<table border=\"1\" class=\"dataframe\">\n",
              "  <thead>\n",
              "    <tr style=\"text-align: right;\">\n",
              "      <th></th>\n",
              "      <th>C1</th>\n",
              "      <th>C2</th>\n",
              "      <th>C3</th>\n",
              "      <th>C4</th>\n",
              "    </tr>\n",
              "  </thead>\n",
              "  <tbody>\n",
              "    <tr>\n",
              "      <th>0</th>\n",
              "      <td>A</td>\n",
              "      <td>0.55</td>\n",
              "      <td>0.65</td>\n",
              "      <td>0.79</td>\n",
              "    </tr>\n",
              "    <tr>\n",
              "      <th>1</th>\n",
              "      <td>B</td>\n",
              "      <td>0.72</td>\n",
              "      <td>0.44</td>\n",
              "      <td>0.53</td>\n",
              "    </tr>\n",
              "    <tr>\n",
              "      <th>2</th>\n",
              "      <td>C</td>\n",
              "      <td>0.6</td>\n",
              "      <td>0.89</td>\n",
              "      <td>0.57</td>\n",
              "    </tr>\n",
              "    <tr>\n",
              "      <th>3</th>\n",
              "      <td>D</td>\n",
              "      <td>0.54</td>\n",
              "      <td>0.96</td>\n",
              "      <td>0.93</td>\n",
              "    </tr>\n",
              "    <tr>\n",
              "      <th>4</th>\n",
              "      <td>E</td>\n",
              "      <td>0.42</td>\n",
              "      <td>0.38</td>\n",
              "      <td>0.07</td>\n",
              "    </tr>\n",
              "  </tbody>\n",
              "</table>\n",
              "</div>"
            ],
            "text/plain": [
              "  C1    C2    C3    C4\n",
              "0  A  0.55  0.65  0.79\n",
              "1  B  0.72  0.44  0.53\n",
              "2  C   0.6  0.89  0.57\n",
              "3  D  0.54  0.96  0.93\n",
              "4  E  0.42  0.38  0.07"
            ]
          },
          "metadata": {
            "tags": []
          },
          "execution_count": 2
        }
      ]
    },
    {
      "cell_type": "markdown",
      "metadata": {
        "id": "aUcUnUt0YwOA"
      },
      "source": [
        "```{margin}\n",
        "`set_index`\n",
        "```"
      ]
    },
    {
      "cell_type": "markdown",
      "metadata": {
        "school_cell_uuid": "34135321278a4a5bb52b17a4dd031a17",
        "id": "INi8UCvAYwOB"
      },
      "source": [
        "`set_index` 메서드로 특정한 열을 인덱스로 설정할 수 있다. 이 때 기존의 인덱스는 없어진다."
      ]
    },
    {
      "cell_type": "code",
      "metadata": {
        "school_cell_uuid": "4c416569dec34d678bcb2cc4f86569a1",
        "id": "kNNv2C04YwOC",
        "colab": {
          "base_uri": "https://localhost:8080/",
          "height": 235
        },
        "outputId": "351f528e-9b75-4463-e363-b37ef286c5df"
      },
      "source": [
        "df2 = df1.set_index(\"C1\")\n",
        "df2"
      ],
      "execution_count": 3,
      "outputs": [
        {
          "output_type": "execute_result",
          "data": {
            "text/html": [
              "<div>\n",
              "<style scoped>\n",
              "    .dataframe tbody tr th:only-of-type {\n",
              "        vertical-align: middle;\n",
              "    }\n",
              "\n",
              "    .dataframe tbody tr th {\n",
              "        vertical-align: top;\n",
              "    }\n",
              "\n",
              "    .dataframe thead th {\n",
              "        text-align: right;\n",
              "    }\n",
              "</style>\n",
              "<table border=\"1\" class=\"dataframe\">\n",
              "  <thead>\n",
              "    <tr style=\"text-align: right;\">\n",
              "      <th></th>\n",
              "      <th>C2</th>\n",
              "      <th>C3</th>\n",
              "      <th>C4</th>\n",
              "    </tr>\n",
              "    <tr>\n",
              "      <th>C1</th>\n",
              "      <th></th>\n",
              "      <th></th>\n",
              "      <th></th>\n",
              "    </tr>\n",
              "  </thead>\n",
              "  <tbody>\n",
              "    <tr>\n",
              "      <th>A</th>\n",
              "      <td>0.55</td>\n",
              "      <td>0.65</td>\n",
              "      <td>0.79</td>\n",
              "    </tr>\n",
              "    <tr>\n",
              "      <th>B</th>\n",
              "      <td>0.72</td>\n",
              "      <td>0.44</td>\n",
              "      <td>0.53</td>\n",
              "    </tr>\n",
              "    <tr>\n",
              "      <th>C</th>\n",
              "      <td>0.6</td>\n",
              "      <td>0.89</td>\n",
              "      <td>0.57</td>\n",
              "    </tr>\n",
              "    <tr>\n",
              "      <th>D</th>\n",
              "      <td>0.54</td>\n",
              "      <td>0.96</td>\n",
              "      <td>0.93</td>\n",
              "    </tr>\n",
              "    <tr>\n",
              "      <th>E</th>\n",
              "      <td>0.42</td>\n",
              "      <td>0.38</td>\n",
              "      <td>0.07</td>\n",
              "    </tr>\n",
              "  </tbody>\n",
              "</table>\n",
              "</div>"
            ],
            "text/plain": [
              "      C2    C3    C4\n",
              "C1                  \n",
              "A   0.55  0.65  0.79\n",
              "B   0.72  0.44  0.53\n",
              "C    0.6  0.89  0.57\n",
              "D   0.54  0.96  0.93\n",
              "E   0.42  0.38  0.07"
            ]
          },
          "metadata": {
            "tags": []
          },
          "execution_count": 3
        }
      ]
    },
    {
      "cell_type": "markdown",
      "metadata": {
        "school_cell_uuid": "f1f1dcb4f40c407bb157b7d56af89709",
        "id": "x-hhIepDYwOD"
      },
      "source": [
        "마찬가지로 C2열을 인덱스로 지정하면 기존의 인덱스는 사라진다."
      ]
    },
    {
      "cell_type": "code",
      "metadata": {
        "school_cell_uuid": "fb681e62abb54f61877bc3e58d400098",
        "id": "HlhB2TgmYwOE",
        "colab": {
          "base_uri": "https://localhost:8080/",
          "height": 235
        },
        "outputId": "e69a35f0-8bd5-40ef-d066-7a971eef9101"
      },
      "source": [
        "df2.set_index(\"C2\")"
      ],
      "execution_count": 4,
      "outputs": [
        {
          "output_type": "execute_result",
          "data": {
            "text/html": [
              "<div>\n",
              "<style scoped>\n",
              "    .dataframe tbody tr th:only-of-type {\n",
              "        vertical-align: middle;\n",
              "    }\n",
              "\n",
              "    .dataframe tbody tr th {\n",
              "        vertical-align: top;\n",
              "    }\n",
              "\n",
              "    .dataframe thead th {\n",
              "        text-align: right;\n",
              "    }\n",
              "</style>\n",
              "<table border=\"1\" class=\"dataframe\">\n",
              "  <thead>\n",
              "    <tr style=\"text-align: right;\">\n",
              "      <th></th>\n",
              "      <th>C3</th>\n",
              "      <th>C4</th>\n",
              "    </tr>\n",
              "    <tr>\n",
              "      <th>C2</th>\n",
              "      <th></th>\n",
              "      <th></th>\n",
              "    </tr>\n",
              "  </thead>\n",
              "  <tbody>\n",
              "    <tr>\n",
              "      <th>0.55</th>\n",
              "      <td>0.65</td>\n",
              "      <td>0.79</td>\n",
              "    </tr>\n",
              "    <tr>\n",
              "      <th>0.72</th>\n",
              "      <td>0.44</td>\n",
              "      <td>0.53</td>\n",
              "    </tr>\n",
              "    <tr>\n",
              "      <th>0.6</th>\n",
              "      <td>0.89</td>\n",
              "      <td>0.57</td>\n",
              "    </tr>\n",
              "    <tr>\n",
              "      <th>0.54</th>\n",
              "      <td>0.96</td>\n",
              "      <td>0.93</td>\n",
              "    </tr>\n",
              "    <tr>\n",
              "      <th>0.42</th>\n",
              "      <td>0.38</td>\n",
              "      <td>0.07</td>\n",
              "    </tr>\n",
              "  </tbody>\n",
              "</table>\n",
              "</div>"
            ],
            "text/plain": [
              "        C3    C4\n",
              "C2              \n",
              "0.55  0.65  0.79\n",
              "0.72  0.44  0.53\n",
              "0.6   0.89  0.57\n",
              "0.54  0.96  0.93\n",
              "0.42  0.38  0.07"
            ]
          },
          "metadata": {
            "tags": []
          },
          "execution_count": 4
        }
      ]
    },
    {
      "cell_type": "markdown",
      "metadata": {
        "id": "wj_RBy3AYwOF"
      },
      "source": [
        "```{margin}\n",
        "`reset_index`\n",
        "```"
      ]
    },
    {
      "cell_type": "markdown",
      "metadata": {
        "school_cell_uuid": "7f70297137b34365a5c2eedb16af1ee5",
        "id": "_BtS-8YnYwOF"
      },
      "source": [
        "반대로 `reset_index` 메서드를 쓰면 인덱스를 보통의 자료열로 바꿀 수도 있다. 이 때 인덱스 열은 자료열의 가장 선두로 삽입된다. 데이터프레임의 인덱스는 정수로 된 디폴트 인덱스로 바뀐다."
      ]
    },
    {
      "cell_type": "code",
      "metadata": {
        "school_cell_uuid": "9e02d2e2d00f49be9edb6d726e100d8c",
        "id": "W1nWJ8noYwOG",
        "colab": {
          "base_uri": "https://localhost:8080/",
          "height": 204
        },
        "outputId": "95619f49-b75c-42ba-9eb2-4828ce528393"
      },
      "source": [
        "df2.reset_index()"
      ],
      "execution_count": 5,
      "outputs": [
        {
          "output_type": "execute_result",
          "data": {
            "text/html": [
              "<div>\n",
              "<style scoped>\n",
              "    .dataframe tbody tr th:only-of-type {\n",
              "        vertical-align: middle;\n",
              "    }\n",
              "\n",
              "    .dataframe tbody tr th {\n",
              "        vertical-align: top;\n",
              "    }\n",
              "\n",
              "    .dataframe thead th {\n",
              "        text-align: right;\n",
              "    }\n",
              "</style>\n",
              "<table border=\"1\" class=\"dataframe\">\n",
              "  <thead>\n",
              "    <tr style=\"text-align: right;\">\n",
              "      <th></th>\n",
              "      <th>C1</th>\n",
              "      <th>C2</th>\n",
              "      <th>C3</th>\n",
              "      <th>C4</th>\n",
              "    </tr>\n",
              "  </thead>\n",
              "  <tbody>\n",
              "    <tr>\n",
              "      <th>0</th>\n",
              "      <td>A</td>\n",
              "      <td>0.55</td>\n",
              "      <td>0.65</td>\n",
              "      <td>0.79</td>\n",
              "    </tr>\n",
              "    <tr>\n",
              "      <th>1</th>\n",
              "      <td>B</td>\n",
              "      <td>0.72</td>\n",
              "      <td>0.44</td>\n",
              "      <td>0.53</td>\n",
              "    </tr>\n",
              "    <tr>\n",
              "      <th>2</th>\n",
              "      <td>C</td>\n",
              "      <td>0.6</td>\n",
              "      <td>0.89</td>\n",
              "      <td>0.57</td>\n",
              "    </tr>\n",
              "    <tr>\n",
              "      <th>3</th>\n",
              "      <td>D</td>\n",
              "      <td>0.54</td>\n",
              "      <td>0.96</td>\n",
              "      <td>0.93</td>\n",
              "    </tr>\n",
              "    <tr>\n",
              "      <th>4</th>\n",
              "      <td>E</td>\n",
              "      <td>0.42</td>\n",
              "      <td>0.38</td>\n",
              "      <td>0.07</td>\n",
              "    </tr>\n",
              "  </tbody>\n",
              "</table>\n",
              "</div>"
            ],
            "text/plain": [
              "  C1    C2    C3    C4\n",
              "0  A  0.55  0.65  0.79\n",
              "1  B  0.72  0.44  0.53\n",
              "2  C   0.6  0.89  0.57\n",
              "3  D  0.54  0.96  0.93\n",
              "4  E  0.42  0.38  0.07"
            ]
          },
          "metadata": {
            "tags": []
          },
          "execution_count": 5
        }
      ]
    },
    {
      "cell_type": "markdown",
      "metadata": {
        "school_cell_uuid": "ef36cbec78054e9a8b546fae48404637",
        "id": "7mBA8R7eYwOH"
      },
      "source": [
        "`reset_index` 메서드를 호출할 때 인수 `drop=True` 로 설정하면 인덱스 열을 보통의 자료열로 올리는 것이 아니라 그냥 버리게 된다."
      ]
    },
    {
      "cell_type": "code",
      "metadata": {
        "school_cell_uuid": "fe4ed95e84e94338a8e3b6620aebc533",
        "id": "HP2UCjN1YwOI",
        "colab": {
          "base_uri": "https://localhost:8080/",
          "height": 204
        },
        "outputId": "04f8e911-27d9-4340-cadb-2e77ac28e193"
      },
      "source": [
        "df2.reset_index(drop=True)"
      ],
      "execution_count": 6,
      "outputs": [
        {
          "output_type": "execute_result",
          "data": {
            "text/html": [
              "<div>\n",
              "<style scoped>\n",
              "    .dataframe tbody tr th:only-of-type {\n",
              "        vertical-align: middle;\n",
              "    }\n",
              "\n",
              "    .dataframe tbody tr th {\n",
              "        vertical-align: top;\n",
              "    }\n",
              "\n",
              "    .dataframe thead th {\n",
              "        text-align: right;\n",
              "    }\n",
              "</style>\n",
              "<table border=\"1\" class=\"dataframe\">\n",
              "  <thead>\n",
              "    <tr style=\"text-align: right;\">\n",
              "      <th></th>\n",
              "      <th>C2</th>\n",
              "      <th>C3</th>\n",
              "      <th>C4</th>\n",
              "    </tr>\n",
              "  </thead>\n",
              "  <tbody>\n",
              "    <tr>\n",
              "      <th>0</th>\n",
              "      <td>0.55</td>\n",
              "      <td>0.65</td>\n",
              "      <td>0.79</td>\n",
              "    </tr>\n",
              "    <tr>\n",
              "      <th>1</th>\n",
              "      <td>0.72</td>\n",
              "      <td>0.44</td>\n",
              "      <td>0.53</td>\n",
              "    </tr>\n",
              "    <tr>\n",
              "      <th>2</th>\n",
              "      <td>0.6</td>\n",
              "      <td>0.89</td>\n",
              "      <td>0.57</td>\n",
              "    </tr>\n",
              "    <tr>\n",
              "      <th>3</th>\n",
              "      <td>0.54</td>\n",
              "      <td>0.96</td>\n",
              "      <td>0.93</td>\n",
              "    </tr>\n",
              "    <tr>\n",
              "      <th>4</th>\n",
              "      <td>0.42</td>\n",
              "      <td>0.38</td>\n",
              "      <td>0.07</td>\n",
              "    </tr>\n",
              "  </tbody>\n",
              "</table>\n",
              "</div>"
            ],
            "text/plain": [
              "     C2    C3    C4\n",
              "0  0.55  0.65  0.79\n",
              "1  0.72  0.44  0.53\n",
              "2   0.6  0.89  0.57\n",
              "3  0.54  0.96  0.93\n",
              "4  0.42  0.38  0.07"
            ]
          },
          "metadata": {
            "tags": []
          },
          "execution_count": 6
        }
      ]
    },
    {
      "cell_type": "markdown",
      "metadata": {
        "bootstrap": {
          "panel": {
            "class": "panel-default"
          }
        },
        "school_cell_uuid": "f0df724ef2b74bc29190c2a96a96f6a9",
        "id": "L09QQ52OYwOK"
      },
      "source": [
        "**<스스로> 연습문제**\n",
        "````{admonition} 연습 문제 4.5.1\n",
        "\n",
        "5명의 학생의 국어, 영어, 수학 점수를 나타내는 데이터프레임을 다음과 같이 만든다.\n",
        "\n",
        "1. 학생 이름을 나타내는 열을 포함시키지 않고 데이터프레임 `df_score1` 을 생성한 후, `df_score1.index` 속성에 학생 이름을 나타내는 열을 지정하여 인덱스를 지정한다. `reset_index` 명령으로 이 인덱스 열을 명령으로 일반 데이터열로 바꾸여 데이터프레임 `df_score2`을 만든다.\n",
        "2. 학생 이름을 나타내는 열이 일반 데이터 열을 포함하는 데이터프레임 `df_score2`에 `set_index` 명령을 적용하여 다시 학생 이름을 나타내는 열을 인덱스로 변경한다.\n",
        "````"
      ]
    },
    {
      "cell_type": "code",
      "metadata": {
        "colab": {
          "base_uri": "https://localhost:8080/"
        },
        "id": "exUHQAJb0_ef",
        "outputId": "b331afa1-b009-4c62-af7b-2d5d064fe133"
      },
      "source": [
        "import pandas as pd\r\n",
        "import numpy as np\r\n",
        "\r\n",
        "df_score1 = pd.DataFrame((np.random.rand(5, 3)), columns=[\"국어\", \"영어\", \"수학\"])\r\n",
        "df_score1.index = ['김하나', '이두리', '삼세번', '사각형', '오뚜기']\r\n",
        "\r\n",
        "print(df_score1)\r\n",
        "print('\\n')\r\n",
        "\r\n",
        "df_score2 = df_score1.reset_index()\r\n",
        "print(df_score2)\r\n",
        "print('\\n')\r\n",
        "\r\n",
        "df_score2 = df_score2.set_index('index')\r\n",
        "print(df_score2)"
      ],
      "execution_count": 8,
      "outputs": [
        {
          "output_type": "stream",
          "text": [
            "           국어        영어        수학\n",
            "김하나  0.264556  0.774234  0.456150\n",
            "이두리  0.568434  0.018790  0.617635\n",
            "삼세번  0.612096  0.616934  0.943748\n",
            "사각형  0.681820  0.359508  0.437032\n",
            "오뚜기  0.697631  0.060225  0.666767\n",
            "\n",
            "\n",
            "  index        국어        영어        수학\n",
            "0   김하나  0.264556  0.774234  0.456150\n",
            "1   이두리  0.568434  0.018790  0.617635\n",
            "2   삼세번  0.612096  0.616934  0.943748\n",
            "3   사각형  0.681820  0.359508  0.437032\n",
            "4   오뚜기  0.697631  0.060225  0.666767\n",
            "\n",
            "\n",
            "             국어        영어        수학\n",
            "index                              \n",
            "김하나    0.264556  0.774234  0.456150\n",
            "이두리    0.568434  0.018790  0.617635\n",
            "삼세번    0.612096  0.616934  0.943748\n",
            "사각형    0.681820  0.359508  0.437032\n",
            "오뚜기    0.697631  0.060225  0.666767\n"
          ],
          "name": "stdout"
        }
      ]
    },
    {
      "cell_type": "markdown",
      "metadata": {
        "school_cell_uuid": "aed06e2ba78d4092ae9956946788dd96",
        "id": "vj2t9yz5btyk"
      },
      "source": [
        "## 행 인덱스와 열 인덱스 교환"
      ]
    },
    {
      "cell_type": "markdown",
      "metadata": {
        "id": "p2ayp4mKbtyk"
      },
      "source": [
        "```{margin}\n",
        "`stack`\n",
        "```"
      ]
    },
    {
      "cell_type": "markdown",
      "metadata": {
        "id": "3YGDMEq1btyk"
      },
      "source": [
        "```{margin}\n",
        "`unstack`\n",
        "```"
      ]
    },
    {
      "cell_type": "markdown",
      "metadata": {
        "id": "C6WEOocwbtyl"
      },
      "source": [
        "`stack` 메서드나 `unstack` 메서드를 쓰면 열 인덱스를 행 인덱스로 바꾸거나 반대로 행 인덱스를 열 인덱스로 바꿀 수 있다.\n",
        "\n",
        "* `stack`\n",
        " * 열 인덱스 -> 행 인덱스로 변환\n",
        " * stack 상단 헤더 컬럼들을 index 기준으로 각각 재그룹화 (기존 인덱스의 하위 레벨로 그룹핑)\n",
        "\n",
        "* `unstack`\n",
        " * 행 인덱스 -> 열 인덱스로 변환\n",
        " * unstack 멀티 인덱스를 컬럼 기준으로 재그룹화 시키는 방법 (기존 헤더의 하위 레벨로 그룹핑)\n",
        "\n",
        "`stack` 메서드를 실행하면 열 인덱스가 반시계 방향으로 90도 회전한 것과 비슷한 모양이 된다. 마찬가지로 `unstack` 메서드를 실행하면 행 인덱스가 시계 방향으로 90도 회전한 것과 비슷하다. 인덱스를 지정할 때는 문자열 이름과 순서를 표시하는 숫자 인덱스를 모두 사용할 수 있다."
      ]
    },
    {
      "cell_type": "code",
      "metadata": {
        "id": "xElX2ulNcHYL"
      },
      "source": [
        "_f = pd.DataFrame([[1,'A'], [2,'B']], columns=['C1','C2'], index=['I1','I2'])\r\n",
        "_f"
      ],
      "execution_count": null,
      "outputs": []
    },
    {
      "cell_type": "code",
      "metadata": {
        "id": "Ky6_zvyxcVQ-"
      },
      "source": [
        "_f.stack()"
      ],
      "execution_count": null,
      "outputs": []
    },
    {
      "cell_type": "code",
      "metadata": {
        "id": "zr3LYnpCcn98"
      },
      "source": [
        "_f.stack().unstack()"
      ],
      "execution_count": null,
      "outputs": []
    }
  ]
}